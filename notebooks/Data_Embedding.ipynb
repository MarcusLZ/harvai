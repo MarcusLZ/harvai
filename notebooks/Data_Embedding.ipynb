{
 "cells": [
  {
   "cell_type": "code",
   "execution_count": 1,
   "id": "ac73eea4",
   "metadata": {},
   "outputs": [],
   "source": [
    "%load_ext autoreload\n",
    "%autoreload 2"
   ]
  },
  {
   "cell_type": "code",
   "execution_count": 17,
   "id": "8f6cbff4",
   "metadata": {},
   "outputs": [],
   "source": [
    "import pandas as pd\n",
    "import numpy as np\n",
    "import string\n"
   ]
  },
  {
   "cell_type": "code",
   "execution_count": null,
   "id": "6d17b52a",
   "metadata": {},
   "outputs": [],
   "source": [
    "from harvai.data import get_clean_preproc_data\n",
    "data = get_clean_preproc_data()\n",
    "data.head()"
   ]
  },
  {
   "cell_type": "raw",
   "id": "d6ef018e",
   "metadata": {},
   "source": [
    "Pour Word2Vec Embedding, uniquement le preproc suivant : retrait ponctuation, symboles, numbers(?)\n",
    "\n",
    "Nous allons donc partir de la colonne ['article_content'] du preprocessing précédent et faire les modifications suivantes :\n",
    "> ['article_wo_numbers']\n",
    "> ['article_wo_punctuation']\n",
    "> Tokenization + LowerCase (Keras.Tokenizer)\n"
   ]
  },
  {
   "cell_type": "code",
   "execution_count": 20,
   "id": "ac1dd13c",
   "metadata": {},
   "outputs": [],
   "source": [
    "embedding_df = data[['article_content']].copy()"
   ]
  },
  {
   "cell_type": "code",
   "execution_count": 21,
   "id": "d4f1c73f",
   "metadata": {},
   "outputs": [],
   "source": [
    "# retirer les chiffres\n",
    "def remove_numbers(x):\n",
    "    return ''.join([i for i in x if not i.isdigit()])\n",
    "embedding_df['article_wo_numbers'] = embedding_df['article_content'].apply(lambda x : remove_numbers(x))"
   ]
  },
  {
   "cell_type": "code",
   "execution_count": 22,
   "id": "0861f8f8",
   "metadata": {},
   "outputs": [],
   "source": [
    "# retirer Punctuation (accents /caractères spéciaux ) \n",
    "def remove_punctuation(x):\n",
    "    for punctuation in string.punctuation :\n",
    "        x = x.replace(punctuation,\"\")\n",
    "    return x\n",
    "data['article_wo_punctuation'] = embedding_df['article_wo_numbers'].apply(lambda x : remove_punctuation(x))"
   ]
  },
  {
   "cell_type": "code",
   "execution_count": 23,
   "id": "27b0c20b",
   "metadata": {},
   "outputs": [
    {
     "data": {
      "text/html": [
       "<div>\n",
       "<style scoped>\n",
       "    .dataframe tbody tr th:only-of-type {\n",
       "        vertical-align: middle;\n",
       "    }\n",
       "\n",
       "    .dataframe tbody tr th {\n",
       "        vertical-align: top;\n",
       "    }\n",
       "\n",
       "    .dataframe thead th {\n",
       "        text-align: right;\n",
       "    }\n",
       "</style>\n",
       "<table border=\"1\" class=\"dataframe\">\n",
       "  <thead>\n",
       "    <tr style=\"text-align: right;\">\n",
       "      <th></th>\n",
       "      <th>article_content</th>\n",
       "      <th>article_wo_numbers</th>\n",
       "    </tr>\n",
       "  </thead>\n",
       "  <tbody>\n",
       "    <tr>\n",
       "      <th>0</th>\n",
       "      <td>Pour l application du présent code, les termes...</td>\n",
       "      <td>Pour l application du présent code, les termes...</td>\n",
       "    </tr>\n",
       "    <tr>\n",
       "      <th>1</th>\n",
       "      <td>La définition des voiries nationales, départem...</td>\n",
       "      <td>La définition des voiries nationales, départem...</td>\n",
       "    </tr>\n",
       "    <tr>\n",
       "      <th>2</th>\n",
       "      <td>Les routes à grande circulation, quelle que so...</td>\n",
       "      <td>Les routes à grande circulation, quelle que so...</td>\n",
       "    </tr>\n",
       "    <tr>\n",
       "      <th>3</th>\n",
       "      <td>Le conducteur d un véhicule est responsable pé...</td>\n",
       "      <td>Le conducteur d un véhicule est responsable pé...</td>\n",
       "    </tr>\n",
       "    <tr>\n",
       "      <th>4</th>\n",
       "      <td>Par dérogation aux dispositions de l article L...</td>\n",
       "      <td>Par dérogation aux dispositions de l article L...</td>\n",
       "    </tr>\n",
       "    <tr>\n",
       "      <th>...</th>\n",
       "      <td>...</td>\n",
       "      <td>...</td>\n",
       "    </tr>\n",
       "    <tr>\n",
       "      <th>1144</th>\n",
       "      <td>I.- Lorsque ces informations sont adressées ...</td>\n",
       "      <td>I.- Lorsque ces informations sont adressées ...</td>\n",
       "    </tr>\n",
       "    <tr>\n",
       "      <th>1145</th>\n",
       "      <td>I.- Lorsque ces informations sont adressées ...</td>\n",
       "      <td>I.- Lorsque ces informations sont adressées ...</td>\n",
       "    </tr>\n",
       "    <tr>\n",
       "      <th>1146</th>\n",
       "      <td>Sont applicables en Nouvelle-Calédonie, en P...</td>\n",
       "      <td>Sont applicables en Nouvelle-Calédonie, en P...</td>\n",
       "    </tr>\n",
       "    <tr>\n",
       "      <th>1147</th>\n",
       "      <td>Le modèle de fiche descriptive de l état du v...</td>\n",
       "      <td>Le modèle de fiche descriptive de l état du v...</td>\n",
       "    </tr>\n",
       "    <tr>\n",
       "      <th>1148</th>\n",
       "      <td>Les données relatives à l enlèvement, à la ga...</td>\n",
       "      <td>Les données relatives à l enlèvement, à la ga...</td>\n",
       "    </tr>\n",
       "  </tbody>\n",
       "</table>\n",
       "<p>1149 rows × 2 columns</p>\n",
       "</div>"
      ],
      "text/plain": [
       "                                        article_content  \\\n",
       "0     Pour l application du présent code, les termes...   \n",
       "1     La définition des voiries nationales, départem...   \n",
       "2     Les routes à grande circulation, quelle que so...   \n",
       "3     Le conducteur d un véhicule est responsable pé...   \n",
       "4     Par dérogation aux dispositions de l article L...   \n",
       "...                                                 ...   \n",
       "1144    I.- Lorsque ces informations sont adressées ...   \n",
       "1145    I.- Lorsque ces informations sont adressées ...   \n",
       "1146    Sont applicables en Nouvelle-Calédonie, en P...   \n",
       "1147   Le modèle de fiche descriptive de l état du v...   \n",
       "1148   Les données relatives à l enlèvement, à la ga...   \n",
       "\n",
       "                                     article_wo_numbers  \n",
       "0     Pour l application du présent code, les termes...  \n",
       "1     La définition des voiries nationales, départem...  \n",
       "2     Les routes à grande circulation, quelle que so...  \n",
       "3     Le conducteur d un véhicule est responsable pé...  \n",
       "4     Par dérogation aux dispositions de l article L...  \n",
       "...                                                 ...  \n",
       "1144    I.- Lorsque ces informations sont adressées ...  \n",
       "1145    I.- Lorsque ces informations sont adressées ...  \n",
       "1146    Sont applicables en Nouvelle-Calédonie, en P...  \n",
       "1147   Le modèle de fiche descriptive de l état du v...  \n",
       "1148   Les données relatives à l enlèvement, à la ga...  \n",
       "\n",
       "[1149 rows x 2 columns]"
      ]
     },
     "execution_count": 23,
     "metadata": {},
     "output_type": "execute_result"
    }
   ],
   "source": [
    "embedding_df"
   ]
  },
  {
   "cell_type": "code",
   "execution_count": 28,
   "id": "00bb2722",
   "metadata": {},
   "outputs": [
    {
     "name": "stderr",
     "output_type": "stream",
     "text": [
      "2022-06-09 12:39:15.431852: W tensorflow/stream_executor/platform/default/dso_loader.cc:64] Could not load dynamic library 'libcudart.so.11.0'; dlerror: libcudart.so.11.0: cannot open shared object file: No such file or directory\n",
      "2022-06-09 12:39:15.431956: I tensorflow/stream_executor/cuda/cudart_stub.cc:29] Ignore above cudart dlerror if you do not have a GPU set up on your machine.\n"
     ]
    },
    {
     "name": "stdout",
     "output_type": "stream",
     "text": [
      "WARNING:tensorflow:From /home/clement/.pyenv/versions/3.8.12/envs/harvai/lib/python3.8/site-packages/tensorflow/python/ops/distributions/distribution.py:259: ReparameterizationType.__init__ (from tensorflow.python.ops.distributions.distribution) is deprecated and will be removed after 2019-01-01.\n",
      "Instructions for updating:\n",
      "The TensorFlow Distributions library has moved to TensorFlow Probability (https://github.com/tensorflow/probability). You should update all references to use `tfp.distributions` instead of `tf.distributions`.\n",
      "WARNING:tensorflow:From /home/clement/.pyenv/versions/3.8.12/envs/harvai/lib/python3.8/site-packages/tensorflow/python/ops/distributions/bernoulli.py:165: RegisterKL.__init__ (from tensorflow.python.ops.distributions.kullback_leibler) is deprecated and will be removed after 2019-01-01.\n",
      "Instructions for updating:\n",
      "The TensorFlow Distributions library has moved to TensorFlow Probability (https://github.com/tensorflow/probability). You should update all references to use `tfp.distributions` instead of `tf.distributions`.\n"
     ]
    }
   ],
   "source": [
    "from tensorflow.keras.preprocessing.text import Tokenizer"
   ]
  },
  {
   "cell_type": "code",
   "execution_count": 29,
   "id": "af76faa9",
   "metadata": {},
   "outputs": [],
   "source": [
    "tokenizer = Tokenizer()"
   ]
  },
  {
   "cell_type": "code",
   "execution_count": null,
   "id": "66f78935",
   "metadata": {},
   "outputs": [],
   "source": []
  }
 ],
 "metadata": {
  "kernelspec": {
   "display_name": "Python 3 (ipykernel)",
   "language": "python",
   "name": "python3"
  },
  "language_info": {
   "codemirror_mode": {
    "name": "ipython",
    "version": 3
   },
   "file_extension": ".py",
   "mimetype": "text/x-python",
   "name": "python",
   "nbconvert_exporter": "python",
   "pygments_lexer": "ipython3",
   "version": "3.8.12"
  },
  "toc": {
   "base_numbering": 1,
   "nav_menu": {},
   "number_sections": true,
   "sideBar": true,
   "skip_h1_title": false,
   "title_cell": "Table of Contents",
   "title_sidebar": "Contents",
   "toc_cell": false,
   "toc_position": {},
   "toc_section_display": true,
   "toc_window_display": false
  }
 },
 "nbformat": 4,
 "nbformat_minor": 5
}
