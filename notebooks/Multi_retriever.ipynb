{
 "cells": [
  {
   "cell_type": "code",
   "execution_count": 2,
   "id": "c212b986",
   "metadata": {},
   "outputs": [],
   "source": [
    "%load_ext autoreload\n",
    "%autoreload 2"
   ]
  },
  {
   "cell_type": "code",
   "execution_count": 83,
   "id": "70f12ee1-5e20-4a7c-bf35-f438124a560c",
   "metadata": {},
   "outputs": [],
   "source": [
    "from harvai.qa_model import get_answer"
   ]
  },
  {
   "cell_type": "code",
   "execution_count": 62,
   "id": "014d4d7a",
   "metadata": {},
   "outputs": [],
   "source": [
    "import pandas as pd\n",
    "import numpy as np\n",
    "import matplotlib.pyplot as plt\n",
    "from contextvars import Context\n",
    "from re import A\n",
    "from webbrowser import get\n",
    "from transformers import pipeline\n",
    "\n",
    "from harvai.data import preprocessing_user_input\n",
    "from harvai.nn_model import Nn_model\n",
    "from harvai.bm25 import Bm25\n",
    "from harvai.dpr import DPR\n",
    "from harvai.embedding import Embedding"
   ]
  },
  {
   "cell_type": "code",
   "execution_count": 5,
   "id": "81af7f90",
   "metadata": {
    "collapsed": true,
    "jupyter": {
     "outputs_hidden": true
    },
    "tags": []
   },
   "outputs": [
    {
     "name": "stderr",
     "output_type": "stream",
     "text": [
      "2022-06-23 19:12:43.883779: W tensorflow/stream_executor/platform/default/dso_loader.cc:64] Could not load dynamic library 'libcudart.so.11.0'; dlerror: libcudart.so.11.0: cannot open shared object file: No such file or directory\n",
      "2022-06-23 19:12:43.883898: I tensorflow/stream_executor/cuda/cudart_stub.cc:29] Ignore above cudart dlerror if you do not have a GPU set up on your machine.\n",
      "INFO - haystack.document_stores.base -  Numba not found, replacing njit() with no-op implementation. Enable it with 'pip install numba'.\n",
      "INFO - haystack.modeling.model.optimization -  apex not found, won't use it. See https://nvidia.github.io/apex/\n",
      "ERROR - root -  Failed to import 'magic' (from 'python-magic' and 'python-magic-bin' on Windows). FileTypeClassifier will not perform mimetype detection on extensionless files. Please make sure the necessary OS libraries are installed if you need this functionality.\n",
      "WARNING - haystack -  Object '__file__' is imported through a deprecated path. Please check out the docs for the new import path.\n",
      "WARNING - haystack -  Object '__file__' is imported through a deprecated path. Please check out the docs for the new import path.\n",
      "WARNING - haystack -  Object '__file__' is imported through a deprecated path. Please check out the docs for the new import path.\n",
      "WARNING - haystack -  Object '__file__' is imported through a deprecated path. Please check out the docs for the new import path.\n",
      "WARNING - haystack -  Object '__file__' is imported through a deprecated path. Please check out the docs for the new import path.\n",
      "WARNING - haystack -  Object '__file__' is imported through a deprecated path. Please check out the docs for the new import path.\n",
      "WARNING - haystack -  Object '__file__' is imported through a deprecated path. Please check out the docs for the new import path.\n",
      "WARNING - haystack -  Object '__file__' is imported through a deprecated path. Please check out the docs for the new import path.\n",
      "WARNING - haystack -  Object '__file__' is imported through a deprecated path. Please check out the docs for the new import path.\n",
      "WARNING - haystack -  Object '__file__' is imported through a deprecated path. Please check out the docs for the new import path.\n",
      "WARNING - haystack -  Object '__file__' is imported through a deprecated path. Please check out the docs for the new import path.\n",
      "WARNING - haystack -  Object '__file__' is imported through a deprecated path. Please check out the docs for the new import path.\n",
      "WARNING - haystack -  Object '__file__' is imported through a deprecated path. Please check out the docs for the new import path.\n",
      "WARNING - haystack -  Object '__file__' is imported through a deprecated path. Please check out the docs for the new import path.\n",
      "WARNING - haystack -  Object '__file__' is imported through a deprecated path. Please check out the docs for the new import path.\n",
      "WARNING - haystack -  Object '__file__' is imported through a deprecated path. Please check out the docs for the new import path.\n",
      "WARNING - haystack -  Object '__file__' is imported through a deprecated path. Please check out the docs for the new import path.\n",
      "WARNING - haystack -  Object '__file__' is imported through a deprecated path. Please check out the docs for the new import path.\n",
      "WARNING - haystack -  Object '__file__' is imported through a deprecated path. Please check out the docs for the new import path.\n",
      "WARNING - haystack -  Object '__file__' is imported through a deprecated path. Please check out the docs for the new import path.\n",
      "WARNING - haystack -  Object '__file__' is imported through a deprecated path. Please check out the docs for the new import path.\n",
      "WARNING - haystack -  Object '__file__' is imported through a deprecated path. Please check out the docs for the new import path.\n",
      "WARNING - haystack -  Object '__file__' is imported through a deprecated path. Please check out the docs for the new import path.\n",
      "WARNING - haystack -  Object '__file__' is imported through a deprecated path. Please check out the docs for the new import path.\n",
      "WARNING - haystack -  Object '__file__' is imported through a deprecated path. Please check out the docs for the new import path.\n",
      "WARNING - haystack -  Object '__file__' is imported through a deprecated path. Please check out the docs for the new import path.\n",
      "WARNING - haystack -  Object '__file__' is imported through a deprecated path. Please check out the docs for the new import path.\n",
      "WARNING - haystack -  Object '__file__' is imported through a deprecated path. Please check out the docs for the new import path.\n",
      "WARNING - haystack -  Object '__file__' is imported through a deprecated path. Please check out the docs for the new import path.\n",
      "WARNING - haystack -  Object '__file__' is imported through a deprecated path. Please check out the docs for the new import path.\n",
      "WARNING - haystack -  Object '__file__' is imported through a deprecated path. Please check out the docs for the new import path.\n"
     ]
    }
   ],
   "source": [
    "from harvai.qa_model import get_context"
   ]
  },
  {
   "cell_type": "markdown",
   "id": "06bcae92-bd04-40f8-9890-b748bfbd5c6f",
   "metadata": {
    "tags": []
   },
   "source": [
    "### KNN"
   ]
  },
  {
   "cell_type": "code",
   "execution_count": 131,
   "id": "e8a859e5-f85c-4c4d-a565-6229f620baaf",
   "metadata": {},
   "outputs": [
    {
     "data": {
      "text/plain": [
       "'Quelle est la vitesse maximale autorisée sur autoroute ?'"
      ]
     },
     "execution_count": 131,
     "metadata": {},
     "output_type": "execute_result"
    }
   ],
   "source": [
    "\"Qu'est-ce que le permis de conduire catégorie B?\"\n",
    "\"Quelle est la vitesse maximale maximale des cyclomoteurs?\"\n",
    "\"Quelle est la vitesse maximale autorisée sur autoroute ?\""
   ]
  },
  {
   "cell_type": "code",
   "execution_count": 152,
   "id": "be56f884-6cf8-4cc4-8240-355b055a6461",
   "metadata": {},
   "outputs": [],
   "source": [
    "article_number = 5\n",
    "question = \"Quelle est la vitesse normale autorisée sur autoroute ?\""
   ]
  },
  {
   "cell_type": "code",
   "execution_count": 153,
   "id": "474d0aee",
   "metadata": {
    "tags": []
   },
   "outputs": [],
   "source": [
    "Context_KNN, ParseCon_KNN , ArtRef_KNN = get_context(question,\"KNN\",article_number,digits=False)\n",
    "# Context_DPR, ParseCon_DPR , ArtRef_DPR = get_context(question,\"DPR\",article_number,digits=False)\n",
    "Context_BM25, ParseCon_BM25 , ArtRef_BM25 = get_context(question,\"BM25\",article_number,digits=False)\n",
    "Context_Emb, ParseCon_Emb , ArtRef_Emb = get_context(question,\"Embedding\",article_number,digits=False)"
   ]
  },
  {
   "cell_type": "code",
   "execution_count": 154,
   "id": "b512c107-6ff5-4b94-ae0a-fd9b75805aa8",
   "metadata": {
    "tags": []
   },
   "outputs": [
    {
     "name": "stdout",
     "output_type": "stream",
     "text": [
      "['Article R413-19  ', 'Article R413-2   ', 'Article R413-10  ', 'Article R413-9   ', 'Article R413-5   ']\n",
      "['Article R413-2   ', 'Article R413-19  ', 'Article R413-9   ', 'Article R413-5   ', 'Article R413-8   ']\n",
      "['Article R419-2   ', 'Article R413-2   ', 'Article R413-9   ', 'Article R413-8   ', 'Article R411-23-1']\n"
     ]
    }
   ],
   "source": [
    "print(ArtRef_KNN)\n",
    "print(ArtRef_BM25)\n",
    "print(ArtRef_Emb)"
   ]
  },
  {
   "cell_type": "code",
   "execution_count": 155,
   "id": "3ea11e33-cde9-49d0-be70-5121215a5287",
   "metadata": {},
   "outputs": [],
   "source": [
    "dict_KNN = dict(zip(ArtRef_KNN, ParseCon_KNN))\n",
    "dict_BM25 = dict(zip(ArtRef_BM25, ParseCon_BM25))\n",
    "dict_Emb = dict(zip(ArtRef_Emb, ParseCon_Emb))"
   ]
  },
  {
   "cell_type": "code",
   "execution_count": 156,
   "id": "d604162c-c476-460a-ac5f-9f3959d715d3",
   "metadata": {},
   "outputs": [
    {
     "data": {
      "text/plain": [
       "['Article R413-2   ', 'Article R413-9   ']"
      ]
     },
     "execution_count": 156,
     "metadata": {},
     "output_type": "execute_result"
    }
   ],
   "source": [
    "common_elements = []\n",
    "for element in ArtRef_KNN:\n",
    "    if element in ArtRef_BM25 and element in ArtRef_Emb :\n",
    "        if element not in common_elements :\n",
    "            common_elements.append(element)\n",
    "        else :\n",
    "            continue\n",
    "common_elements"
   ]
  },
  {
   "cell_type": "code",
   "execution_count": 157,
   "id": "14b7664a-c71d-4877-9663-85a5836d7f4f",
   "metadata": {
    "tags": []
   },
   "outputs": [],
   "source": [
    "common_articles = []\n",
    "for Artref in common_elements :\n",
    "    common_articles.append(dict_KNN[Artref])"
   ]
  },
  {
   "cell_type": "code",
   "execution_count": 158,
   "id": "934cd5fb-9692-4d75-a194-5ba47fdc788e",
   "metadata": {},
   "outputs": [],
   "source": [
    "context = str(common_articles[0])"
   ]
  },
  {
   "cell_type": "code",
   "execution_count": 159,
   "id": "bbe0e074-eb1c-427e-8c3c-790f61bade9d",
   "metadata": {
    "tags": []
   },
   "outputs": [],
   "source": [
    "model = pipeline('question-answering', model='etalab-ia/camembert-base-squadFR-fquad-piaf', tokenizer='etalab-ia/camembert-base-squadFR-fquad-piaf')  "
   ]
  },
  {
   "cell_type": "code",
   "execution_count": 160,
   "id": "284b7da5-2260-4746-8ccb-301ab34f5b1f",
   "metadata": {
    "tags": []
   },
   "outputs": [
    {
     "data": {
      "text/plain": [
       "' 130 km/ h'"
      ]
     },
     "execution_count": 160,
     "metadata": {},
     "output_type": "execute_result"
    }
   ],
   "source": [
    "reponse = model({ 'question': question, 'context': context })\n",
    "reponse[\"answer\"]"
   ]
  },
  {
   "cell_type": "code",
   "execution_count": 161,
   "id": "c5bcd129-2bdb-49cf-8b5d-3cb7bb41faae",
   "metadata": {
    "tags": []
   },
   "outputs": [
    {
     "data": {
      "text/plain": [
       "({'score': 0.8248544335365295,\n",
       "  'start': 4141,\n",
       "  'end': 4149,\n",
       "  'answer': ' 90 km/h'},\n",
       " ['I.-Hors agglomération, la vitesse des véhicules est limitée à :   1° 130 km/ h sur les autoroutes. Toutefois, lorsqu une voirie appartenant au réseau routier national a fait l objet d un classement dans la catégorie des autoroutes en application du sixième alinéa de l article R. 122-1 du code de la voirie routière, la vitesse maximale autorisée demeure celle fixée antérieurement à ce classement ;   2° 110 km/ h sur les routes à deux chaussées séparées par un terre-plein central ;   3° 80 km/ h sur les autres routes. Toutefois, sur les sections de ces routes comportant au moins deux voies affectées à un même sens de circulation, la vitesse maximale est relevée à 90 km/ h sur ces seules voies. Ces sections font l objet d une signalisation routière dans les conditions prévues par l article R. 411-25.   II.-En cas de pluie ou d autres précipitations, ces vitesses maximales sont abaissées à :   1° 110 km/ h sur les sections d autoroutes où la limite normale est de 130 km/ h ;   2° 100 km/ h sur les sections d autoroutes où cette limite est plus basse ainsi que sur les routes à deux chaussées séparées par un terre-plein central ;   3° 80 km/ h sur les sections des autres routes mentionnées au 3° du I.   III.-Les autorités détentrices du pouvoir de police de la circulation compétentes communiquent au ministre chargé de la sécurité routière la liste des sections de routes relevant de leur compétence qui comportent au moins deux voies affectées à un même sens de circulation et sur lesquelles la vitesse maximale est relevée à 90 km/ h en application du 3° du I. ',\n",
       "  ' Aucun conducteur ne doit gêner la marche normale des autres véhicules en circulant sans raison valable à une vitesse anormalement réduite. En particulier sur autoroute, lorsque la circulation est fluide et que les conditions atmosphériques permettent une visibilité et une adhérence suffisantes, les conducteurs utilisant la voie la plus à gauche ne peuvent circuler à une vitesse inférieure à 80 km/h.     Le fait, pour tout conducteur, de contrevenir aux dispositions du présent article est puni de l amende prévue pour les contraventions de la deuxième classe.     ',\n",
       "  'La vitesse des véhicules transportant des matières dangereuses, dont le poids total autorisé en charge ou le poids total roulant autorisé est supérieur à 12 tonnes, ainsi que celle des transports exceptionnels mentionnés à l article R. 433-1, est limitée à :       1° 80 km/ h sur les autoroutes ;       2° 60 km/ h sur les autres routes. Toutefois, cette vitesse maximale est relevée à 70 km/ h sur les routes à caractère prioritaire et signalées comme telles, pour les véhicules possédant des caractéristiques particulières définies par arrêté du ministre chargé des transports ;       3° 50 km/ h en agglomération. Toutefois cette vitesse maximale est relevée à 70 km/ h sur le boulevard périphérique de Paris.   ',\n",
       "  'I.-Tout élève conducteur et, pendant le délai probatoire défini à l article L223-1, tout conducteur titulaire du permis de conduire est tenu de ne pas dépasser les vitesses maximales suivantes :     1° 110 km/ h sur les sections d autoroutes où la limite normale est de 130 km/ h ;     2° 100 km/ h sur les sections d autoroutes où cette limite est plus basse, ainsi que sur les routes à deux chaussées séparées par un terre-plein central ;     3° 80 km/ h sur les autres routes.     II.-Tout conducteur mentionné au présent article doit, en circulation, apposer de façon visible, à l arrière de son véhicule, un signe distinctif dont les conditions d utilisation et le modèle sont fixés par arrêté conjoint du ministre de l intérieur et du ministre chargé des transports.     III.-Le fait, pour tout conducteur, de ne pas respecter l obligation de signalisation imposée par le présent article et les dispositions prises pour son application est puni de l amende prévue pour les contraventions de la deuxième classe.   ',\n",
       "  'La vitesse des véhicules dont le poids total autorisé en charge est supérieur à 3,5 tonnes ou des ensembles de véhicules dont le poids total roulant autorisé est supérieur à 3,5 tonnes, à l exception des véhicules de transport en commun, est limitée à :     1° 90 km/h sur les autoroutes ;     2° 80 km/h sur les routes à caractère prioritaire et signalées comme telles. Toutefois, cette vitesse maximale est relevée à 90 km/h pour les véhicules dont le poids total est inférieur ou égal à 12 tonnes sur les routes à deux chaussées séparées par un terre-plein central ;     3° 80 km/h sur les autres routes. Toutefois, cette vitesse maximale est abaissée à 60 km/h pour les véhicules articulés ou avec remorque dont le poids total est supérieur à 12 tonnes.     4° 50 km/h en agglomération. Toutefois, cette vitesse maximale est relevée à 70 km/h sur le boulevard périphérique de Paris. '],\n",
       " 'i.-hors agglomération, la vitesse des véhicules est limitée à :   1° 130 km/ h sur les autoroutes. toutefois, lorsqu une voirie appartenant au réseau routier national a fait l objet d un classement dans la catégorie des autoroutes en application du sixième alinéa de l article r. 122-1 du code de la voirie routière, la vitesse maximale autorisée demeure celle fixée antérieurement à ce classement ;   2° 110 km/ h sur les routes à deux chaussées séparées par un terre-plein central ;   3° 80 km/ h sur les autres routes. toutefois, sur les sections de ces routes comportant au moins deux voies affectées à un même sens de circulation, la vitesse maximale est relevée à 90 km/ h sur ces seules voies. ces sections font l objet d une signalisation routière dans les conditions prévues par l article r. 411-25.   ii.-en cas de pluie ou d autres précipitations, ces vitesses maximales sont abaissées à :   1° 110 km/ h sur les sections d autoroutes où la limite normale est de 130 km/ h ;   2° 100 km/ h sur les sections d autoroutes où cette limite est plus basse ainsi que sur les routes à deux chaussées séparées par un terre-plein central ;   3° 80 km/ h sur les sections des autres routes mentionnées au 3° du i.   iii.-les autorités détentrices du pouvoir de police de la circulation compétentes communiquent au ministre chargé de la sécurité routière la liste des sections de routes relevant de leur compétence qui comportent au moins deux voies affectées à un même sens de circulation et sur lesquelles la vitesse maximale est relevée à 90 km/ h en application du 3° du i. aucun conducteur ne doit gêner la marche normale des autres véhicules en circulant sans raison valable à une vitesse anormalement réduite. en particulier sur autoroute, lorsque la circulation est fluide et que les conditions atmosphériques permettent une visibilité et une adhérence suffisantes, les conducteurs utilisant la voie la plus à gauche ne peuvent circuler à une vitesse inférieure à 80 km/h.     le fait, pour tout conducteur, de contrevenir aux dispositions du présent article est puni de l amende prévue pour les contraventions de la deuxième classe.     la vitesse des véhicules transportant des matières dangereuses, dont le poids total autorisé en charge ou le poids total roulant autorisé est supérieur à 12 tonnes, ainsi que celle des transports exceptionnels mentionnés à l article r. 433-1, est limitée à :       1° 80 km/ h sur les autoroutes ;       2° 60 km/ h sur les autres routes. toutefois, cette vitesse maximale est relevée à 70 km/ h sur les routes à caractère prioritaire et signalées comme telles, pour les véhicules possédant des caractéristiques particulières définies par arrêté du ministre chargé des transports ;       3° 50 km/ h en agglomération. toutefois cette vitesse maximale est relevée à 70 km/ h sur le boulevard périphérique de paris.   i.-tout élève conducteur et, pendant le délai probatoire défini à l article l223-1, tout conducteur titulaire du permis de conduire est tenu de ne pas dépasser les vitesses maximales suivantes :     1° 110 km/ h sur les sections d autoroutes où la limite normale est de 130 km/ h ;     2° 100 km/ h sur les sections d autoroutes où cette limite est plus basse, ainsi que sur les routes à deux chaussées séparées par un terre-plein central ;     3° 80 km/ h sur les autres routes.     ii.-tout conducteur mentionné au présent article doit, en circulation, apposer de façon visible, à l arrière de son véhicule, un signe distinctif dont les conditions d utilisation et le modèle sont fixés par arrêté conjoint du ministre de l intérieur et du ministre chargé des transports.     iii.-le fait, pour tout conducteur, de ne pas respecter l obligation de signalisation imposée par le présent article et les dispositions prises pour son application est puni de l amende prévue pour les contraventions de la deuxième classe.   la vitesse des véhicules dont le poids total autorisé en charge est supérieur à 3,5 tonnes ou des ensembles de véhicules dont le poids total roulant autorisé est supérieur à 3,5 tonnes, à l exception des véhicules de transport en commun, est limitée à :     1° 90 km/h sur les autoroutes ;     2° 80 km/h sur les routes à caractère prioritaire et signalées comme telles. toutefois, cette vitesse maximale est relevée à 90 km/h pour les véhicules dont le poids total est inférieur ou égal à 12 tonnes sur les routes à deux chaussées séparées par un terre-plein central ;     3° 80 km/h sur les autres routes. toutefois, cette vitesse maximale est abaissée à 60 km/h pour les véhicules articulés ou avec remorque dont le poids total est supérieur à 12 tonnes.     4° 50 km/h en agglomération. toutefois, cette vitesse maximale est relevée à 70 km/h sur le boulevard périphérique de paris. ',\n",
       " ['Article R413-2   ',\n",
       "  'Article R413-19  ',\n",
       "  'Article R413-9   ',\n",
       "  'Article R413-5   ',\n",
       "  'Article R413-8   '])"
      ]
     },
     "execution_count": 161,
     "metadata": {},
     "output_type": "execute_result"
    }
   ],
   "source": [
    "get_answer(question,\"BM25\",article_number,digits=False)"
   ]
  },
  {
   "cell_type": "code",
   "execution_count": 50,
   "id": "0a9b1e22-484e-4fb1-be4e-a77906692ed7",
   "metadata": {},
   "outputs": [
    {
     "ename": "NameError",
     "evalue": "name 'ArtRef_DPR' is not defined",
     "output_type": "error",
     "traceback": [
      "\u001b[0;31m---------------------------------------------------------------------------\u001b[0m",
      "\u001b[0;31mNameError\u001b[0m                                 Traceback (most recent call last)",
      "Input \u001b[0;32mIn [50]\u001b[0m, in \u001b[0;36m<cell line: 1>\u001b[0;34m()\u001b[0m\n\u001b[0;32m----> 1\u001b[0m \u001b[43mArtRef_DPR\u001b[49m\n",
      "\u001b[0;31mNameError\u001b[0m: name 'ArtRef_DPR' is not defined"
     ]
    }
   ],
   "source": [
    "ArtRef_DPR"
   ]
  },
  {
   "cell_type": "code",
   "execution_count": 12,
   "id": "b5600da8-7a5b-42b0-9ddf-f581518e680d",
   "metadata": {},
   "outputs": [],
   "source": []
  },
  {
   "cell_type": "code",
   "execution_count": 14,
   "id": "caa7d6e2-2ef8-41d2-9407-c30eaf8d0faf",
   "metadata": {},
   "outputs": [],
   "source": []
  },
  {
   "cell_type": "code",
   "execution_count": null,
   "id": "acdd43de-3340-4564-85e4-28388bfb9155",
   "metadata": {},
   "outputs": [],
   "source": []
  }
 ],
 "metadata": {
  "kernelspec": {
   "display_name": "Python 3 (ipykernel)",
   "language": "python",
   "name": "python3"
  },
  "language_info": {
   "codemirror_mode": {
    "name": "ipython",
    "version": 3
   },
   "file_extension": ".py",
   "mimetype": "text/x-python",
   "name": "python",
   "nbconvert_exporter": "python",
   "pygments_lexer": "ipython3",
   "version": "3.8.12"
  },
  "toc": {
   "base_numbering": 1,
   "nav_menu": {},
   "number_sections": true,
   "sideBar": true,
   "skip_h1_title": false,
   "title_cell": "Table of Contents",
   "title_sidebar": "Contents",
   "toc_cell": false,
   "toc_position": {},
   "toc_section_display": true,
   "toc_window_display": false
  }
 },
 "nbformat": 4,
 "nbformat_minor": 5
}
