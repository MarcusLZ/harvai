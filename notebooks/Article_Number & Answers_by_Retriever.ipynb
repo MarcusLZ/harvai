{
 "cells": [
  {
   "cell_type": "code",
   "execution_count": 20,
   "id": "cd397de0",
   "metadata": {},
   "outputs": [
    {
     "name": "stdout",
     "output_type": "stream",
     "text": [
      "The autoreload extension is already loaded. To reload it, use:\n",
      "  %reload_ext autoreload\n"
     ]
    }
   ],
   "source": [
    "%load_ext autoreload\n",
    "%autoreload 2"
   ]
  },
  {
   "cell_type": "code",
   "execution_count": 21,
   "id": "9dcc4f39",
   "metadata": {
    "scrolled": true
   },
   "outputs": [],
   "source": [
    "from harvai.qa_model import get_answer"
   ]
  },
  {
   "cell_type": "code",
   "execution_count": 30,
   "id": "59e61034",
   "metadata": {},
   "outputs": [],
   "source": [
    "Retriever_model = [\"KNN\",\"BM25\"] # ,\"DPR\"]\n",
    "Article_number = [1,2,5,10]\n",
    "Questions = [\"quelle est la vitesse normale autorisée sur l'autoroute ?\"]"
   ]
  },
  {
   "cell_type": "code",
   "execution_count": 31,
   "id": "6cfa034d",
   "metadata": {
    "scrolled": true
   },
   "outputs": [],
   "source": [
    "Reponses_KNN = {}\n",
    "Reponses_BM25 = {}\n",
    "# Reponses_DPR = {}\n",
    "\n",
    "for model in Retriever_model :\n",
    "    for number in Article_number:\n",
    "        for question in Questions :\n",
    "            answer = get_answer(question,model,number)\n",
    "            if model == \"KNN\":\n",
    "                Reponses_KNN[f\"{number} Articles :\"] = answer\n",
    "            elif model == \"BM25\":\n",
    "                Reponses_BM25[f\"{number} Articles :\"] = answer\n",
    "            # else :\n",
    "                # Reponses_DPR.append(answer)"
   ]
  },
  {
   "cell_type": "code",
   "execution_count": 32,
   "id": "0be39e77",
   "metadata": {},
   "outputs": [
    {
     "data": {
      "text/plain": [
       "{'1 Articles :': ({'score': 0.7949057817459106,\n",
       "   'start': 68,\n",
       "   'end': 78,\n",
       "   'answer': ' 130 km/ h'},\n",
       "  ['I.-Hors agglomération, la vitesse des véhicules est limitée à :   1° 130 km/ h sur les autoroutes. Toutefois, lorsqu une voirie appartenant au réseau routier national a fait l objet d un classement dans la catégorie des autoroutes en application du sixième alinéa de l article R. 122-1 du code de la voirie routière, la vitesse maximale autorisée demeure celle fixée antérieurement à ce classement ;   2° 110 km/ h sur les routes à deux chaussées séparées par un terre-plein central ;   3° 80 km/ h sur les autres routes. Toutefois, sur les sections de ces routes comportant au moins deux voies affectées à un même sens de circulation, la vitesse maximale est relevée à 90 km/ h sur ces seules voies. Ces sections font l objet d une signalisation routière dans les conditions prévues par l article R. 411-25.   II.-En cas de pluie ou d autres précipitations, ces vitesses maximales sont abaissées à :   1° 110 km/ h sur les sections d autoroutes où la limite normale est de 130 km/ h ;   2° 100 km/ h sur les sections d autoroutes où cette limite est plus basse ainsi que sur les routes à deux chaussées séparées par un terre-plein central ;   3° 80 km/ h sur les sections des autres routes mentionnées au 3° du I.   III.-Les autorités détentrices du pouvoir de police de la circulation compétentes communiquent au ministre chargé de la sécurité routière la liste des sections de routes relevant de leur compétence qui comportent au moins deux voies affectées à un même sens de circulation et sur lesquelles la vitesse maximale est relevée à 90 km/ h en application du 3° du I. ']),\n",
       " '2 Articles :': ({'score': 0.8234241008758545,\n",
       "   'start': 68,\n",
       "   'end': 78,\n",
       "   'answer': ' 130 km/ h'},\n",
       "  ['I.-Hors agglomération, la vitesse des véhicules est limitée à :   1° 130 km/ h sur les autoroutes. Toutefois, lorsqu une voirie appartenant au réseau routier national a fait l objet d un classement dans la catégorie des autoroutes en application du sixième alinéa de l article R. 122-1 du code de la voirie routière, la vitesse maximale autorisée demeure celle fixée antérieurement à ce classement ;   2° 110 km/ h sur les routes à deux chaussées séparées par un terre-plein central ;   3° 80 km/ h sur les autres routes. Toutefois, sur les sections de ces routes comportant au moins deux voies affectées à un même sens de circulation, la vitesse maximale est relevée à 90 km/ h sur ces seules voies. Ces sections font l objet d une signalisation routière dans les conditions prévues par l article R. 411-25.   II.-En cas de pluie ou d autres précipitations, ces vitesses maximales sont abaissées à :   1° 110 km/ h sur les sections d autoroutes où la limite normale est de 130 km/ h ;   2° 100 km/ h sur les sections d autoroutes où cette limite est plus basse ainsi que sur les routes à deux chaussées séparées par un terre-plein central ;   3° 80 km/ h sur les sections des autres routes mentionnées au 3° du I.   III.-Les autorités détentrices du pouvoir de police de la circulation compétentes communiquent au ministre chargé de la sécurité routière la liste des sections de routes relevant de leur compétence qui comportent au moins deux voies affectées à un même sens de circulation et sur lesquelles la vitesse maximale est relevée à 90 km/ h en application du 3° du I. ',\n",
       "   ' I. - Hors agglomération et à l exception des voies sur lesquelles la vitesse des véhicules est limitée à 80 km/ h en application du 3° du I de l article R. 413-2, la vitesse des véhicules de transport en commun est limitée à 90 km/h.   II.- Toutefois, cette vitesse maximale est relevée à 100 km/h :   1° Sur les autoroutes pour les véhicules dont le poids total est supérieur à 10 tonnes et possédant des caractéristiques techniques particulières définies par arrêté du ministre chargé des transports ;   2° Sur les autoroutes et les routes à chaussées séparées par un terre-plein central pour les véhicules dont le poids est inférieur ou égal à 10 tonnes.   III.- En exploitation, ces vitesses maximales sont abaissées à 70 km / h pour les autobus et les autocars avec passagers debout. ']),\n",
       " '5 Articles :': ({'score': 0.9227778911590576,\n",
       "   'start': 3042,\n",
       "   'end': 3051,\n",
       "   'answer': ' 80 km/h.'},\n",
       "  ['I.-Hors agglomération, la vitesse des véhicules est limitée à :   1° 130 km/ h sur les autoroutes. Toutefois, lorsqu une voirie appartenant au réseau routier national a fait l objet d un classement dans la catégorie des autoroutes en application du sixième alinéa de l article R. 122-1 du code de la voirie routière, la vitesse maximale autorisée demeure celle fixée antérieurement à ce classement ;   2° 110 km/ h sur les routes à deux chaussées séparées par un terre-plein central ;   3° 80 km/ h sur les autres routes. Toutefois, sur les sections de ces routes comportant au moins deux voies affectées à un même sens de circulation, la vitesse maximale est relevée à 90 km/ h sur ces seules voies. Ces sections font l objet d une signalisation routière dans les conditions prévues par l article R. 411-25.   II.-En cas de pluie ou d autres précipitations, ces vitesses maximales sont abaissées à :   1° 110 km/ h sur les sections d autoroutes où la limite normale est de 130 km/ h ;   2° 100 km/ h sur les sections d autoroutes où cette limite est plus basse ainsi que sur les routes à deux chaussées séparées par un terre-plein central ;   3° 80 km/ h sur les sections des autres routes mentionnées au 3° du I.   III.-Les autorités détentrices du pouvoir de police de la circulation compétentes communiquent au ministre chargé de la sécurité routière la liste des sections de routes relevant de leur compétence qui comportent au moins deux voies affectées à un même sens de circulation et sur lesquelles la vitesse maximale est relevée à 90 km/ h en application du 3° du I. ',\n",
       "   ' I. - Hors agglomération et à l exception des voies sur lesquelles la vitesse des véhicules est limitée à 80 km/ h en application du 3° du I de l article R. 413-2, la vitesse des véhicules de transport en commun est limitée à 90 km/h.   II.- Toutefois, cette vitesse maximale est relevée à 100 km/h :   1° Sur les autoroutes pour les véhicules dont le poids total est supérieur à 10 tonnes et possédant des caractéristiques techniques particulières définies par arrêté du ministre chargé des transports ;   2° Sur les autoroutes et les routes à chaussées séparées par un terre-plein central pour les véhicules dont le poids est inférieur ou égal à 10 tonnes.   III.- En exploitation, ces vitesses maximales sont abaissées à 70 km / h pour les autobus et les autocars avec passagers debout. ',\n",
       "   '  Le fait pour tout conducteur d un véhicule autre qu un véhicule à moteur de contrevenir aux dispositions du présent code relatives à la vitesse maximale autorisée est puni de l amende prévue pour les contraventions de la deuxième classe.     Section 2 : Maîtrise de la vitesse. ',\n",
       "   ' Aucun conducteur ne doit gêner la marche normale des autres véhicules en circulant sans raison valable à une vitesse anormalement réduite. En particulier sur autoroute, lorsque la circulation est fluide et que les conditions atmosphériques permettent une visibilité et une adhérence suffisantes, les conducteurs utilisant la voie la plus à gauche ne peuvent circuler à une vitesse inférieure à 80 km/h.     Le fait, pour tout conducteur, de contrevenir aux dispositions du présent article est puni de l amende prévue pour les contraventions de la deuxième classe.   Chapitre IV : Croisement et dépassement Section 1 : Croisement. ',\n",
       "   'La vitesse des véhicules transportant des matières dangereuses, dont le poids total autorisé en charge ou le poids total roulant autorisé est supérieur à 12 tonnes, ainsi que celle des transports exceptionnels mentionnés à l article R. 433-1, est limitée à :       1° 80 km/ h sur les autoroutes ;       2° 60 km/ h sur les autres routes. Toutefois, cette vitesse maximale est relevée à 70 km/ h sur les routes à caractère prioritaire et signalées comme telles, pour les véhicules possédant des caractéristiques particulières définies par arrêté du ministre chargé des transports ;       3° 50 km/ h en agglomération. Toutefois cette vitesse maximale est relevée à 70 km/ h sur le boulevard périphérique de Paris.   ']),\n",
       " '10 Articles :': ({'score': 0.924826979637146,\n",
       "   'start': 3042,\n",
       "   'end': 3051,\n",
       "   'answer': ' 80 km/h.'},\n",
       "  ['I.-Hors agglomération, la vitesse des véhicules est limitée à :   1° 130 km/ h sur les autoroutes. Toutefois, lorsqu une voirie appartenant au réseau routier national a fait l objet d un classement dans la catégorie des autoroutes en application du sixième alinéa de l article R. 122-1 du code de la voirie routière, la vitesse maximale autorisée demeure celle fixée antérieurement à ce classement ;   2° 110 km/ h sur les routes à deux chaussées séparées par un terre-plein central ;   3° 80 km/ h sur les autres routes. Toutefois, sur les sections de ces routes comportant au moins deux voies affectées à un même sens de circulation, la vitesse maximale est relevée à 90 km/ h sur ces seules voies. Ces sections font l objet d une signalisation routière dans les conditions prévues par l article R. 411-25.   II.-En cas de pluie ou d autres précipitations, ces vitesses maximales sont abaissées à :   1° 110 km/ h sur les sections d autoroutes où la limite normale est de 130 km/ h ;   2° 100 km/ h sur les sections d autoroutes où cette limite est plus basse ainsi que sur les routes à deux chaussées séparées par un terre-plein central ;   3° 80 km/ h sur les sections des autres routes mentionnées au 3° du I.   III.-Les autorités détentrices du pouvoir de police de la circulation compétentes communiquent au ministre chargé de la sécurité routière la liste des sections de routes relevant de leur compétence qui comportent au moins deux voies affectées à un même sens de circulation et sur lesquelles la vitesse maximale est relevée à 90 km/ h en application du 3° du I. ',\n",
       "   ' I. - Hors agglomération et à l exception des voies sur lesquelles la vitesse des véhicules est limitée à 80 km/ h en application du 3° du I de l article R. 413-2, la vitesse des véhicules de transport en commun est limitée à 90 km/h.   II.- Toutefois, cette vitesse maximale est relevée à 100 km/h :   1° Sur les autoroutes pour les véhicules dont le poids total est supérieur à 10 tonnes et possédant des caractéristiques techniques particulières définies par arrêté du ministre chargé des transports ;   2° Sur les autoroutes et les routes à chaussées séparées par un terre-plein central pour les véhicules dont le poids est inférieur ou égal à 10 tonnes.   III.- En exploitation, ces vitesses maximales sont abaissées à 70 km / h pour les autobus et les autocars avec passagers debout. ',\n",
       "   '  Le fait pour tout conducteur d un véhicule autre qu un véhicule à moteur de contrevenir aux dispositions du présent code relatives à la vitesse maximale autorisée est puni de l amende prévue pour les contraventions de la deuxième classe.     Section 2 : Maîtrise de la vitesse. ',\n",
       "   ' Aucun conducteur ne doit gêner la marche normale des autres véhicules en circulant sans raison valable à une vitesse anormalement réduite. En particulier sur autoroute, lorsque la circulation est fluide et que les conditions atmosphériques permettent une visibilité et une adhérence suffisantes, les conducteurs utilisant la voie la plus à gauche ne peuvent circuler à une vitesse inférieure à 80 km/h.     Le fait, pour tout conducteur, de contrevenir aux dispositions du présent article est puni de l amende prévue pour les contraventions de la deuxième classe.   Chapitre IV : Croisement et dépassement Section 1 : Croisement. ',\n",
       "   'La vitesse des véhicules transportant des matières dangereuses, dont le poids total autorisé en charge ou le poids total roulant autorisé est supérieur à 12 tonnes, ainsi que celle des transports exceptionnels mentionnés à l article R. 433-1, est limitée à :       1° 80 km/ h sur les autoroutes ;       2° 60 km/ h sur les autres routes. Toutefois, cette vitesse maximale est relevée à 70 km/ h sur les routes à caractère prioritaire et signalées comme telles, pour les véhicules possédant des caractéristiques particulières définies par arrêté du ministre chargé des transports ;       3° 50 km/ h en agglomération. Toutefois cette vitesse maximale est relevée à 70 km/ h sur le boulevard périphérique de Paris.   ',\n",
       "   'I.-Tout élève conducteur et, pendant le délai probatoire défini à l article L223-1, tout conducteur titulaire du permis de conduire est tenu de ne pas dépasser les vitesses maximales suivantes :     1° 110 km/ h sur les sections d autoroutes où la limite normale est de 130 km/ h ;     2° 100 km/ h sur les sections d autoroutes où cette limite est plus basse, ainsi que sur les routes à deux chaussées séparées par un terre-plein central ;     3° 80 km/ h sur les autres routes.     II.-Tout conducteur mentionné au présent article doit, en circulation, apposer de façon visible, à l arrière de son véhicule, un signe distinctif dont les conditions d utilisation et le modèle sont fixés par arrêté conjoint du ministre de l intérieur et du ministre chargé des transports.     III.-Le fait, pour tout conducteur, de ne pas respecter l obligation de signalisation imposée par le présent article et les dispositions prises pour son application est puni de l amende prévue pour les contraventions de la deuxième classe.   ',\n",
       "   ' I. - Le fait, pour tout conducteur d un véhicule à moteur, de dépasser de moins de 50 km/h la vitesse maximale autorisée fixée par le présent code ou édictée par l autorité investie du pouvoir de police est puni de l amende prévue pour les contraventions de la quatrième classe.     Toutefois, lorsque le dépassement est inférieur à 20 km/h et que la vitesse maximale autorisée est supérieure à 50 km/h, l amende encourue est celle prévue pour les contraventions de la troisième classe.      II. - Toute personne coupable de l infraction de dépassement de la vitesse maximale autorisée de 30 km/h ou plus encourt également les peines complémentaires suivantes :     1° La suspension, pour une durée de trois ans au plus, du permis de conduire, cette suspension pouvant être limitée à la conduite en dehors de l activité professionnelle ;     2° L interdiction de conduire certains véhicules terrestres à moteur, y compris ceux pour la conduite desquels le permis de conduire n est pas exigé, pour une durée de trois ans au plus ;     3° L obligation d accomplir, à ses frais, un stage de sensibilisation à la sécurité routière.     III. - Toute contravention prévue au présent article donne lieu, de plein droit à une réduction du nombre de points du permis de conduire dans les conditions suivantes :     1° En cas de dépassement de la vitesse maximale autorisée compris entre 40 km/h et moins de 50 km/h, réduction de quatre points ;     2° En cas de dépassement de la vitesse maximale autorisée compris entre 30 km/h et moins de 40 km/h, réduction de trois points ;     3° En cas de dépassement de la vitesse maximale autorisée compris entre 20 km/h et moins de 30 km/h, réduction de deux points ;     4° En cas de dépassement de la vitesse maximale autorisée de moins de 20 km/h, réduction d un point.   ',\n",
       "   'I. - Les dispositions relatives aux règles d interdiction d accès des autoroutes et des routes express à certains véhicules et usagers ne sont pas applicables :     1° Au matériel non immatriculé ou non motorisé des forces de police ou de gendarmerie, des services de lutte contre l incendie, des services de sécurité, des administrations publiques et des entreprises appelées à travailler sur l autoroute ou la route express.     2° Lorsqu il circule à pied, à bicyclette ou à cyclomoteur, au personnel de ces administrations, services ou entreprises ainsi qu à celui des autres administrations publiques dont la présence serait nécessaire sur l autoroute ou la route express et à celui des concessionnaires ou permissionnaires autorisés à occuper le domaine public de l autoroute ou de la route express.     II. - A l exception du matériel appartenant aux forces de police ou de gendarmerie et aux services de lutte contre l incendie et du personnel de ces services, ces véhicules ou ce personnel doivent être munis d une autorisation spéciale délivrée, pour les autoroutes, par le préfet ou, sur délégation de celui-ci, par le directeur départemental de l équipement.   Chapitre III : Transports exceptionnels et ensembles de véhicules comportant plus d une remorque Section 1 : Transports exceptionnels de marchandises, d engins ou de véhicules. ',\n",
       "   'Sur autoroute, la circulation des véhicules militaires se déplaçant en colonnes ou dont les caractéristiques ne sont pas conformes à celles des véhicules civils autorisés à circuler sur ces voies est admise dans les conditions fixées par arrêté du ministre chargé des transports et du ministre de la défense.     ',\n",
       "   'La vitesse des véhicules dont le poids total autorisé en charge est supérieur à 3,5 tonnes ou des ensembles de véhicules dont le poids total roulant autorisé est supérieur à 3,5 tonnes, à l exception des véhicules de transport en commun, est limitée à :     1° 90 km/h sur les autoroutes ;     2° 80 km/h sur les routes à caractère prioritaire et signalées comme telles. Toutefois, cette vitesse maximale est relevée à 90 km/h pour les véhicules dont le poids total est inférieur ou égal à 12 tonnes sur les routes à deux chaussées séparées par un terre-plein central ;     3° 80 km/h sur les autres routes. Toutefois, cette vitesse maximale est abaissée à 60 km/h pour les véhicules articulés ou avec remorque dont le poids total est supérieur à 12 tonnes.     4° 50 km/h en agglomération. Toutefois, cette vitesse maximale est relevée à 70 km/h sur le boulevard périphérique de Paris. '])}"
      ]
     },
     "execution_count": 32,
     "metadata": {},
     "output_type": "execute_result"
    }
   ],
   "source": [
    "Reponses_KNN"
   ]
  },
  {
   "cell_type": "code",
   "execution_count": 33,
   "id": "1d1039c7",
   "metadata": {},
   "outputs": [
    {
     "data": {
      "text/plain": [
       "{'1 Articles :': ({'score': 0.8039233088493347,\n",
       "   'start': 68,\n",
       "   'end': 78,\n",
       "   'answer': ' 130 km/ h'},\n",
       "  ['I.-Hors agglomération, la vitesse des véhicules est limitée à :   1° 130 km/ h sur les autoroutes. Toutefois, lorsqu une voirie appartenant au réseau routier national a fait l objet d un classement dans la catégorie des autoroutes en application du sixième alinéa de l article R. 122-1 du code de la voirie routière, la vitesse maximale autorisée demeure celle fixée antérieurement à ce classement ;   2° 110 km/ h sur les routes à deux chaussées séparées par un terre-plein central ;   3° 80 km/ h sur les autres routes. Toutefois, sur les sections de ces routes comportant au moins deux voies affectées à un même sens de circulation, la vitesse maximale est relevée à 90 km/ h sur ces seules voies. Ces sections font l objet d une signalisation routière dans les conditions prévues par l article R. 411-25.   II.-En cas de pluie ou d autres précipitations, ces vitesses maximales sont abaissées à :   1° 110 km/ h sur les sections d autoroutes où la limite normale est de 130 km/ h ;   2° 100 km/ h sur les sections d autoroutes où cette limite est plus basse ainsi que sur les routes à deux chaussées séparées par un terre-plein central ;   3° 80 km/ h sur les sections des autres routes mentionnées au 3° du I.   III.-Les autorités détentrices du pouvoir de police de la circulation compétentes communiquent au ministre chargé de la sécurité routière la liste des sections de routes relevant de leur compétence qui comportent au moins deux voies affectées à un même sens de circulation et sur lesquelles la vitesse maximale est relevée à 90 km/ h en application du 3° du I. ']),\n",
       " '2 Articles :': ({'score': 0.7578246593475342,\n",
       "   'start': 68,\n",
       "   'end': 78,\n",
       "   'answer': ' 130 km/ h'},\n",
       "  ['I.-Hors agglomération, la vitesse des véhicules est limitée à :   1° 130 km/ h sur les autoroutes. Toutefois, lorsqu une voirie appartenant au réseau routier national a fait l objet d un classement dans la catégorie des autoroutes en application du sixième alinéa de l article R. 122-1 du code de la voirie routière, la vitesse maximale autorisée demeure celle fixée antérieurement à ce classement ;   2° 110 km/ h sur les routes à deux chaussées séparées par un terre-plein central ;   3° 80 km/ h sur les autres routes. Toutefois, sur les sections de ces routes comportant au moins deux voies affectées à un même sens de circulation, la vitesse maximale est relevée à 90 km/ h sur ces seules voies. Ces sections font l objet d une signalisation routière dans les conditions prévues par l article R. 411-25.   II.-En cas de pluie ou d autres précipitations, ces vitesses maximales sont abaissées à :   1° 110 km/ h sur les sections d autoroutes où la limite normale est de 130 km/ h ;   2° 100 km/ h sur les sections d autoroutes où cette limite est plus basse ainsi que sur les routes à deux chaussées séparées par un terre-plein central ;   3° 80 km/ h sur les sections des autres routes mentionnées au 3° du I.   III.-Les autorités détentrices du pouvoir de police de la circulation compétentes communiquent au ministre chargé de la sécurité routière la liste des sections de routes relevant de leur compétence qui comportent au moins deux voies affectées à un même sens de circulation et sur lesquelles la vitesse maximale est relevée à 90 km/ h en application du 3° du I. ',\n",
       "   ' Aucun conducteur ne doit gêner la marche normale des autres véhicules en circulant sans raison valable à une vitesse anormalement réduite. En particulier sur autoroute, lorsque la circulation est fluide et que les conditions atmosphériques permettent une visibilité et une adhérence suffisantes, les conducteurs utilisant la voie la plus à gauche ne peuvent circuler à une vitesse inférieure à 80 km/h.     Le fait, pour tout conducteur, de contrevenir aux dispositions du présent article est puni de l amende prévue pour les contraventions de la deuxième classe.   Chapitre IV : Croisement et dépassement Section 1 : Croisement. ']),\n",
       " '5 Articles :': ({'score': 0.7762570977210999,\n",
       "   'start': 4204,\n",
       "   'end': 4212,\n",
       "   'answer': ' 90 km/h'},\n",
       "  ['I.-Hors agglomération, la vitesse des véhicules est limitée à :   1° 130 km/ h sur les autoroutes. Toutefois, lorsqu une voirie appartenant au réseau routier national a fait l objet d un classement dans la catégorie des autoroutes en application du sixième alinéa de l article R. 122-1 du code de la voirie routière, la vitesse maximale autorisée demeure celle fixée antérieurement à ce classement ;   2° 110 km/ h sur les routes à deux chaussées séparées par un terre-plein central ;   3° 80 km/ h sur les autres routes. Toutefois, sur les sections de ces routes comportant au moins deux voies affectées à un même sens de circulation, la vitesse maximale est relevée à 90 km/ h sur ces seules voies. Ces sections font l objet d une signalisation routière dans les conditions prévues par l article R. 411-25.   II.-En cas de pluie ou d autres précipitations, ces vitesses maximales sont abaissées à :   1° 110 km/ h sur les sections d autoroutes où la limite normale est de 130 km/ h ;   2° 100 km/ h sur les sections d autoroutes où cette limite est plus basse ainsi que sur les routes à deux chaussées séparées par un terre-plein central ;   3° 80 km/ h sur les sections des autres routes mentionnées au 3° du I.   III.-Les autorités détentrices du pouvoir de police de la circulation compétentes communiquent au ministre chargé de la sécurité routière la liste des sections de routes relevant de leur compétence qui comportent au moins deux voies affectées à un même sens de circulation et sur lesquelles la vitesse maximale est relevée à 90 km/ h en application du 3° du I. ',\n",
       "   ' Aucun conducteur ne doit gêner la marche normale des autres véhicules en circulant sans raison valable à une vitesse anormalement réduite. En particulier sur autoroute, lorsque la circulation est fluide et que les conditions atmosphériques permettent une visibilité et une adhérence suffisantes, les conducteurs utilisant la voie la plus à gauche ne peuvent circuler à une vitesse inférieure à 80 km/h.     Le fait, pour tout conducteur, de contrevenir aux dispositions du présent article est puni de l amende prévue pour les contraventions de la deuxième classe.   Chapitre IV : Croisement et dépassement Section 1 : Croisement. ',\n",
       "   'La vitesse des véhicules transportant des matières dangereuses, dont le poids total autorisé en charge ou le poids total roulant autorisé est supérieur à 12 tonnes, ainsi que celle des transports exceptionnels mentionnés à l article R. 433-1, est limitée à :       1° 80 km/ h sur les autoroutes ;       2° 60 km/ h sur les autres routes. Toutefois, cette vitesse maximale est relevée à 70 km/ h sur les routes à caractère prioritaire et signalées comme telles, pour les véhicules possédant des caractéristiques particulières définies par arrêté du ministre chargé des transports ;       3° 50 km/ h en agglomération. Toutefois cette vitesse maximale est relevée à 70 km/ h sur le boulevard périphérique de Paris.   ',\n",
       "   'I.-Tout élève conducteur et, pendant le délai probatoire défini à l article L223-1, tout conducteur titulaire du permis de conduire est tenu de ne pas dépasser les vitesses maximales suivantes :     1° 110 km/ h sur les sections d autoroutes où la limite normale est de 130 km/ h ;     2° 100 km/ h sur les sections d autoroutes où cette limite est plus basse, ainsi que sur les routes à deux chaussées séparées par un terre-plein central ;     3° 80 km/ h sur les autres routes.     II.-Tout conducteur mentionné au présent article doit, en circulation, apposer de façon visible, à l arrière de son véhicule, un signe distinctif dont les conditions d utilisation et le modèle sont fixés par arrêté conjoint du ministre de l intérieur et du ministre chargé des transports.     III.-Le fait, pour tout conducteur, de ne pas respecter l obligation de signalisation imposée par le présent article et les dispositions prises pour son application est puni de l amende prévue pour les contraventions de la deuxième classe.   ',\n",
       "   'La vitesse des véhicules dont le poids total autorisé en charge est supérieur à 3,5 tonnes ou des ensembles de véhicules dont le poids total roulant autorisé est supérieur à 3,5 tonnes, à l exception des véhicules de transport en commun, est limitée à :     1° 90 km/h sur les autoroutes ;     2° 80 km/h sur les routes à caractère prioritaire et signalées comme telles. Toutefois, cette vitesse maximale est relevée à 90 km/h pour les véhicules dont le poids total est inférieur ou égal à 12 tonnes sur les routes à deux chaussées séparées par un terre-plein central ;     3° 80 km/h sur les autres routes. Toutefois, cette vitesse maximale est abaissée à 60 km/h pour les véhicules articulés ou avec remorque dont le poids total est supérieur à 12 tonnes.     4° 50 km/h en agglomération. Toutefois, cette vitesse maximale est relevée à 70 km/h sur le boulevard périphérique de Paris. ']),\n",
       " '10 Articles :': ({'score': 0.979105532169342,\n",
       "   'start': 8762,\n",
       "   'end': 8772,\n",
       "   'answer': ' 50 km/ h,'},\n",
       "  ['I.-Hors agglomération, la vitesse des véhicules est limitée à :   1° 130 km/ h sur les autoroutes. Toutefois, lorsqu une voirie appartenant au réseau routier national a fait l objet d un classement dans la catégorie des autoroutes en application du sixième alinéa de l article R. 122-1 du code de la voirie routière, la vitesse maximale autorisée demeure celle fixée antérieurement à ce classement ;   2° 110 km/ h sur les routes à deux chaussées séparées par un terre-plein central ;   3° 80 km/ h sur les autres routes. Toutefois, sur les sections de ces routes comportant au moins deux voies affectées à un même sens de circulation, la vitesse maximale est relevée à 90 km/ h sur ces seules voies. Ces sections font l objet d une signalisation routière dans les conditions prévues par l article R. 411-25.   II.-En cas de pluie ou d autres précipitations, ces vitesses maximales sont abaissées à :   1° 110 km/ h sur les sections d autoroutes où la limite normale est de 130 km/ h ;   2° 100 km/ h sur les sections d autoroutes où cette limite est plus basse ainsi que sur les routes à deux chaussées séparées par un terre-plein central ;   3° 80 km/ h sur les sections des autres routes mentionnées au 3° du I.   III.-Les autorités détentrices du pouvoir de police de la circulation compétentes communiquent au ministre chargé de la sécurité routière la liste des sections de routes relevant de leur compétence qui comportent au moins deux voies affectées à un même sens de circulation et sur lesquelles la vitesse maximale est relevée à 90 km/ h en application du 3° du I. ',\n",
       "   ' Aucun conducteur ne doit gêner la marche normale des autres véhicules en circulant sans raison valable à une vitesse anormalement réduite. En particulier sur autoroute, lorsque la circulation est fluide et que les conditions atmosphériques permettent une visibilité et une adhérence suffisantes, les conducteurs utilisant la voie la plus à gauche ne peuvent circuler à une vitesse inférieure à 80 km/h.     Le fait, pour tout conducteur, de contrevenir aux dispositions du présent article est puni de l amende prévue pour les contraventions de la deuxième classe.   Chapitre IV : Croisement et dépassement Section 1 : Croisement. ',\n",
       "   'La vitesse des véhicules transportant des matières dangereuses, dont le poids total autorisé en charge ou le poids total roulant autorisé est supérieur à 12 tonnes, ainsi que celle des transports exceptionnels mentionnés à l article R. 433-1, est limitée à :       1° 80 km/ h sur les autoroutes ;       2° 60 km/ h sur les autres routes. Toutefois, cette vitesse maximale est relevée à 70 km/ h sur les routes à caractère prioritaire et signalées comme telles, pour les véhicules possédant des caractéristiques particulières définies par arrêté du ministre chargé des transports ;       3° 50 km/ h en agglomération. Toutefois cette vitesse maximale est relevée à 70 km/ h sur le boulevard périphérique de Paris.   ',\n",
       "   'I.-Tout élève conducteur et, pendant le délai probatoire défini à l article L223-1, tout conducteur titulaire du permis de conduire est tenu de ne pas dépasser les vitesses maximales suivantes :     1° 110 km/ h sur les sections d autoroutes où la limite normale est de 130 km/ h ;     2° 100 km/ h sur les sections d autoroutes où cette limite est plus basse, ainsi que sur les routes à deux chaussées séparées par un terre-plein central ;     3° 80 km/ h sur les autres routes.     II.-Tout conducteur mentionné au présent article doit, en circulation, apposer de façon visible, à l arrière de son véhicule, un signe distinctif dont les conditions d utilisation et le modèle sont fixés par arrêté conjoint du ministre de l intérieur et du ministre chargé des transports.     III.-Le fait, pour tout conducteur, de ne pas respecter l obligation de signalisation imposée par le présent article et les dispositions prises pour son application est puni de l amende prévue pour les contraventions de la deuxième classe.   ',\n",
       "   'La vitesse des véhicules dont le poids total autorisé en charge est supérieur à 3,5 tonnes ou des ensembles de véhicules dont le poids total roulant autorisé est supérieur à 3,5 tonnes, à l exception des véhicules de transport en commun, est limitée à :     1° 90 km/h sur les autoroutes ;     2° 80 km/h sur les routes à caractère prioritaire et signalées comme telles. Toutefois, cette vitesse maximale est relevée à 90 km/h pour les véhicules dont le poids total est inférieur ou égal à 12 tonnes sur les routes à deux chaussées séparées par un terre-plein central ;     3° 80 km/h sur les autres routes. Toutefois, cette vitesse maximale est abaissée à 60 km/h pour les véhicules articulés ou avec remorque dont le poids total est supérieur à 12 tonnes.     4° 50 km/h en agglomération. Toutefois, cette vitesse maximale est relevée à 70 km/h sur le boulevard périphérique de Paris. ',\n",
       "   '   Toutefois, la vitesse des véhicules visés à l article R. 413-8 qui sont destinés au transport de personnes et dont le poids total autorisé en charge est supérieur à 3,5 tonnes et inférieur ou égal à 12 tonnes est limitée à :   1° 110 km / h sur les autoroutes ;   2° 100 km / h sur les routes à deux chaussées séparées par un terre-plein central lorsqu elles sont à caractère prioritaire et signalées comme telles ;   3° 80 km / h sur les autres routes. ',\n",
       "   ' I. - Hors agglomération et à l exception des voies sur lesquelles la vitesse des véhicules est limitée à 80 km/ h en application du 3° du I de l article R. 413-2, la vitesse des véhicules de transport en commun est limitée à 90 km/h.   II.- Toutefois, cette vitesse maximale est relevée à 100 km/h :   1° Sur les autoroutes pour les véhicules dont le poids total est supérieur à 10 tonnes et possédant des caractéristiques techniques particulières définies par arrêté du ministre chargé des transports ;   2° Sur les autoroutes et les routes à chaussées séparées par un terre-plein central pour les véhicules dont le poids est inférieur ou égal à 10 tonnes.   III.- En exploitation, ces vitesses maximales sont abaissées à 70 km / h pour les autobus et les autocars avec passagers debout. ',\n",
       "   ' I. - Le fait, pour tout conducteur d un véhicule à moteur, de dépasser de moins de 50 km/h la vitesse maximale autorisée fixée par le présent code ou édictée par l autorité investie du pouvoir de police est puni de l amende prévue pour les contraventions de la quatrième classe.     Toutefois, lorsque le dépassement est inférieur à 20 km/h et que la vitesse maximale autorisée est supérieure à 50 km/h, l amende encourue est celle prévue pour les contraventions de la troisième classe.      II. - Toute personne coupable de l infraction de dépassement de la vitesse maximale autorisée de 30 km/h ou plus encourt également les peines complémentaires suivantes :     1° La suspension, pour une durée de trois ans au plus, du permis de conduire, cette suspension pouvant être limitée à la conduite en dehors de l activité professionnelle ;     2° L interdiction de conduire certains véhicules terrestres à moteur, y compris ceux pour la conduite desquels le permis de conduire n est pas exigé, pour une durée de trois ans au plus ;     3° L obligation d accomplir, à ses frais, un stage de sensibilisation à la sécurité routière.     III. - Toute contravention prévue au présent article donne lieu, de plein droit à une réduction du nombre de points du permis de conduire dans les conditions suivantes :     1° En cas de dépassement de la vitesse maximale autorisée compris entre 40 km/h et moins de 50 km/h, réduction de quatre points ;     2° En cas de dépassement de la vitesse maximale autorisée compris entre 30 km/h et moins de 40 km/h, réduction de trois points ;     3° En cas de dépassement de la vitesse maximale autorisée compris entre 20 km/h et moins de 30 km/h, réduction de deux points ;     4° En cas de dépassement de la vitesse maximale autorisée de moins de 20 km/h, réduction d un point.   ',\n",
       "   'En marche normale, tout conducteur doit maintenir son véhicule près du bord droit de la chaussée, autant que le lui permet l état ou le profil de celle-ci.   Toutefois, un conducteur qui pénètre sur un carrefour à sens giratoire comportant plusieurs voies de circulation en vue d emprunter une sortie située sur sa gauche par rapport à son axe d entrée peut serrer à gauche.   Chaque manoeuvre de changement de voie à l intérieur du carrefour à sens giratoire reste soumise aux règles de la priorité et doit être signalée aux autres conducteurs.   Un conducteur d engin de déplacement personnel motorisé, de cyclomobile léger ou de cycle peut s éloigner du bord droit de la chaussée lorsqu une trajectoire matérialisée pour les cycles, signalisée en application des dispositions de l article R. 411-25, le permet.   Sur les voies où la vitesse maximale autorisée n excède pas 50 km/ h, un conducteur d engin de déplacement personnel motorisé, de cyclomobile léger ou de cycle peut s écarter des véhicules en stationnement sur le bord droit de la chaussée, d une distance nécessaire à sa sécurité.   Sous réserve des dispositions des quatrième et cinquième alinéas du présent article, le fait, pour tout conducteur, de ne pas maintenir, en marche normale, son véhicule près du bord droit de la chaussée est puni de l amende prévue pour les contraventions de la deuxième classe.    Le fait, pour tout conducteur, de circuler, en marche normale, sur la partie gauche d une chaussée à double sens de circulation est puni de l amende prévue pour les contraventions de la quatrième classe.   Tout conducteur coupable de cette dernière infraction encourt également la peine complémentaire de suspension du permis de conduire pour une durée de trois ans au plus, cette suspension pouvant être limitée à la conduite en dehors de l activité professionnelle.   Cette dernière contravention donne lieu de plein droit à la réduction de trois points du permis de conduire.   Les dispositions du présent article ne s appliquent pas aux représentants mentionnés à l article R. 411-31 dans les cas prévus à l article R. 414-3-1 et aux conducteurs dans les cas prévus à l article R. 412-11-1. ',\n",
       "   'I. - Les dispositions relatives aux règles d interdiction d accès des autoroutes et des routes express à certains véhicules et usagers ne sont pas applicables :     1° Au matériel non immatriculé ou non motorisé des forces de police ou de gendarmerie, des services de lutte contre l incendie, des services de sécurité, des administrations publiques et des entreprises appelées à travailler sur l autoroute ou la route express.     2° Lorsqu il circule à pied, à bicyclette ou à cyclomoteur, au personnel de ces administrations, services ou entreprises ainsi qu à celui des autres administrations publiques dont la présence serait nécessaire sur l autoroute ou la route express et à celui des concessionnaires ou permissionnaires autorisés à occuper le domaine public de l autoroute ou de la route express.     II. - A l exception du matériel appartenant aux forces de police ou de gendarmerie et aux services de lutte contre l incendie et du personnel de ces services, ces véhicules ou ce personnel doivent être munis d une autorisation spéciale délivrée, pour les autoroutes, par le préfet ou, sur délégation de celui-ci, par le directeur départemental de l équipement.   Chapitre III : Transports exceptionnels et ensembles de véhicules comportant plus d une remorque Section 1 : Transports exceptionnels de marchandises, d engins ou de véhicules. '])}"
      ]
     },
     "execution_count": 33,
     "metadata": {},
     "output_type": "execute_result"
    }
   ],
   "source": [
    "Reponses_BM25"
   ]
  },
  {
   "cell_type": "code",
   "execution_count": null,
   "id": "3767351d",
   "metadata": {},
   "outputs": [],
   "source": []
  },
  {
   "cell_type": "code",
   "execution_count": null,
   "id": "41409fcf",
   "metadata": {},
   "outputs": [],
   "source": []
  }
 ],
 "metadata": {
  "kernelspec": {
   "display_name": "Python 3 (ipykernel)",
   "language": "python",
   "name": "python3"
  },
  "language_info": {
   "codemirror_mode": {
    "name": "ipython",
    "version": 3
   },
   "file_extension": ".py",
   "mimetype": "text/x-python",
   "name": "python",
   "nbconvert_exporter": "python",
   "pygments_lexer": "ipython3",
   "version": "3.8.12"
  },
  "toc": {
   "base_numbering": 1,
   "nav_menu": {},
   "number_sections": true,
   "sideBar": true,
   "skip_h1_title": false,
   "title_cell": "Table of Contents",
   "title_sidebar": "Contents",
   "toc_cell": false,
   "toc_position": {},
   "toc_section_display": true,
   "toc_window_display": false
  }
 },
 "nbformat": 4,
 "nbformat_minor": 5
}
