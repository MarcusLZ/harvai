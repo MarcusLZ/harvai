{
 "cells": [
  {
   "cell_type": "code",
   "execution_count": 1,
   "metadata": {},
   "outputs": [
    {
     "name": "stderr",
     "output_type": "stream",
     "text": [
      "/Users/marco/.pyenv/versions/3.8.12/envs/harvai/lib/python3.8/site-packages/tqdm/auto.py:22: TqdmWarning: IProgress not found. Please update jupyter and ipywidgets. See https://ipywidgets.readthedocs.io/en/stable/user_install.html\n",
      "  from .autonotebook import tqdm as notebook_tqdm\n"
     ]
    }
   ],
   "source": [
    "from transformers import pipeline, AutoTokenizer, AutoModelForQuestionAnswering"
   ]
  },
  {
   "cell_type": "code",
   "execution_count": 2,
   "metadata": {},
   "outputs": [
    {
     "name": "stderr",
     "output_type": "stream",
     "text": [
      "2022-06-04 10:54:53.558260: I tensorflow/core/platform/cpu_feature_guard.cc:193] This TensorFlow binary is optimized with oneAPI Deep Neural Network Library (oneDNN) to use the following CPU instructions in performance-critical operations:  AVX2 FMA\n",
      "To enable them in other operations, rebuild TensorFlow with the appropriate compiler flags.\n"
     ]
    },
    {
     "data": {
      "text/plain": [
       "{'score': 0.5439749956130981,\n",
       " 'start': 86,\n",
       " 'end': 106,\n",
       " 'answer': ' un peintre français'}"
      ]
     },
     "execution_count": 2,
     "metadata": {},
     "output_type": "execute_result"
    }
   ],
   "source": [
    "nlp = pipeline('question-answering', model='etalab-ia/camembert-base-squadFR-fquad-piaf', tokenizer='etalab-ia/camembert-base-squadFR-fquad-piaf')\n",
    "\n",
    "nlp({\n",
    "    'question': \"Qui est Claude Monet?\",\n",
    "    'context': \"Claude Monet, né le 14 novembre 1840 à Paris et mort le 5 décembre 1926 à Giverny, est un peintre français et l’un des fondateurs de l'impressionnisme.\"\n",
    "})"
   ]
  },
  {
   "cell_type": "code",
   "execution_count": 2,
   "metadata": {},
   "outputs": [
    {
     "name": "stderr",
     "output_type": "stream",
     "text": [
      "2022-06-04 10:45:02.692230: I tensorflow/core/platform/cpu_feature_guard.cc:193] This TensorFlow binary is optimized with oneAPI Deep Neural Network Library (oneDNN) to use the following CPU instructions in performance-critical operations:  AVX2 FMA\n",
      "To enable them in other operations, rebuild TensorFlow with the appropriate compiler flags.\n",
      "All model checkpoint layers were used when initializing TFCamembertForQuestionAnswering.\n",
      "\n",
      "All the layers of TFCamembertForQuestionAnswering were initialized from the model checkpoint at cmarkea/distilcamembert-base-qa.\n",
      "If your task is similar to the task the model of the checkpoint was trained on, you can already use TFCamembertForQuestionAnswering for predictions without further training.\n"
     ]
    }
   ],
   "source": [
    "\n",
    "qa_engine = pipeline(\n",
    "    \"question-answering\",\n",
    "    model=\"cmarkea/distilcamembert-base-qa\",\n",
    "    tokenizer=\"cmarkea/distilcamembert-base-qa\"\n",
    ")\n"
   ]
  },
  {
   "cell_type": "code",
   "execution_count": 3,
   "metadata": {},
   "outputs": [],
   "source": [
    "result = qa_engine(\n",
    "    context=\"David Fincher, né le 28 août 1962 à Denver (Colorado), \"\n",
    "    \"est un réalisateur et producteur américain. Il est principalement \"\n",
    "    \"connu pour avoir réalisé les films Seven, Fight Club, L'Étrange \"\n",
    "    \"Histoire de Benjamin Button, The Social Network et Gone Girl qui \"\n",
    "    \"lui ont valu diverses récompenses et nominations aux Oscars du \"\n",
    "    \"cinéma ou aux Golden Globes. Réputé pour son perfectionnisme, il \"\n",
    "    \"peut tourner un très grand nombre de prises de ses plans et \"\n",
    "    \"séquences afin d'obtenir le rendu visuel qu'il désire. Il a \"\n",
    "    \"également développé et produit les séries télévisées House of \"\n",
    "    \"Cards (pour laquelle il remporte l'Emmy Award de la meilleure \"\n",
    "    \"réalisation pour une série dramatique en 2013) et Mindhunter, \"\n",
    "    \"diffusées sur Netflix.\",\n",
    "    question=\"Quel est le métier de David Fincher ?\")"
   ]
  },
  {
   "cell_type": "code",
   "execution_count": 4,
   "metadata": {},
   "outputs": [
    {
     "data": {
      "text/plain": [
       "{'score': 0.7981916069984436,\n",
       " 'start': 61,\n",
       " 'end': 98,\n",
       " 'answer': ' réalisateur et producteur américain.'}"
      ]
     },
     "execution_count": 4,
     "metadata": {},
     "output_type": "execute_result"
    }
   ],
   "source": [
    "result"
   ]
  },
  {
   "cell_type": "code",
   "execution_count": null,
   "metadata": {},
   "outputs": [],
   "source": []
  }
 ],
 "metadata": {
  "interpreter": {
   "hash": "b383e3f01f6ad2bdb77077b10ec8560c0ae74c59c82da93d52ca881aae79abbd"
  },
  "kernelspec": {
   "display_name": "Python 3.8.12 64-bit ('harvai')",
   "language": "python",
   "name": "python3"
  },
  "language_info": {
   "codemirror_mode": {
    "name": "ipython",
    "version": 3
   },
   "file_extension": ".py",
   "mimetype": "text/x-python",
   "name": "python",
   "nbconvert_exporter": "python",
   "pygments_lexer": "ipython3",
   "version": "3.8.12"
  },
  "orig_nbformat": 4
 },
 "nbformat": 4,
 "nbformat_minor": 2
}
