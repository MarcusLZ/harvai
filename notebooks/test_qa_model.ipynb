{
 "cells": [
  {
   "cell_type": "code",
   "execution_count": 1,
   "metadata": {},
   "outputs": [
    {
     "name": "stderr",
     "output_type": "stream",
     "text": [
      "/Users/marco/.pyenv/versions/3.8.12/envs/harvai/lib/python3.8/site-packages/tqdm/auto.py:22: TqdmWarning: IProgress not found. Please update jupyter and ipywidgets. See https://ipywidgets.readthedocs.io/en/stable/user_install.html\n",
      "  from .autonotebook import tqdm as notebook_tqdm\n"
     ]
    }
   ],
   "source": [
    "from transformers import pipeline, AutoTokenizer, AutoModelForQuestionAnswering"
   ]
  },
  {
   "cell_type": "code",
   "execution_count": 2,
   "metadata": {},
   "outputs": [
    {
     "name": "stderr",
     "output_type": "stream",
     "text": [
      "2022-06-04 10:54:53.558260: I tensorflow/core/platform/cpu_feature_guard.cc:193] This TensorFlow binary is optimized with oneAPI Deep Neural Network Library (oneDNN) to use the following CPU instructions in performance-critical operations:  AVX2 FMA\n",
      "To enable them in other operations, rebuild TensorFlow with the appropriate compiler flags.\n"
     ]
    },
    {
     "data": {
      "text/plain": [
       "{'score': 0.5439749956130981,\n",
       " 'start': 86,\n",
       " 'end': 106,\n",
       " 'answer': ' un peintre français'}"
      ]
     },
     "execution_count": 2,
     "metadata": {},
     "output_type": "execute_result"
    }
   ],
   "source": [
    "nlp = pipeline('question-answering', model='etalab-ia/camembert-base-squadFR-fquad-piaf', tokenizer='etalab-ia/camembert-base-squadFR-fquad-piaf')\n",
    "\n",
    "nlp({\n",
    "    'question': \"Qui est Claude Monet?\",\n",
    "    'context': \"Claude Monet, né le 14 novembre 1840 à Paris et mort le 5 décembre 1926 à Giverny, est un peintre français et l’un des fondateurs de l'impressionnisme.\"\n",
    "})"
   ]
  },
  {
   "cell_type": "code",
   "execution_count": 2,
   "metadata": {},
   "outputs": [
    {
     "name": "stderr",
     "output_type": "stream",
     "text": [
      "2022-06-04 10:45:02.692230: I tensorflow/core/platform/cpu_feature_guard.cc:193] This TensorFlow binary is optimized with oneAPI Deep Neural Network Library (oneDNN) to use the following CPU instructions in performance-critical operations:  AVX2 FMA\n",
      "To enable them in other operations, rebuild TensorFlow with the appropriate compiler flags.\n",
      "All model checkpoint layers were used when initializing TFCamembertForQuestionAnswering.\n",
      "\n",
      "All the layers of TFCamembertForQuestionAnswering were initialized from the model checkpoint at cmarkea/distilcamembert-base-qa.\n",
      "If your task is similar to the task the model of the checkpoint was trained on, you can already use TFCamembertForQuestionAnswering for predictions without further training.\n"
     ]
    }
   ],
   "source": [
    "\n",
    "qa_engine = pipeline(\n",
    "    \"question-answering\",\n",
    "    model=\"cmarkea/distilcamembert-base-qa\",\n",
    "    tokenizer=\"cmarkea/distilcamembert-base-qa\"\n",
    ")\n"
   ]
  },
  {
   "cell_type": "code",
   "execution_count": 3,
   "metadata": {},
   "outputs": [],
   "source": [
    "result = qa_engine(\n",
    "    context=\"David Fincher, né le 28 août 1962 à Denver (Colorado), \"\n",
    "    \"est un réalisateur et producteur américain. Il est principalement \"\n",
    "    \"connu pour avoir réalisé les films Seven, Fight Club, L'Étrange \"\n",
    "    \"Histoire de Benjamin Button, The Social Network et Gone Girl qui \"\n",
    "    \"lui ont valu diverses récompenses et nominations aux Oscars du \"\n",
    "    \"cinéma ou aux Golden Globes. Réputé pour son perfectionnisme, il \"\n",
    "    \"peut tourner un très grand nombre de prises de ses plans et \"\n",
    "    \"séquences afin d'obtenir le rendu visuel qu'il désire. Il a \"\n",
    "    \"également développé et produit les séries télévisées House of \"\n",
    "    \"Cards (pour laquelle il remporte l'Emmy Award de la meilleure \"\n",
    "    \"réalisation pour une série dramatique en 2013) et Mindhunter, \"\n",
    "    \"diffusées sur Netflix.\",\n",
    "    question=\"Quel est le métier de David Fincher ?\")"
   ]
  },
  {
   "cell_type": "code",
   "execution_count": 4,
   "metadata": {},
   "outputs": [
    {
     "data": {
      "text/plain": [
       "{'score': 0.7981916069984436,\n",
       " 'start': 61,\n",
       " 'end': 98,\n",
       " 'answer': ' réalisateur et producteur américain.'}"
      ]
     },
     "execution_count": 4,
     "metadata": {},
     "output_type": "execute_result"
    }
   ],
   "source": [
    "result"
   ]
  },
  {
   "cell_type": "code",
   "execution_count": 1,
   "metadata": {},
   "outputs": [
    {
     "name": "stderr",
     "output_type": "stream",
     "text": [
      "/Users/marco/.pyenv/versions/3.8.12/envs/harvai/lib/python3.8/site-packages/tqdm/auto.py:22: TqdmWarning: IProgress not found. Please update jupyter and ipywidgets. See https://ipywidgets.readthedocs.io/en/stable/user_install.html\n",
      "  from .autonotebook import tqdm as notebook_tqdm\n"
     ]
    }
   ],
   "source": [
    "from transformers import pipeline"
   ]
  },
  {
   "cell_type": "code",
   "execution_count": 2,
   "metadata": {},
   "outputs": [
    {
     "name": "stderr",
     "output_type": "stream",
     "text": [
      "2022-06-04 11:54:56.106471: I tensorflow/core/platform/cpu_feature_guard.cc:193] This TensorFlow binary is optimized with oneAPI Deep Neural Network Library (oneDNN) to use the following CPU instructions in performance-critical operations:  AVX2 FMA\n",
      "To enable them in other operations, rebuild TensorFlow with the appropriate compiler flags.\n"
     ]
    },
    {
     "data": {
      "text/plain": [
       "{'score': 0.5439749956130981,\n",
       " 'start': 86,\n",
       " 'end': 106,\n",
       " 'answer': ' un peintre français'}"
      ]
     },
     "execution_count": 2,
     "metadata": {},
     "output_type": "execute_result"
    }
   ],
   "source": [
    "nlp = pipeline('question-answering', model='etalab-ia/camembert-base-squadFR-fquad-piaf', tokenizer='etalab-ia/camembert-base-squadFR-fquad-piaf')\n",
    "\n",
    "nlp({\n",
    "    'question': \"Qui est Claude Monet?\",\n",
    "    'context': \"Claude Monet, né le 14 novembre 1840 à Paris et mort le 5 décembre 1926 à Giverny, est un peintre français et l’un des fondateurs de l'impressionnisme.\"\n",
    "})"
   ]
  },
  {
   "cell_type": "code",
   "execution_count": 3,
   "metadata": {},
   "outputs": [],
   "source": [
    "from harvai.qa_model import get_asnwer"
   ]
  },
  {
   "cell_type": "code",
   "execution_count": 5,
   "metadata": {},
   "outputs": [],
   "source": [
    "question =  \"Qui est Claude Monet?\"\n",
    "context = \"Claude Monet, né le 14 novembre 1840 à Paris et mort le 5 décembre 1926 à Giverny, est un peintre français et l’un des fondateurs de l'impressionnisme.\""
   ]
  },
  {
   "cell_type": "code",
   "execution_count": 6,
   "metadata": {},
   "outputs": [
    {
     "data": {
      "text/plain": [
       "{'score': 0.5439749956130981,\n",
       " 'start': 86,\n",
       " 'end': 106,\n",
       " 'answer': ' un peintre français'}"
      ]
     },
     "execution_count": 6,
     "metadata": {},
     "output_type": "execute_result"
    }
   ],
   "source": [
    "get_asnwer(question, context)"
   ]
  },
  {
   "cell_type": "code",
   "execution_count": 1,
   "metadata": {},
   "outputs": [],
   "source": [
    "from harvai.nn_model import Nn_model\n",
    "from harvai.data import get_clean_preproc_data"
   ]
  },
  {
   "cell_type": "code",
   "execution_count": 3,
   "metadata": {},
   "outputs": [],
   "source": [
    "df = get_clean_preproc_data()"
   ]
  },
  {
   "cell_type": "code",
   "execution_count": 11,
   "metadata": {},
   "outputs": [
    {
     "data": {
      "text/plain": [
       "' la validité d une ou plusieurs catégories du permis peut être limitée dans sa durée si lors de la délivrance ou de son renouvellement il est constaté que le candidat est atteint d une affection compatible avec l obtention du permis de conduire mais susceptible de s aggraver     '"
      ]
     },
     "execution_count": 11,
     "metadata": {},
     "output_type": "execute_result"
    }
   ],
   "source": [
    "df.article_wo_punctuation[411]"
   ]
  },
  {
   "cell_type": "code",
   "execution_count": 17,
   "metadata": {},
   "outputs": [
    {
     "data": {
      "text/plain": [
       "124    l auteur présumé de conduite en état d ivresse...\n",
       "442    l avis de rétention indique notamment au condu...\n",
       "Name: article_wo_punctuation, dtype: object"
      ]
     },
     "execution_count": 17,
     "metadata": {},
     "output_type": "execute_result"
    }
   ],
   "source": [
    "df.article_wo_punctuation[Nn_model(df.article_wo_punctuation).fit().predict(\"j ai conduit en etat d ivresse, quel risque ?\")[0][0:2]]"
   ]
  },
  {
   "cell_type": "code",
   "execution_count": null,
   "metadata": {},
   "outputs": [],
   "source": [
    "for article in knn.kneighbors(X_pred, return_distance=False)[0]: \n",
    "    print(livre_un[article])"
   ]
  },
  {
   "cell_type": "code",
   "execution_count": 1,
   "metadata": {},
   "outputs": [
    {
     "name": "stderr",
     "output_type": "stream",
     "text": [
      "/Users/marco/.pyenv/versions/3.8.12/envs/harvai/lib/python3.8/site-packages/tqdm/auto.py:22: TqdmWarning: IProgress not found. Please update jupyter and ipywidgets. See https://ipywidgets.readthedocs.io/en/stable/user_install.html\n",
      "  from .autonotebook import tqdm as notebook_tqdm\n"
     ]
    }
   ],
   "source": [
    "from harvai.qa_model import get_answer"
   ]
  },
  {
   "cell_type": "code",
   "execution_count": 2,
   "metadata": {},
   "outputs": [
    {
     "ename": "FileNotFoundError",
     "evalue": "[Errno 2] No such file or directory: 'raw_data/LEGITEXT000006074228.pdf'",
     "output_type": "error",
     "traceback": [
      "\u001b[0;31m---------------------------------------------------------------------------\u001b[0m",
      "\u001b[0;31mFileNotFoundError\u001b[0m                         Traceback (most recent call last)",
      "\u001b[1;32m/Users/marco/code/MarcusLZ/HarvAi/harvai/notebooks/test_qa_model.ipynb Cell 17'\u001b[0m in \u001b[0;36m<cell line: 1>\u001b[0;34m()\u001b[0m\n\u001b[0;32m----> <a href='vscode-notebook-cell:/Users/marco/code/MarcusLZ/HarvAi/harvai/notebooks/test_qa_model.ipynb#ch0000017?line=0'>1</a>\u001b[0m get_answer(\u001b[39m\"\u001b[39;49m\u001b[39mquelle peine pour un accident après avoir bu de l\u001b[39;49m\u001b[39m'\u001b[39;49m\u001b[39malcool ?\u001b[39;49m\u001b[39m\"\u001b[39;49m)[\u001b[39m'\u001b[39m\u001b[39manswer\u001b[39m\u001b[39m'\u001b[39m]\n",
      "File \u001b[0;32m~/code/MarcusLZ/HarvAi/harvai/harvai/qa_model.py:10\u001b[0m, in \u001b[0;36mget_answer\u001b[0;34m(question)\u001b[0m\n\u001b[1;32m      <a href='file:///Users/marco/code/MarcusLZ/HarvAi/harvai/harvai/qa_model.py?line=6'>7</a>\u001b[0m \u001b[39mdef\u001b[39;00m \u001b[39mget_answer\u001b[39m(question):\n\u001b[1;32m      <a href='file:///Users/marco/code/MarcusLZ/HarvAi/harvai/harvai/qa_model.py?line=7'>8</a>\u001b[0m     \u001b[39m\"\"\" Instanciate and use the transformer model\"\"\"\u001b[39;00m\n\u001b[0;32m---> <a href='file:///Users/marco/code/MarcusLZ/HarvAi/harvai/harvai/qa_model.py?line=9'>10</a>\u001b[0m     context \u001b[39m=\u001b[39m get_context(question)\n\u001b[1;32m     <a href='file:///Users/marco/code/MarcusLZ/HarvAi/harvai/harvai/qa_model.py?line=11'>12</a>\u001b[0m     model \u001b[39m=\u001b[39m pipeline(\u001b[39m'\u001b[39m\u001b[39mquestion-answering\u001b[39m\u001b[39m'\u001b[39m, model\u001b[39m=\u001b[39m\u001b[39m'\u001b[39m\u001b[39metalab-ia/camembert-base-squadFR-fquad-piaf\u001b[39m\u001b[39m'\u001b[39m, tokenizer\u001b[39m=\u001b[39m\u001b[39m'\u001b[39m\u001b[39metalab-ia/camembert-base-squadFR-fquad-piaf\u001b[39m\u001b[39m'\u001b[39m)\n\u001b[1;32m     <a href='file:///Users/marco/code/MarcusLZ/HarvAi/harvai/harvai/qa_model.py?line=13'>14</a>\u001b[0m     \u001b[39mreturn\u001b[39;00m model({ \u001b[39m'\u001b[39m\u001b[39mquestion\u001b[39m\u001b[39m'\u001b[39m: question, \u001b[39m'\u001b[39m\u001b[39mcontext\u001b[39m\u001b[39m'\u001b[39m: context })\n",
      "File \u001b[0;32m~/code/MarcusLZ/HarvAi/harvai/harvai/qa_model.py:19\u001b[0m, in \u001b[0;36mget_context\u001b[0;34m(question)\u001b[0m\n\u001b[1;32m     <a href='file:///Users/marco/code/MarcusLZ/HarvAi/harvai/harvai/qa_model.py?line=16'>17</a>\u001b[0m \u001b[39mdef\u001b[39;00m \u001b[39mget_context\u001b[39m(question):\n\u001b[1;32m     <a href='file:///Users/marco/code/MarcusLZ/HarvAi/harvai/harvai/qa_model.py?line=17'>18</a>\u001b[0m     \u001b[39m\"\"\"calling the research model/function\"\"\"\u001b[39;00m\n\u001b[0;32m---> <a href='file:///Users/marco/code/MarcusLZ/HarvAi/harvai/harvai/qa_model.py?line=18'>19</a>\u001b[0m     df \u001b[39m=\u001b[39m get_clean_preproc_data()\u001b[39m.\u001b[39marticle_wo_punctuation\n\u001b[1;32m     <a href='file:///Users/marco/code/MarcusLZ/HarvAi/harvai/harvai/qa_model.py?line=20'>21</a>\u001b[0m     model \u001b[39m=\u001b[39m Nn_model(df)\u001b[39m.\u001b[39mfit()\n\u001b[1;32m     <a href='file:///Users/marco/code/MarcusLZ/HarvAi/harvai/harvai/qa_model.py?line=22'>23</a>\u001b[0m     articles \u001b[39m=\u001b[39m model\u001b[39m.\u001b[39mpredict(question)[\u001b[39m0\u001b[39m][\u001b[39m0\u001b[39m]\n",
      "File \u001b[0;32m~/code/MarcusLZ/HarvAi/harvai/harvai/data.py:10\u001b[0m, in \u001b[0;36mget_clean_preproc_data\u001b[0;34m()\u001b[0m\n\u001b[1;32m      <a href='file:///Users/marco/code/MarcusLZ/HarvAi/harvai/harvai/data.py?line=8'>9</a>\u001b[0m \u001b[39mdef\u001b[39;00m \u001b[39mget_clean_preproc_data\u001b[39m():\n\u001b[0;32m---> <a href='file:///Users/marco/code/MarcusLZ/HarvAi/harvai/harvai/data.py?line=9'>10</a>\u001b[0m     code_brut \u001b[39m=\u001b[39m get_data()\n\u001b[1;32m     <a href='file:///Users/marco/code/MarcusLZ/HarvAi/harvai/harvai/data.py?line=10'>11</a>\u001b[0m     data \u001b[39m=\u001b[39m clean_data(code_brut)\n\u001b[1;32m     <a href='file:///Users/marco/code/MarcusLZ/HarvAi/harvai/harvai/data.py?line=11'>12</a>\u001b[0m     preproc_data \u001b[39m=\u001b[39m preprocessing_data(data)\n",
      "File \u001b[0;32m~/code/MarcusLZ/HarvAi/harvai/harvai/data.py:18\u001b[0m, in \u001b[0;36mget_data\u001b[0;34m(online)\u001b[0m\n\u001b[1;32m     <a href='file:///Users/marco/code/MarcusLZ/HarvAi/harvai/harvai/data.py?line=15'>16</a>\u001b[0m code_brut \u001b[39m=\u001b[39m \u001b[39m'\u001b[39m\u001b[39m'\u001b[39m\n\u001b[1;32m     <a href='file:///Users/marco/code/MarcusLZ/HarvAi/harvai/harvai/data.py?line=16'>17</a>\u001b[0m \u001b[39mif\u001b[39;00m online \u001b[39m==\u001b[39m \u001b[39mFalse\u001b[39;00m :\n\u001b[0;32m---> <a href='file:///Users/marco/code/MarcusLZ/HarvAi/harvai/harvai/data.py?line=17'>18</a>\u001b[0m     PDF \u001b[39m=\u001b[39m \u001b[39mopen\u001b[39;49m(DATA_LOCAL_PATH,\u001b[39m'\u001b[39;49m\u001b[39mrb\u001b[39;49m\u001b[39m'\u001b[39;49m)\n\u001b[1;32m     <a href='file:///Users/marco/code/MarcusLZ/HarvAi/harvai/harvai/data.py?line=18'>19</a>\u001b[0m     Reader \u001b[39m=\u001b[39m PyPDF2\u001b[39m.\u001b[39mPdfFileReader(PDF)\n\u001b[1;32m     <a href='file:///Users/marco/code/MarcusLZ/HarvAi/harvai/harvai/data.py?line=19'>20</a>\u001b[0m     \u001b[39mfor\u001b[39;00m i \u001b[39min\u001b[39;00m \u001b[39mrange\u001b[39m(Reader\u001b[39m.\u001b[39mnumPages):\n",
      "\u001b[0;31mFileNotFoundError\u001b[0m: [Errno 2] No such file or directory: 'raw_data/LEGITEXT000006074228.pdf'"
     ]
    }
   ],
   "source": [
    "get_answer(\"quelle peine pour un accident après avoir bu de l'alcool ?\")['answer']"
   ]
  },
  {
   "cell_type": "code",
   "execution_count": 10,
   "metadata": {},
   "outputs": [],
   "source": [
    "import os"
   ]
  },
  {
   "cell_type": "code",
   "execution_count": 15,
   "metadata": {},
   "outputs": [],
   "source": [
    "path = os.getcwd()"
   ]
  },
  {
   "cell_type": "code",
   "execution_count": 13,
   "metadata": {},
   "outputs": [
    {
     "data": {
      "text/plain": [
       "'/Users/marco/code/MarcusLZ/HarvAi/harvai'"
      ]
     },
     "execution_count": 13,
     "metadata": {},
     "output_type": "execute_result"
    }
   ],
   "source": [
    "os.path.dirname(path)"
   ]
  },
  {
   "cell_type": "code",
   "execution_count": null,
   "metadata": {},
   "outputs": [],
   "source": []
  },
  {
   "cell_type": "code",
   "execution_count": 11,
   "metadata": {},
   "outputs": [],
   "source": [
    "path_2 = 'raw_data/LEGITEXT000006074228.pdf'"
   ]
  },
  {
   "cell_type": "code",
   "execution_count": 13,
   "metadata": {},
   "outputs": [
    {
     "data": {
      "text/plain": [
       "'/Users/marco/code/MarcusLZ/HarvAi/harvai/notebooks'"
      ]
     },
     "execution_count": 13,
     "metadata": {},
     "output_type": "execute_result"
    }
   ],
   "source": [
    "os.getcwd()"
   ]
  }
 ],
 "metadata": {
  "interpreter": {
   "hash": "b383e3f01f6ad2bdb77077b10ec8560c0ae74c59c82da93d52ca881aae79abbd"
  },
  "kernelspec": {
   "display_name": "Python 3.8.12 64-bit ('harvai')",
   "language": "python",
   "name": "python3"
  },
  "language_info": {
   "codemirror_mode": {
    "name": "ipython",
    "version": 3
   },
   "file_extension": ".py",
   "mimetype": "text/x-python",
   "name": "python",
   "nbconvert_exporter": "python",
   "pygments_lexer": "ipython3",
   "version": "3.8.12"
  },
  "orig_nbformat": 4
 },
 "nbformat": 4,
 "nbformat_minor": 2
}
