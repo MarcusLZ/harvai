{
 "cells": [
  {
   "cell_type": "code",
   "execution_count": 1,
   "metadata": {},
   "outputs": [
    {
     "name": "stderr",
     "output_type": "stream",
     "text": [
      "/Users/marco/.pyenv/versions/3.8.12/envs/harvai/lib/python3.8/site-packages/tqdm/auto.py:22: TqdmWarning: IProgress not found. Please update jupyter and ipywidgets. See https://ipywidgets.readthedocs.io/en/stable/user_install.html\n",
      "  from .autonotebook import tqdm as notebook_tqdm\n"
     ]
    }
   ],
   "source": [
    "from transformers import pipeline, AutoTokenizer, AutoModelForQuestionAnswering"
   ]
  },
  {
   "cell_type": "code",
   "execution_count": 2,
   "metadata": {},
   "outputs": [
    {
     "name": "stderr",
     "output_type": "stream",
     "text": [
      "2022-06-04 10:54:53.558260: I tensorflow/core/platform/cpu_feature_guard.cc:193] This TensorFlow binary is optimized with oneAPI Deep Neural Network Library (oneDNN) to use the following CPU instructions in performance-critical operations:  AVX2 FMA\n",
      "To enable them in other operations, rebuild TensorFlow with the appropriate compiler flags.\n"
     ]
    },
    {
     "data": {
      "text/plain": [
       "{'score': 0.5439749956130981,\n",
       " 'start': 86,\n",
       " 'end': 106,\n",
       " 'answer': ' un peintre français'}"
      ]
     },
     "execution_count": 2,
     "metadata": {},
     "output_type": "execute_result"
    }
   ],
   "source": [
    "nlp = pipeline('question-answering', model='etalab-ia/camembert-base-squadFR-fquad-piaf', tokenizer='etalab-ia/camembert-base-squadFR-fquad-piaf')\n",
    "\n",
    "nlp({\n",
    "    'question': \"Qui est Claude Monet?\",\n",
    "    'context': \"Claude Monet, né le 14 novembre 1840 à Paris et mort le 5 décembre 1926 à Giverny, est un peintre français et l’un des fondateurs de l'impressionnisme.\"\n",
    "})"
   ]
  },
  {
   "cell_type": "code",
   "execution_count": 2,
   "metadata": {},
   "outputs": [
    {
     "name": "stderr",
     "output_type": "stream",
     "text": [
      "2022-06-04 10:45:02.692230: I tensorflow/core/platform/cpu_feature_guard.cc:193] This TensorFlow binary is optimized with oneAPI Deep Neural Network Library (oneDNN) to use the following CPU instructions in performance-critical operations:  AVX2 FMA\n",
      "To enable them in other operations, rebuild TensorFlow with the appropriate compiler flags.\n",
      "All model checkpoint layers were used when initializing TFCamembertForQuestionAnswering.\n",
      "\n",
      "All the layers of TFCamembertForQuestionAnswering were initialized from the model checkpoint at cmarkea/distilcamembert-base-qa.\n",
      "If your task is similar to the task the model of the checkpoint was trained on, you can already use TFCamembertForQuestionAnswering for predictions without further training.\n"
     ]
    }
   ],
   "source": [
    "\n",
    "qa_engine = pipeline(\n",
    "    \"question-answering\",\n",
    "    model=\"cmarkea/distilcamembert-base-qa\",\n",
    "    tokenizer=\"cmarkea/distilcamembert-base-qa\"\n",
    ")\n"
   ]
  },
  {
   "cell_type": "code",
   "execution_count": 3,
   "metadata": {},
   "outputs": [],
   "source": [
    "result = qa_engine(\n",
    "    context=\"David Fincher, né le 28 août 1962 à Denver (Colorado), \"\n",
    "    \"est un réalisateur et producteur américain. Il est principalement \"\n",
    "    \"connu pour avoir réalisé les films Seven, Fight Club, L'Étrange \"\n",
    "    \"Histoire de Benjamin Button, The Social Network et Gone Girl qui \"\n",
    "    \"lui ont valu diverses récompenses et nominations aux Oscars du \"\n",
    "    \"cinéma ou aux Golden Globes. Réputé pour son perfectionnisme, il \"\n",
    "    \"peut tourner un très grand nombre de prises de ses plans et \"\n",
    "    \"séquences afin d'obtenir le rendu visuel qu'il désire. Il a \"\n",
    "    \"également développé et produit les séries télévisées House of \"\n",
    "    \"Cards (pour laquelle il remporte l'Emmy Award de la meilleure \"\n",
    "    \"réalisation pour une série dramatique en 2013) et Mindhunter, \"\n",
    "    \"diffusées sur Netflix.\",\n",
    "    question=\"Quel est le métier de David Fincher ?\")"
   ]
  },
  {
   "cell_type": "code",
   "execution_count": 4,
   "metadata": {},
   "outputs": [
    {
     "data": {
      "text/plain": [
       "{'score': 0.7981916069984436,\n",
       " 'start': 61,\n",
       " 'end': 98,\n",
       " 'answer': ' réalisateur et producteur américain.'}"
      ]
     },
     "execution_count": 4,
     "metadata": {},
     "output_type": "execute_result"
    }
   ],
   "source": [
    "result"
   ]
  },
  {
   "cell_type": "code",
   "execution_count": 1,
   "metadata": {},
   "outputs": [
    {
     "name": "stderr",
     "output_type": "stream",
     "text": [
      "/Users/marco/.pyenv/versions/3.8.12/envs/harvai/lib/python3.8/site-packages/tqdm/auto.py:22: TqdmWarning: IProgress not found. Please update jupyter and ipywidgets. See https://ipywidgets.readthedocs.io/en/stable/user_install.html\n",
      "  from .autonotebook import tqdm as notebook_tqdm\n"
     ]
    }
   ],
   "source": [
    "from transformers import pipeline"
   ]
  },
  {
   "cell_type": "code",
   "execution_count": 2,
   "metadata": {},
   "outputs": [
    {
     "name": "stderr",
     "output_type": "stream",
     "text": [
      "2022-06-04 11:54:56.106471: I tensorflow/core/platform/cpu_feature_guard.cc:193] This TensorFlow binary is optimized with oneAPI Deep Neural Network Library (oneDNN) to use the following CPU instructions in performance-critical operations:  AVX2 FMA\n",
      "To enable them in other operations, rebuild TensorFlow with the appropriate compiler flags.\n"
     ]
    },
    {
     "data": {
      "text/plain": [
       "{'score': 0.5439749956130981,\n",
       " 'start': 86,\n",
       " 'end': 106,\n",
       " 'answer': ' un peintre français'}"
      ]
     },
     "execution_count": 2,
     "metadata": {},
     "output_type": "execute_result"
    }
   ],
   "source": [
    "nlp = pipeline('question-answering', model='etalab-ia/camembert-base-squadFR-fquad-piaf', tokenizer='etalab-ia/camembert-base-squadFR-fquad-piaf')\n",
    "\n",
    "nlp({\n",
    "    'question': \"Qui est Claude Monet?\",\n",
    "    'context': \"Claude Monet, né le 14 novembre 1840 à Paris et mort le 5 décembre 1926 à Giverny, est un peintre français et l’un des fondateurs de l'impressionnisme.\"\n",
    "})"
   ]
  },
  {
   "cell_type": "code",
   "execution_count": 1,
   "metadata": {},
   "outputs": [],
   "source": [
    "from harvai.qa_model import get_context, get_answer"
   ]
  },
  {
   "cell_type": "code",
   "execution_count": 6,
   "metadata": {},
   "outputs": [
    {
     "data": {
      "text/plain": [
       "'i.-hors agglomération, la vitesse des véhicules est limitée à :   1° 130 km/ h sur les autoroutes. toutefois, lorsqu une voirie appartenant au réseau routier national a fait l objet d un classement dans la catégorie des autoroutes en application du sixième alinéa de l article r. 122-1 du code de la voirie routière, la vitesse maximale autorisée demeure celle fixée antérieurement à ce classement ;   2° 110 km/ h sur les routes à deux chaussées séparées par un terre-plein central ;   3° 80 km/ h sur les autres routes. toutefois, sur les sections de ces routes comportant au moins deux voies affectées à un même sens de circulation, la vitesse maximale est relevée à 90 km/ h sur ces seules voies. ces sections font l objet d une signalisation routière dans les conditions prévues par l article r. 411-25.   ii.-en cas de pluie ou d autres précipitations, ces vitesses maximales sont abaissées à :   1° 110 km/ h sur les sections d autoroutes où la limite normale est de 130 km/ h ;   2° 100 km/ h sur les sections d autoroutes où cette limite est plus basse ainsi que sur les routes à deux chaussées séparées par un terre-plein central ;   3° 80 km/ h sur les sections des autres routes mentionnées au 3° du i.   iii.-les autorités détentrices du pouvoir de police de la circulation compétentes communiquent au ministre chargé de la sécurité routière la liste des sections de routes relevant de leur compétence qui comportent au moins deux voies affectées à un même sens de circulation et sur lesquelles la vitesse maximale est relevée à 90 km/ h en application du 3° du i.  i. - hors agglomération et à l exception des voies sur lesquelles la vitesse des véhicules est limitée à 80 km/ h en application du 3° du i de l article r. 413-2, la vitesse des véhicules de transport en commun est limitée à 90 km/h.   ii.- toutefois, cette vitesse maximale est relevée à 100 km/h :   1° sur les autoroutes pour les véhicules dont le poids total est supérieur à 10 tonnes et possédant des caractéristiques techniques particulières définies par arrêté du ministre chargé des transports ;   2° sur les autoroutes et les routes à chaussées séparées par un terre-plein central pour les véhicules dont le poids est inférieur ou égal à 10 tonnes.   iii.- en exploitation, ces vitesses maximales sont abaissées à 70 km / h pour les autobus et les autocars avec passagers debout. '"
      ]
     },
     "execution_count": 6,
     "metadata": {},
     "output_type": "execute_result"
    }
   ],
   "source": [
    "get_context(\"quelle est la vitesse limite de circulation sur les autoroutes ?\")"
   ]
  },
  {
   "cell_type": "code",
   "execution_count": 4,
   "metadata": {},
   "outputs": [
    {
     "name": "stderr",
     "output_type": "stream",
     "text": [
      "/Users/marco/.pyenv/versions/3.8.12/envs/harvai/lib/python3.8/site-packages/transformers/tokenization_utils_base.py:707: VisibleDeprecationWarning: Creating an ndarray from ragged nested sequences (which is a list-or-tuple of lists-or-tuples-or ndarrays with different lengths or shapes) is deprecated. If you meant to do this, you must specify 'dtype=object' when creating the ndarray.\n",
      "  tensor = as_tensor(value)\n",
      "/Users/marco/.pyenv/versions/3.8.12/envs/harvai/lib/python3.8/site-packages/transformers/pipelines/question_answering.py:297: VisibleDeprecationWarning: Creating an ndarray from ragged nested sequences (which is a list-or-tuple of lists-or-tuples-or ndarrays with different lengths or shapes) is deprecated. If you meant to do this, you must specify 'dtype=object' when creating the ndarray.\n",
      "  p_mask = np.asarray(\n"
     ]
    },
    {
     "data": {
      "text/plain": [
       "{'score': 0.2298058122396469, 'start': 68, 'end': 78, 'answer': ' 130 km/ h'}"
      ]
     },
     "execution_count": 4,
     "metadata": {},
     "output_type": "execute_result"
    }
   ],
   "source": [
    "get_answer(\"quelle est la vitesse limite de circulation sur les autoroutes ?\")"
   ]
  },
  {
   "cell_type": "code",
   "execution_count": 2,
   "metadata": {},
   "outputs": [],
   "source": [
    "from harvai.nn_model import Nn_model\n",
    "from harvai.data import get_clean_preproc_data"
   ]
  },
  {
   "cell_type": "code",
   "execution_count": 17,
   "metadata": {},
   "outputs": [
    {
     "data": {
      "text/plain": [
       "124    l auteur présumé de conduite en état d ivresse...\n",
       "442    l avis de rétention indique notamment au condu...\n",
       "Name: article_wo_punctuation, dtype: object"
      ]
     },
     "execution_count": 17,
     "metadata": {},
     "output_type": "execute_result"
    }
   ],
   "source": [
    "df.article_wo_punctuation[Nn_model(df.article_wo_punctuation).fit().predict(\"j ai conduit en etat d ivresse, quel risque ?\")[0][0:2]]"
   ]
  },
  {
   "cell_type": "code",
   "execution_count": null,
   "metadata": {},
   "outputs": [],
   "source": [
    "for article in knn.kneighbors(X_pred, return_distance=False)[0]: \n",
    "    print(livre_un[article])"
   ]
  },
  {
   "cell_type": "code",
   "execution_count": 1,
   "metadata": {},
   "outputs": [],
   "source": [
    "from harvai.data import get_clean_preproc_data"
   ]
  },
  {
   "cell_type": "code",
   "execution_count": 3,
   "metadata": {},
   "outputs": [],
   "source": [
    "df = get_clean_preproc_data()"
   ]
  },
  {
   "cell_type": "code",
   "execution_count": 7,
   "metadata": {},
   "outputs": [
    {
     "data": {
      "text/html": [
       "<div>\n",
       "<style scoped>\n",
       "    .dataframe tbody tr th:only-of-type {\n",
       "        vertical-align: middle;\n",
       "    }\n",
       "\n",
       "    .dataframe tbody tr th {\n",
       "        vertical-align: top;\n",
       "    }\n",
       "\n",
       "    .dataframe thead th {\n",
       "        text-align: right;\n",
       "    }\n",
       "</style>\n",
       "<table border=\"1\" class=\"dataframe\">\n",
       "  <thead>\n",
       "    <tr style=\"text-align: right;\">\n",
       "      <th></th>\n",
       "      <th>article_base</th>\n",
       "      <th>article_number</th>\n",
       "      <th>article_content</th>\n",
       "      <th>article_lowered</th>\n",
       "      <th>article_wo_numbers</th>\n",
       "      <th>article_wo_punctuation</th>\n",
       "      <th>article_wo_stopwords</th>\n",
       "      <th>article_tfidf_format</th>\n",
       "    </tr>\n",
       "  </thead>\n",
       "  <tbody>\n",
       "    <tr>\n",
       "      <th>0</th>\n",
       "      <td>Article L110-1   Pour l application du présent...</td>\n",
       "      <td>Article L110-1</td>\n",
       "      <td>Pour l application du présent code, les termes...</td>\n",
       "      <td>pour l application du présent code, les termes...</td>\n",
       "      <td>pour l application du présent code, les termes...</td>\n",
       "      <td>pour l application du présent code les termes ...</td>\n",
       "      <td>[application, présent, code, termes, ciaprès, ...</td>\n",
       "      <td>application présent code termes ciaprès sens d...</td>\n",
       "    </tr>\n",
       "    <tr>\n",
       "      <th>1</th>\n",
       "      <td>Article L110-2   La définition des voiries nat...</td>\n",
       "      <td>Article L110-2</td>\n",
       "      <td>La définition des voiries nationales, départem...</td>\n",
       "      <td>la définition des voiries nationales, départem...</td>\n",
       "      <td>la définition des voiries nationales, départem...</td>\n",
       "      <td>la définition des voiries nationales départeme...</td>\n",
       "      <td>[définition, voiries, nationales, départementa...</td>\n",
       "      <td>définition voiries nationales départementales ...</td>\n",
       "    </tr>\n",
       "    <tr>\n",
       "      <th>2</th>\n",
       "      <td>Article L110-3   Les routes à grande circulati...</td>\n",
       "      <td>Article L110-3</td>\n",
       "      <td>Les routes à grande circulation, quelle que so...</td>\n",
       "      <td>les routes à grande circulation, quelle que so...</td>\n",
       "      <td>les routes à grande circulation, quelle que so...</td>\n",
       "      <td>les routes à grande circulation quelle que soi...</td>\n",
       "      <td>[routes, grande, circulation, quelle, apparten...</td>\n",
       "      <td>routes grande circulation quelle appartenance ...</td>\n",
       "    </tr>\n",
       "    <tr>\n",
       "      <th>3</th>\n",
       "      <td>Article L121-1   Le conducteur d un véhicule e...</td>\n",
       "      <td>Article L121-1</td>\n",
       "      <td>Le conducteur d un véhicule est responsable pé...</td>\n",
       "      <td>le conducteur d un véhicule est responsable pé...</td>\n",
       "      <td>le conducteur d un véhicule est responsable pé...</td>\n",
       "      <td>le conducteur d un véhicule est responsable pé...</td>\n",
       "      <td>[conducteur, véhicule, responsable, pénalement...</td>\n",
       "      <td>conducteur véhicule responsable pénalement inf...</td>\n",
       "    </tr>\n",
       "    <tr>\n",
       "      <th>4</th>\n",
       "      <td>Article L121-2   Par dérogation aux dispositio...</td>\n",
       "      <td>Article L121-2</td>\n",
       "      <td>Par dérogation aux dispositions de l article L...</td>\n",
       "      <td>par dérogation aux dispositions de l article l...</td>\n",
       "      <td>par dérogation aux dispositions de l article l...</td>\n",
       "      <td>par dérogation aux dispositions de l article l...</td>\n",
       "      <td>[dérogation, dispositions, article, titulaire,...</td>\n",
       "      <td>dérogation dispositions article titulaire cert...</td>\n",
       "    </tr>\n",
       "    <tr>\n",
       "      <th>...</th>\n",
       "      <td>...</td>\n",
       "      <td>...</td>\n",
       "      <td>...</td>\n",
       "      <td>...</td>\n",
       "      <td>...</td>\n",
       "      <td>...</td>\n",
       "      <td>...</td>\n",
       "      <td>...</td>\n",
       "    </tr>\n",
       "    <tr>\n",
       "      <th>1144</th>\n",
       "      <td>Article A121-2     I.- Lorsque ces information...</td>\n",
       "      <td>Article A121-2</td>\n",
       "      <td>I.- Lorsque ces informations sont adressées ...</td>\n",
       "      <td>i.- lorsque ces informations sont adressées ...</td>\n",
       "      <td>i.- lorsque ces informations sont adressées ...</td>\n",
       "      <td>i lorsque ces informations sont adressées pa...</td>\n",
       "      <td>[lorsque, informations, adressées, lettre, rec...</td>\n",
       "      <td>lorsque informations adressées lettre recomman...</td>\n",
       "    </tr>\n",
       "    <tr>\n",
       "      <th>1145</th>\n",
       "      <td>Article A121-3     I.- Lorsque ces information...</td>\n",
       "      <td>Article A121-3</td>\n",
       "      <td>I.- Lorsque ces informations sont adressées ...</td>\n",
       "      <td>i.- lorsque ces informations sont adressées ...</td>\n",
       "      <td>i.- lorsque ces informations sont adressées ...</td>\n",
       "      <td>i lorsque ces informations sont adressées de...</td>\n",
       "      <td>[lorsque, informations, adressées, façon, déma...</td>\n",
       "      <td>lorsque informations adressées façon dématéria...</td>\n",
       "    </tr>\n",
       "    <tr>\n",
       "      <th>1146</th>\n",
       "      <td>Article A143-1     Sont applicables en Nouvell...</td>\n",
       "      <td>Article A143-1</td>\n",
       "      <td>Sont applicables en Nouvelle-Calédonie, en P...</td>\n",
       "      <td>sont applicables en nouvelle-calédonie, en p...</td>\n",
       "      <td>sont applicables en nouvelle-calédonie, en p...</td>\n",
       "      <td>sont applicables en nouvellecalédonie en pol...</td>\n",
       "      <td>[applicables, nouvellecalédonie, polynésie, fr...</td>\n",
       "      <td>applicables nouvellecalédonie polynésie frança...</td>\n",
       "    </tr>\n",
       "    <tr>\n",
       "      <th>1147</th>\n",
       "      <td>Article A325-12   Le modèle de fiche descripti...</td>\n",
       "      <td>Article A325-12</td>\n",
       "      <td>Le modèle de fiche descriptive de l état du v...</td>\n",
       "      <td>le modèle de fiche descriptive de l état du v...</td>\n",
       "      <td>le modèle de fiche descriptive de l état du v...</td>\n",
       "      <td>le modèle de fiche descriptive de l état du v...</td>\n",
       "      <td>[modèle, fiche, descriptive, état, véhicule, e...</td>\n",
       "      <td>modèle fiche descriptive état véhicule enlever...</td>\n",
       "    </tr>\n",
       "    <tr>\n",
       "      <th>1148</th>\n",
       "      <td>Article A325-13   Les données relatives à l en...</td>\n",
       "      <td>Article A325-13</td>\n",
       "      <td>Les données relatives à l enlèvement, à la ga...</td>\n",
       "      <td>les données relatives à l enlèvement, à la ga...</td>\n",
       "      <td>les données relatives à l enlèvement, à la ga...</td>\n",
       "      <td>les données relatives à l enlèvement à la gar...</td>\n",
       "      <td>[données, relatives, enlèvement, garde, vente,...</td>\n",
       "      <td>données relatives enlèvement garde vente destr...</td>\n",
       "    </tr>\n",
       "  </tbody>\n",
       "</table>\n",
       "<p>1149 rows × 8 columns</p>\n",
       "</div>"
      ],
      "text/plain": [
       "                                           article_base     article_number  \\\n",
       "0     Article L110-1   Pour l application du présent...  Article L110-1      \n",
       "1     Article L110-2   La définition des voiries nat...  Article L110-2      \n",
       "2     Article L110-3   Les routes à grande circulati...  Article L110-3      \n",
       "3     Article L121-1   Le conducteur d un véhicule e...  Article L121-1      \n",
       "4     Article L121-2   Par dérogation aux dispositio...  Article L121-2      \n",
       "...                                                 ...                ...   \n",
       "1144  Article A121-2     I.- Lorsque ces information...  Article A121-2      \n",
       "1145  Article A121-3     I.- Lorsque ces information...  Article A121-3      \n",
       "1146  Article A143-1     Sont applicables en Nouvell...  Article A143-1      \n",
       "1147  Article A325-12   Le modèle de fiche descripti...  Article A325-12     \n",
       "1148  Article A325-13   Les données relatives à l en...  Article A325-13     \n",
       "\n",
       "                                        article_content  \\\n",
       "0     Pour l application du présent code, les termes...   \n",
       "1     La définition des voiries nationales, départem...   \n",
       "2     Les routes à grande circulation, quelle que so...   \n",
       "3     Le conducteur d un véhicule est responsable pé...   \n",
       "4     Par dérogation aux dispositions de l article L...   \n",
       "...                                                 ...   \n",
       "1144    I.- Lorsque ces informations sont adressées ...   \n",
       "1145    I.- Lorsque ces informations sont adressées ...   \n",
       "1146    Sont applicables en Nouvelle-Calédonie, en P...   \n",
       "1147   Le modèle de fiche descriptive de l état du v...   \n",
       "1148   Les données relatives à l enlèvement, à la ga...   \n",
       "\n",
       "                                        article_lowered  \\\n",
       "0     pour l application du présent code, les termes...   \n",
       "1     la définition des voiries nationales, départem...   \n",
       "2     les routes à grande circulation, quelle que so...   \n",
       "3     le conducteur d un véhicule est responsable pé...   \n",
       "4     par dérogation aux dispositions de l article l...   \n",
       "...                                                 ...   \n",
       "1144    i.- lorsque ces informations sont adressées ...   \n",
       "1145    i.- lorsque ces informations sont adressées ...   \n",
       "1146    sont applicables en nouvelle-calédonie, en p...   \n",
       "1147   le modèle de fiche descriptive de l état du v...   \n",
       "1148   les données relatives à l enlèvement, à la ga...   \n",
       "\n",
       "                                     article_wo_numbers  \\\n",
       "0     pour l application du présent code, les termes...   \n",
       "1     la définition des voiries nationales, départem...   \n",
       "2     les routes à grande circulation, quelle que so...   \n",
       "3     le conducteur d un véhicule est responsable pé...   \n",
       "4     par dérogation aux dispositions de l article l...   \n",
       "...                                                 ...   \n",
       "1144    i.- lorsque ces informations sont adressées ...   \n",
       "1145    i.- lorsque ces informations sont adressées ...   \n",
       "1146    sont applicables en nouvelle-calédonie, en p...   \n",
       "1147   le modèle de fiche descriptive de l état du v...   \n",
       "1148   les données relatives à l enlèvement, à la ga...   \n",
       "\n",
       "                                 article_wo_punctuation  \\\n",
       "0     pour l application du présent code les termes ...   \n",
       "1     la définition des voiries nationales départeme...   \n",
       "2     les routes à grande circulation quelle que soi...   \n",
       "3     le conducteur d un véhicule est responsable pé...   \n",
       "4     par dérogation aux dispositions de l article l...   \n",
       "...                                                 ...   \n",
       "1144    i lorsque ces informations sont adressées pa...   \n",
       "1145    i lorsque ces informations sont adressées de...   \n",
       "1146    sont applicables en nouvellecalédonie en pol...   \n",
       "1147   le modèle de fiche descriptive de l état du v...   \n",
       "1148   les données relatives à l enlèvement à la gar...   \n",
       "\n",
       "                                   article_wo_stopwords  \\\n",
       "0     [application, présent, code, termes, ciaprès, ...   \n",
       "1     [définition, voiries, nationales, départementa...   \n",
       "2     [routes, grande, circulation, quelle, apparten...   \n",
       "3     [conducteur, véhicule, responsable, pénalement...   \n",
       "4     [dérogation, dispositions, article, titulaire,...   \n",
       "...                                                 ...   \n",
       "1144  [lorsque, informations, adressées, lettre, rec...   \n",
       "1145  [lorsque, informations, adressées, façon, déma...   \n",
       "1146  [applicables, nouvellecalédonie, polynésie, fr...   \n",
       "1147  [modèle, fiche, descriptive, état, véhicule, e...   \n",
       "1148  [données, relatives, enlèvement, garde, vente,...   \n",
       "\n",
       "                                   article_tfidf_format  \n",
       "0     application présent code termes ciaprès sens d...  \n",
       "1     définition voiries nationales départementales ...  \n",
       "2     routes grande circulation quelle appartenance ...  \n",
       "3     conducteur véhicule responsable pénalement inf...  \n",
       "4     dérogation dispositions article titulaire cert...  \n",
       "...                                                 ...  \n",
       "1144  lorsque informations adressées lettre recomman...  \n",
       "1145  lorsque informations adressées façon dématéria...  \n",
       "1146  applicables nouvellecalédonie polynésie frança...  \n",
       "1147  modèle fiche descriptive état véhicule enlever...  \n",
       "1148  données relatives enlèvement garde vente destr...  \n",
       "\n",
       "[1149 rows x 8 columns]"
      ]
     },
     "execution_count": 7,
     "metadata": {},
     "output_type": "execute_result"
    }
   ],
   "source": [
    "df"
   ]
  },
  {
   "cell_type": "code",
   "execution_count": 10,
   "metadata": {},
   "outputs": [],
   "source": [
    "import os"
   ]
  },
  {
   "cell_type": "code",
   "execution_count": 3,
   "metadata": {},
   "outputs": [],
   "source": [
    "path = os.getcwd()"
   ]
  },
  {
   "cell_type": "code",
   "execution_count": 5,
   "metadata": {},
   "outputs": [
    {
     "data": {
      "text/plain": [
       "'notebooks'"
      ]
     },
     "execution_count": 5,
     "metadata": {},
     "output_type": "execute_result"
    }
   ],
   "source": [
    "os.path.basename(path)"
   ]
  },
  {
   "cell_type": "code",
   "execution_count": null,
   "metadata": {},
   "outputs": [],
   "source": []
  },
  {
   "cell_type": "code",
   "execution_count": 11,
   "metadata": {},
   "outputs": [],
   "source": [
    "path_2 = 'raw_data/LEGITEXT000006074228.pdf'"
   ]
  },
  {
   "cell_type": "code",
   "execution_count": 13,
   "metadata": {},
   "outputs": [
    {
     "data": {
      "text/plain": [
       "'/Users/marco/code/MarcusLZ/HarvAi/harvai/notebooks'"
      ]
     },
     "execution_count": 13,
     "metadata": {},
     "output_type": "execute_result"
    }
   ],
   "source": [
    "os.getcwd()"
   ]
  }
 ],
 "metadata": {
  "interpreter": {
   "hash": "b383e3f01f6ad2bdb77077b10ec8560c0ae74c59c82da93d52ca881aae79abbd"
  },
  "kernelspec": {
   "display_name": "Python 3.8.12 64-bit ('harvai')",
   "language": "python",
   "name": "python3"
  },
  "language_info": {
   "codemirror_mode": {
    "name": "ipython",
    "version": 3
   },
   "file_extension": ".py",
   "mimetype": "text/x-python",
   "name": "python",
   "nbconvert_exporter": "python",
   "pygments_lexer": "ipython3",
   "version": "3.8.12"
  },
  "orig_nbformat": 4
 },
 "nbformat": 4,
 "nbformat_minor": 2
}
