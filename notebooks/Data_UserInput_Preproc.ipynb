{
 "cells": [
  {
   "cell_type": "code",
   "execution_count": 7,
   "id": "c366e5f2",
   "metadata": {},
   "outputs": [],
   "source": [
    "user_input = \"Quelle est la couleur du cheval blanc d'Henry IV\""
   ]
  },
  {
   "cell_type": "code",
   "execution_count": 8,
   "id": "77e9a1e9",
   "metadata": {},
   "outputs": [
    {
     "data": {
      "text/plain": [
       "\"quelle est la couleur du cheval blanc d'henry iv\""
      ]
     },
     "execution_count": 8,
     "metadata": {},
     "output_type": "execute_result"
    }
   ],
   "source": [
    "# article_lower \n",
    "user_input = user_input.lower()\n",
    "user_input"
   ]
  },
  {
   "cell_type": "code",
   "execution_count": 9,
   "id": "1e1092fe",
   "metadata": {},
   "outputs": [
    {
     "data": {
      "text/plain": [
       "\"quelle est la couleur du cheval blanc d'henry iv\""
      ]
     },
     "execution_count": 9,
     "metadata": {},
     "output_type": "execute_result"
    }
   ],
   "source": [
    "# remove number\n",
    "user_input = ''.join([i for i in user_input if not i.isdigit()])\n",
    "user_input"
   ]
  },
  {
   "cell_type": "code",
   "execution_count": 10,
   "id": "2823e3ac",
   "metadata": {},
   "outputs": [
    {
     "data": {
      "text/plain": [
       "'quelle est la couleur du cheval blanc d henry iv'"
      ]
     },
     "execution_count": 10,
     "metadata": {},
     "output_type": "execute_result"
    }
   ],
   "source": [
    "# remove ponctuation\n",
    "import string\n",
    "for punctuation in string.punctuation :\n",
    "    user_input = user_input.replace(punctuation,\" \")\n",
    "user_input"
   ]
  },
  {
   "cell_type": "code",
   "execution_count": 11,
   "id": "3b6051fb",
   "metadata": {},
   "outputs": [
    {
     "data": {
      "text/plain": [
       "['quelle', 'couleur', 'cheval', 'blanc', 'henry', 'iv']"
      ]
     },
     "execution_count": 11,
     "metadata": {},
     "output_type": "execute_result"
    }
   ],
   "source": [
    "# remove_stopwords\n",
    "from nltk.corpus import stopwords\n",
    "from nltk.tokenize import word_tokenize\n",
    "stop_words = set(stopwords.words('french'))\n",
    "word_tokens = word_tokenize(user_input)     \n",
    "user_input = [word for word in word_tokens if not word in stop_words] \n",
    "user_input = [word for word in user_input if len(word)>1] # retrait des caractères spéciaux restants\n",
    "user_input\n"
   ]
  },
  {
   "cell_type": "code",
   "execution_count": 12,
   "id": "7bbde504",
   "metadata": {},
   "outputs": [
    {
     "data": {
      "text/plain": [
       "'quelle couleur cheval blanc henry iv'"
      ]
     },
     "execution_count": 12,
     "metadata": {},
     "output_type": "execute_result"
    }
   ],
   "source": [
    "# tfidf_format(x):\n",
    "user_input = \" \".join([str(word) for word in user_input])\n",
    "user_input\n"
   ]
  },
  {
   "cell_type": "code",
   "execution_count": 17,
   "id": "87c56d8e",
   "metadata": {},
   "outputs": [
    {
     "data": {
      "text/plain": [
       "'quel couleur cheval blanc henry iv'"
      ]
     },
     "execution_count": 17,
     "metadata": {},
     "output_type": "execute_result"
    }
   ],
   "source": [
    "import simplemma\n",
    "langdata = simplemma.load_data('fr')\n",
    "# Lemmatize(x):\n",
    "user_input = simplemma.text_lemmatizer(user_input,langdata)\n",
    "user_input = \" \".join([str(word) for word in user_input])\n",
    "user_input"
   ]
  },
  {
   "cell_type": "code",
   "execution_count": 18,
   "id": "5480e334",
   "metadata": {},
   "outputs": [],
   "source": [
    "from harvai.data import preprocessing_user_input"
   ]
  },
  {
   "cell_type": "code",
   "execution_count": 19,
   "id": "3f5c03aa",
   "metadata": {},
   "outputs": [
    {
     "data": {
      "text/plain": [
       "'quel couleur cheval blanc henry iv'"
      ]
     },
     "execution_count": 19,
     "metadata": {},
     "output_type": "execute_result"
    }
   ],
   "source": [
    "user_input = preprocessing_user_input(\"Quelle est la couleur du cheval blanc d'Henry IV\")\n",
    "user_input"
   ]
  },
  {
   "cell_type": "code",
   "execution_count": null,
   "id": "cbd5ac05",
   "metadata": {},
   "outputs": [],
   "source": []
  }
 ],
 "metadata": {
  "kernelspec": {
   "display_name": "Python 3 (ipykernel)",
   "language": "python",
   "name": "python3"
  },
  "language_info": {
   "codemirror_mode": {
    "name": "ipython",
    "version": 3
   },
   "file_extension": ".py",
   "mimetype": "text/x-python",
   "name": "python",
   "nbconvert_exporter": "python",
   "pygments_lexer": "ipython3",
   "version": "3.8.12"
  },
  "toc": {
   "base_numbering": 1,
   "nav_menu": {},
   "number_sections": true,
   "sideBar": true,
   "skip_h1_title": false,
   "title_cell": "Table of Contents",
   "title_sidebar": "Contents",
   "toc_cell": false,
   "toc_position": {},
   "toc_section_display": true,
   "toc_window_display": false
  }
 },
 "nbformat": 4,
 "nbformat_minor": 5
}
