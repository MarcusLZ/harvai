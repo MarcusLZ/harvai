{
 "cells": [
  {
   "cell_type": "code",
   "execution_count": 1,
   "metadata": {},
   "outputs": [],
   "source": [
    "from harvai.data import get_clean_preproc_data"
   ]
  },
  {
   "cell_type": "code",
   "execution_count": 2,
   "metadata": {},
   "outputs": [],
   "source": [
    "data = get_clean_preproc_data()"
   ]
  },
  {
   "cell_type": "code",
   "execution_count": 3,
   "metadata": {},
   "outputs": [],
   "source": [
    "from transformers import AutoTokenizer, AutoModelForSeq2SeqLM\n",
    "from transformers import Text2TextGenerationPipeline\n",
    "\n",
    "model_name = 'lincoln/barthez-squadFR-fquad-piaf-question-generation'\n",
    "\n",
    "loaded_model = AutoModelForSeq2SeqLM.from_pretrained(model_name)\n",
    "loaded_tokenizer = AutoTokenizer.from_pretrained(model_name)\n",
    "\n",
    "\n"
   ]
  },
  {
   "cell_type": "code",
   "execution_count": 32,
   "metadata": {},
   "outputs": [],
   "source": [
    "questions = []\n",
    "articles = []\n",
    "for article in range(0,1148):\n",
    "    \n",
    "    if(len(data.iloc[article,2])) > 1020: \n",
    "        text = data.iloc[article,2][0:1020] \n",
    "    else:    \n",
    "        text = data.iloc[article,2]\n",
    "        \n",
    "    inputs = loaded_tokenizer(text, return_tensors='pt')\n",
    "\n",
    "    out = loaded_model.generate(\n",
    "        input_ids=inputs.input_ids,\n",
    "        attention_mask=inputs.attention_mask,\n",
    "        num_beams=5,\n",
    "        num_return_sequences=5,\n",
    "        length_penalty=20\n",
    "    )\n",
    "\n",
    "\n",
    "    for question in out:\n",
    "        questions.append(loaded_tokenizer.decode(question, skip_special_tokens=True))\n",
    "        articles.append(article)\n"
   ]
  },
  {
   "cell_type": "code",
   "execution_count": 4,
   "metadata": {},
   "outputs": [],
   "source": [
    "import pandas as pd"
   ]
  },
  {
   "cell_type": "code",
   "execution_count": 33,
   "metadata": {},
   "outputs": [],
   "source": [
    "df_questions =pd.DataFrame(columns=['questions','id'])\n",
    "df_questions['questions'] =questions \n",
    "df_questions['id'] =articles "
   ]
  },
  {
   "cell_type": "code",
   "execution_count": 39,
   "metadata": {},
   "outputs": [],
   "source": [
    "df_questions.to_csv('../raw_data/generated_questions_dataset.csv')"
   ]
  },
  {
   "cell_type": "code",
   "execution_count": 48,
   "metadata": {},
   "outputs": [],
   "source": [
    "test = pd.read_csv('../raw_data/generated_questions_dataset.csv')"
   ]
  },
  {
   "cell_type": "code",
   "execution_count": 51,
   "metadata": {},
   "outputs": [
    {
     "data": {
      "text/html": [
       "<div>\n",
       "<style scoped>\n",
       "    .dataframe tbody tr th:only-of-type {\n",
       "        vertical-align: middle;\n",
       "    }\n",
       "\n",
       "    .dataframe tbody tr th {\n",
       "        vertical-align: top;\n",
       "    }\n",
       "\n",
       "    .dataframe thead th {\n",
       "        text-align: right;\n",
       "    }\n",
       "</style>\n",
       "<table border=\"1\" class=\"dataframe\">\n",
       "  <thead>\n",
       "    <tr style=\"text-align: right;\">\n",
       "      <th></th>\n",
       "      <th>questions</th>\n",
       "      <th>id</th>\n",
       "    </tr>\n",
       "  </thead>\n",
       "  <tbody>\n",
       "    <tr>\n",
       "      <th>0</th>\n",
       "      <td>Quelle est la signification du terme \"véhicule à moteur\"?</td>\n",
       "      <td>0</td>\n",
       "    </tr>\n",
       "    <tr>\n",
       "      <th>1</th>\n",
       "      <td>Que signifie le terme \"véhicule à moteur\" en français?</td>\n",
       "      <td>0</td>\n",
       "    </tr>\n",
       "    <tr>\n",
       "      <th>2</th>\n",
       "      <td>Quelle est la signification du terme \"véhicule à moteur\"?</td>\n",
       "      <td>0</td>\n",
       "    </tr>\n",
       "    <tr>\n",
       "      <th>3</th>\n",
       "      <td>Quel est le terme utilisé pour désigner les véhicules à moteur?</td>\n",
       "      <td>0</td>\n",
       "    </tr>\n",
       "    <tr>\n",
       "      <th>4</th>\n",
       "      <td>Que signifie le terme \"véhicule à moteur\"?</td>\n",
       "      <td>0</td>\n",
       "    </tr>\n",
       "    <tr>\n",
       "      <th>...</th>\n",
       "      <td>...</td>\n",
       "      <td>...</td>\n",
       "    </tr>\n",
       "    <tr>\n",
       "      <th>5735</th>\n",
       "      <td>Quelles sont les mentions facultatives d'un modèle de fiche descriptive de l...</td>\n",
       "      <td>1147</td>\n",
       "    </tr>\n",
       "    <tr>\n",
       "      <th>5736</th>\n",
       "      <td>Qu'est-ce qui doit être mentionné dans la fiche descriptive de l état du véh...</td>\n",
       "      <td>1147</td>\n",
       "    </tr>\n",
       "    <tr>\n",
       "      <th>5737</th>\n",
       "      <td>Qu'est-ce qui doit être mentionné sur la fiche descriptive de l état du véhi...</td>\n",
       "      <td>1147</td>\n",
       "    </tr>\n",
       "    <tr>\n",
       "      <th>5738</th>\n",
       "      <td>Quelles sont les mentions facultatives d'un modèle de fiche descriptive de l...</td>\n",
       "      <td>1147</td>\n",
       "    </tr>\n",
       "    <tr>\n",
       "      <th>5739</th>\n",
       "      <td>Quelles sont les mentions obligatoires d'une fiche descriptive de l état du ...</td>\n",
       "      <td>1147</td>\n",
       "    </tr>\n",
       "  </tbody>\n",
       "</table>\n",
       "<p>5740 rows × 2 columns</p>\n",
       "</div>"
      ],
      "text/plain": [
       "                                                                            questions  \\\n",
       "0                           Quelle est la signification du terme \"véhicule à moteur\"?   \n",
       "1                              Que signifie le terme \"véhicule à moteur\" en français?   \n",
       "2                           Quelle est la signification du terme \"véhicule à moteur\"?   \n",
       "3                     Quel est le terme utilisé pour désigner les véhicules à moteur?   \n",
       "4                                          Que signifie le terme \"véhicule à moteur\"?   \n",
       "...                                                                               ...   \n",
       "5735  Quelles sont les mentions facultatives d'un modèle de fiche descriptive de l...   \n",
       "5736  Qu'est-ce qui doit être mentionné dans la fiche descriptive de l état du véh...   \n",
       "5737  Qu'est-ce qui doit être mentionné sur la fiche descriptive de l état du véhi...   \n",
       "5738  Quelles sont les mentions facultatives d'un modèle de fiche descriptive de l...   \n",
       "5739  Quelles sont les mentions obligatoires d'une fiche descriptive de l état du ...   \n",
       "\n",
       "        id  \n",
       "0        0  \n",
       "1        0  \n",
       "2        0  \n",
       "3        0  \n",
       "4        0  \n",
       "...    ...  \n",
       "5735  1147  \n",
       "5736  1147  \n",
       "5737  1147  \n",
       "5738  1147  \n",
       "5739  1147  \n",
       "\n",
       "[5740 rows x 2 columns]"
      ]
     },
     "execution_count": 51,
     "metadata": {},
     "output_type": "execute_result"
    }
   ],
   "source": [
    "test.drop(columns='Unnamed: 0')"
   ]
  },
  {
   "cell_type": "code",
   "execution_count": 38,
   "metadata": {},
   "outputs": [
    {
     "data": {
      "text/html": [
       "<div>\n",
       "<style scoped>\n",
       "    .dataframe tbody tr th:only-of-type {\n",
       "        vertical-align: middle;\n",
       "    }\n",
       "\n",
       "    .dataframe tbody tr th {\n",
       "        vertical-align: top;\n",
       "    }\n",
       "\n",
       "    .dataframe thead th {\n",
       "        text-align: right;\n",
       "    }\n",
       "</style>\n",
       "<table border=\"1\" class=\"dataframe\">\n",
       "  <thead>\n",
       "    <tr style=\"text-align: right;\">\n",
       "      <th></th>\n",
       "      <th>questions</th>\n",
       "      <th>id</th>\n",
       "    </tr>\n",
       "  </thead>\n",
       "  <tbody>\n",
       "    <tr>\n",
       "      <th>0</th>\n",
       "      <td>Quelle est la signification du terme \"véhicule à moteur\"?</td>\n",
       "      <td>0</td>\n",
       "    </tr>\n",
       "    <tr>\n",
       "      <th>1</th>\n",
       "      <td>Que signifie le terme \"véhicule à moteur\" en français?</td>\n",
       "      <td>0</td>\n",
       "    </tr>\n",
       "    <tr>\n",
       "      <th>2</th>\n",
       "      <td>Quelle est la signification du terme \"véhicule à moteur\"?</td>\n",
       "      <td>0</td>\n",
       "    </tr>\n",
       "    <tr>\n",
       "      <th>3</th>\n",
       "      <td>Quel est le terme utilisé pour désigner les véhicules à moteur?</td>\n",
       "      <td>0</td>\n",
       "    </tr>\n",
       "    <tr>\n",
       "      <th>4</th>\n",
       "      <td>Que signifie le terme \"véhicule à moteur\"?</td>\n",
       "      <td>0</td>\n",
       "    </tr>\n",
       "    <tr>\n",
       "      <th>...</th>\n",
       "      <td>...</td>\n",
       "      <td>...</td>\n",
       "    </tr>\n",
       "    <tr>\n",
       "      <th>5735</th>\n",
       "      <td>Quelles sont les mentions facultatives d'un modèle de fiche descriptive de l...</td>\n",
       "      <td>1147</td>\n",
       "    </tr>\n",
       "    <tr>\n",
       "      <th>5736</th>\n",
       "      <td>Qu'est-ce qui doit être mentionné dans la fiche descriptive de l état du véh...</td>\n",
       "      <td>1147</td>\n",
       "    </tr>\n",
       "    <tr>\n",
       "      <th>5737</th>\n",
       "      <td>Qu'est-ce qui doit être mentionné sur la fiche descriptive de l état du véhi...</td>\n",
       "      <td>1147</td>\n",
       "    </tr>\n",
       "    <tr>\n",
       "      <th>5738</th>\n",
       "      <td>Quelles sont les mentions facultatives d'un modèle de fiche descriptive de l...</td>\n",
       "      <td>1147</td>\n",
       "    </tr>\n",
       "    <tr>\n",
       "      <th>5739</th>\n",
       "      <td>Quelles sont les mentions obligatoires d'une fiche descriptive de l état du ...</td>\n",
       "      <td>1147</td>\n",
       "    </tr>\n",
       "  </tbody>\n",
       "</table>\n",
       "<p>5740 rows × 2 columns</p>\n",
       "</div>"
      ],
      "text/plain": [
       "                                                                            questions  \\\n",
       "0                           Quelle est la signification du terme \"véhicule à moteur\"?   \n",
       "1                              Que signifie le terme \"véhicule à moteur\" en français?   \n",
       "2                           Quelle est la signification du terme \"véhicule à moteur\"?   \n",
       "3                     Quel est le terme utilisé pour désigner les véhicules à moteur?   \n",
       "4                                          Que signifie le terme \"véhicule à moteur\"?   \n",
       "...                                                                               ...   \n",
       "5735  Quelles sont les mentions facultatives d'un modèle de fiche descriptive de l...   \n",
       "5736  Qu'est-ce qui doit être mentionné dans la fiche descriptive de l état du véh...   \n",
       "5737  Qu'est-ce qui doit être mentionné sur la fiche descriptive de l état du véhi...   \n",
       "5738  Quelles sont les mentions facultatives d'un modèle de fiche descriptive de l...   \n",
       "5739  Quelles sont les mentions obligatoires d'une fiche descriptive de l état du ...   \n",
       "\n",
       "        id  \n",
       "0        0  \n",
       "1        0  \n",
       "2        0  \n",
       "3        0  \n",
       "4        0  \n",
       "...    ...  \n",
       "5735  1147  \n",
       "5736  1147  \n",
       "5737  1147  \n",
       "5738  1147  \n",
       "5739  1147  \n",
       "\n",
       "[5740 rows x 2 columns]"
      ]
     },
     "execution_count": 38,
     "metadata": {},
     "output_type": "execute_result"
    }
   ],
   "source": [
    "df_questions"
   ]
  },
  {
   "cell_type": "code",
   "execution_count": 1,
   "metadata": {},
   "outputs": [],
   "source": [
    "%load_ext autoreload\n",
    "%autoreload 2"
   ]
  },
  {
   "cell_type": "code",
   "execution_count": 15,
   "metadata": {},
   "outputs": [],
   "source": [
    "from harvai.bm25 import Bm25\n",
    "from harvai.nn_model import Nn_model\n",
    "from harvai.embedding import Embedding\n",
    "from harvai.dpr import DPR\n",
    "from harvai.utils import score"
   ]
  },
  {
   "cell_type": "code",
   "execution_count": 9,
   "metadata": {},
   "outputs": [],
   "source": [
    "nn = Nn_model(5)\n",
    "nn.clean_data()\n",
    "nn.fit()"
   ]
  },
  {
   "cell_type": "code",
   "execution_count": 13,
   "metadata": {},
   "outputs": [],
   "source": [
    "embedding = Embedding(5)\n",
    "embedding.clean_data()\n",
    "embedding.fit()"
   ]
  },
  {
   "cell_type": "code",
   "execution_count": 10,
   "metadata": {},
   "outputs": [],
   "source": [
    "model = Bm25(5)\n",
    "model.clean_data()\n",
    "model.fit()"
   ]
  },
  {
   "cell_type": "code",
   "execution_count": 16,
   "metadata": {},
   "outputs": [
    {
     "name": "stderr",
     "output_type": "stream",
     "text": [
      "INFO - haystack.modeling.utils -  Using devices: CPU\n",
      "INFO - haystack.modeling.utils -  Number of GPUs: 0\n",
      "The tokenizer class you load from this checkpoint is not the same type as the class this function is called from. It may result in unexpected tokenization. \n",
      "The tokenizer class you load from this checkpoint is 'CamembertTokenizer'. \n",
      "The class this function is called from is 'DPRQuestionEncoderTokenizerFast'.\n",
      "INFO - haystack.modeling.model.language_model -  LOADING MODEL\n",
      "INFO - haystack.modeling.model.language_model -  =============\n",
      "INFO - haystack.modeling.model.language_model -  Model found locally at ../raw_data/retriever.pt/query_encoder\n",
      "WARNING - haystack.modeling.model.language_model -  Using a model of type 'camembert' which might be incompatible with DPR encoders.Bert based encoders are supported that need input_ids,token_type_ids,attention_mask as input tensors.\n",
      "INFO - haystack.modeling.model.language_model -  Loaded ../raw_data/retriever.pt/query_encoder\n",
      "The tokenizer class you load from this checkpoint is not the same type as the class this function is called from. It may result in unexpected tokenization. \n",
      "The tokenizer class you load from this checkpoint is 'CamembertTokenizer'. \n",
      "The class this function is called from is 'DPRContextEncoderTokenizerFast'.\n",
      "INFO - haystack.modeling.model.language_model -  LOADING MODEL\n",
      "INFO - haystack.modeling.model.language_model -  =============\n",
      "INFO - haystack.modeling.model.language_model -  Model found locally at ../raw_data/retriever.pt/passage_encoder\n",
      "WARNING - haystack.modeling.model.language_model -  Using a model of type 'camembert' which might be incompatible with DPR encoders.Bert based encoders are supported that need input_ids,token_type_ids,attention_mask as input tensors.\n",
      "INFO - haystack.modeling.model.language_model -  Loaded ../raw_data/retriever.pt/passage_encoder\n",
      "INFO - haystack.nodes.retriever.dense -  DPR model loaded from ../raw_data/retriever.pt\n"
     ]
    }
   ],
   "source": [
    "dpr = DPR(5)\n",
    "dpr.clean_data()\n",
    "dpr.fit()"
   ]
  },
  {
   "cell_type": "code",
   "execution_count": 7,
   "metadata": {},
   "outputs": [
    {
     "name": "stderr",
     "output_type": "stream",
     "text": [
      "2871it [00:05, 487.88it/s]                          \n"
     ]
    },
    {
     "data": {
      "text/plain": [
       "0.6335771508185302"
      ]
     },
     "execution_count": 7,
     "metadata": {},
     "output_type": "execute_result"
    }
   ],
   "source": [
    "score(nn)"
   ]
  },
  {
   "cell_type": "code",
   "execution_count": 11,
   "metadata": {},
   "outputs": [
    {
     "name": "stderr",
     "output_type": "stream",
     "text": [
      "2871it [00:11, 246.69it/s]                          \n"
     ]
    },
    {
     "data": {
      "text/plain": [
       "0.6565656565656566"
      ]
     },
     "execution_count": 11,
     "metadata": {},
     "output_type": "execute_result"
    }
   ],
   "source": [
    "score(model)"
   ]
  },
  {
   "cell_type": "code",
   "execution_count": 17,
   "metadata": {},
   "outputs": [
    {
     "name": "stderr",
     "output_type": "stream",
     "text": [
      "2871it [11:44,  4.08it/s]                          \n"
     ]
    },
    {
     "data": {
      "text/plain": [
       "0.6078021595262975"
      ]
     },
     "execution_count": 17,
     "metadata": {},
     "output_type": "execute_result"
    }
   ],
   "source": [
    "score(dpr)"
   ]
  },
  {
   "cell_type": "code",
   "execution_count": 18,
   "metadata": {},
   "outputs": [
    {
     "name": "stderr",
     "output_type": "stream",
     "text": [
      "2871it [06:53,  6.94it/s]                          \n"
     ]
    },
    {
     "data": {
      "text/plain": [
       "0.5806339254615117"
      ]
     },
     "execution_count": 18,
     "metadata": {},
     "output_type": "execute_result"
    }
   ],
   "source": [
    "score(embedding)"
   ]
  },
  {
   "cell_type": "code",
   "execution_count": null,
   "metadata": {},
   "outputs": [],
   "source": []
  }
 ],
 "metadata": {
  "kernelspec": {
   "display_name": "Python 3.8.12 64-bit ('harvai')",
   "language": "python",
   "name": "python3"
  },
  "language_info": {
   "codemirror_mode": {
    "name": "ipython",
    "version": 3
   },
   "file_extension": ".py",
   "mimetype": "text/x-python",
   "name": "python",
   "nbconvert_exporter": "python",
   "pygments_lexer": "ipython3",
   "version": "3.8.12"
  },
  "orig_nbformat": 4,
  "vscode": {
   "interpreter": {
    "hash": "b383e3f01f6ad2bdb77077b10ec8560c0ae74c59c82da93d52ca881aae79abbd"
   }
  }
 },
 "nbformat": 4,
 "nbformat_minor": 2
}
