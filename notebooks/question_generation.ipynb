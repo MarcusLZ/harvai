{
 "cells": [
  {
   "cell_type": "code",
   "execution_count": 2,
   "metadata": {},
   "outputs": [],
   "source": [
    "import pandas as pd"
   ]
  },
  {
   "cell_type": "code",
   "execution_count": 9,
   "metadata": {},
   "outputs": [],
   "source": [
    "from harvai.data import get_clean_preproc_data\n",
    "\n",
    "from transformers import AutoTokenizer, AutoModelForSeq2SeqLM\n",
    "from transformers import Text2TextGenerationPipeline\n",
    "from harvai.data import preprocessing_user_input"
   ]
  },
  {
   "cell_type": "code",
   "execution_count": 2,
   "metadata": {},
   "outputs": [],
   "source": [
    "data = get_clean_preproc_data()"
   ]
  },
  {
   "cell_type": "code",
   "execution_count": 3,
   "metadata": {},
   "outputs": [],
   "source": [
    "model_name = 'lincoln/barthez-squadFR-fquad-piaf-question-generation'\n",
    "\n",
    "loaded_model = AutoModelForSeq2SeqLM.from_pretrained(model_name)\n",
    "loaded_tokenizer = AutoTokenizer.from_pretrained(model_name)\n",
    "\n",
    "\n"
   ]
  },
  {
   "cell_type": "code",
   "execution_count": 32,
   "metadata": {},
   "outputs": [],
   "source": [
    "questions = []\n",
    "articles = []\n",
    "for article in range(0,1148):\n",
    "    \n",
    "    if(len(data.iloc[article,2])) > 1020: \n",
    "        text = data.iloc[article,2][0:1020] \n",
    "    else:    \n",
    "        text = data.iloc[article,2]\n",
    "        \n",
    "    inputs = loaded_tokenizer(text, return_tensors='pt')\n",
    "\n",
    "    out = loaded_model.generate(\n",
    "        input_ids=inputs.input_ids,\n",
    "        attention_mask=inputs.attention_mask,\n",
    "        num_beams=5,\n",
    "        num_return_sequences=5,\n",
    "        length_penalty=20\n",
    "    )\n",
    "\n",
    "\n",
    "    for question in out:\n",
    "        questions.append(loaded_tokenizer.decode(question, skip_special_tokens=True))\n",
    "        articles.append(article)\n"
   ]
  },
  {
   "cell_type": "code",
   "execution_count": 33,
   "metadata": {},
   "outputs": [],
   "source": [
    "df_questions =pd.DataFrame(columns=['questions','id'])\n",
    "df_questions['questions'] =questions \n",
    "df_questions['id'] =articles "
   ]
  },
  {
   "cell_type": "code",
   "execution_count": 39,
   "metadata": {},
   "outputs": [],
   "source": [
    "df_questions.to_csv('../raw_data/generated_questions_dataset.csv')"
   ]
  },
  {
   "cell_type": "code",
   "execution_count": 4,
   "metadata": {},
   "outputs": [],
   "source": [
    "df_questions =pd.read_csv('../raw_data/generated_questions_dataset.csv')"
   ]
  },
  {
   "cell_type": "code",
   "execution_count": 7,
   "metadata": {},
   "outputs": [],
   "source": [
    "df_questions.drop(columns='Unnamed: 0',inplace=True)"
   ]
  },
  {
   "cell_type": "code",
   "execution_count": 15,
   "metadata": {},
   "outputs": [],
   "source": [
    "df_questions['questions_preproc'] = df_questions['questions'].apply(lambda x : preprocessing_user_input(x))"
   ]
  },
  {
   "cell_type": "code",
   "execution_count": 17,
   "metadata": {},
   "outputs": [],
   "source": [
    "df_questions.to_csv('../raw_data/generated_questions_dataset.csv')"
   ]
  },
  {
   "cell_type": "code",
   "execution_count": 3,
   "metadata": {},
   "outputs": [],
   "source": [
    "df_questions =pd.read_csv('../raw_data/generated_questions_dataset.csv')"
   ]
  },
  {
   "cell_type": "code",
   "execution_count": 8,
   "metadata": {},
   "outputs": [],
   "source": [
    "df_questions.dropna(inplace=True)"
   ]
  },
  {
   "cell_type": "code",
   "execution_count": 9,
   "metadata": {},
   "outputs": [],
   "source": [
    "df_questions.to_csv('../raw_data/generated_questions_dataset.csv')"
   ]
  },
  {
   "cell_type": "code",
   "execution_count": null,
   "metadata": {},
   "outputs": [],
   "source": []
  }
 ],
 "metadata": {
  "kernelspec": {
   "display_name": "Python 3.8.12 64-bit ('harvai')",
   "language": "python",
   "name": "python3"
  },
  "language_info": {
   "codemirror_mode": {
    "name": "ipython",
    "version": 3
   },
   "file_extension": ".py",
   "mimetype": "text/x-python",
   "name": "python",
   "nbconvert_exporter": "python",
   "pygments_lexer": "ipython3",
   "version": "3.8.12"
  },
  "orig_nbformat": 4,
  "vscode": {
   "interpreter": {
    "hash": "b383e3f01f6ad2bdb77077b10ec8560c0ae74c59c82da93d52ca881aae79abbd"
   }
  }
 },
 "nbformat": 4,
 "nbformat_minor": 2
}
