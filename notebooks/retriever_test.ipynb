{
 "cells": [
  {
   "cell_type": "code",
   "execution_count": 6,
   "metadata": {},
   "outputs": [],
   "source": [
    "from harvai.data import get_clean_preproc_data"
   ]
  },
  {
   "cell_type": "code",
   "execution_count": 54,
   "metadata": {},
   "outputs": [],
   "source": [
    "df = get_clean_preproc_data()"
   ]
  },
  {
   "cell_type": "code",
   "execution_count": 19,
   "metadata": {},
   "outputs": [],
   "source": [
    "df['id'] = df.index\n",
    "df = df[['article_lowered','id']]"
   ]
  },
  {
   "cell_type": "code",
   "execution_count": 20,
   "metadata": {},
   "outputs": [],
   "source": [
    "df = df.to_dict(orient='index')"
   ]
  },
  {
   "cell_type": "code",
   "execution_count": 21,
   "metadata": {},
   "outputs": [],
   "source": [
    "test = []"
   ]
  },
  {
   "cell_type": "code",
   "execution_count": 23,
   "metadata": {},
   "outputs": [],
   "source": [
    "for key,text in df.items():\n",
    "    test.append({'id':key,'content':text['article_lowered']})"
   ]
  },
  {
   "cell_type": "code",
   "execution_count": 31,
   "metadata": {},
   "outputs": [
    {
     "name": "stderr",
     "output_type": "stream",
     "text": [
      "INFO - haystack.modeling.utils -  Using devices: CPU\n",
      "INFO - haystack.modeling.utils -  Number of GPUs: 0\n"
     ]
    }
   ],
   "source": [
    "from haystack.document_stores import InMemoryDocumentStore\n",
    "\n",
    "document_store = InMemoryDocumentStore()\n",
    "\n"
   ]
  },
  {
   "cell_type": "code",
   "execution_count": 32,
   "metadata": {},
   "outputs": [
    {
     "ename": "AttributeError",
     "evalue": "'dict' object has no attribute 'to_dict'",
     "output_type": "error",
     "traceback": [
      "\u001b[0;31m---------------------------------------------------------------------------\u001b[0m",
      "\u001b[0;31mAttributeError\u001b[0m                            Traceback (most recent call last)",
      "\u001b[1;32m/Users/marco/code/MarcusLZ/HarvAi/harvai/notebooks/retriever_test.ipynb Cell 8'\u001b[0m in \u001b[0;36m<cell line: 1>\u001b[0;34m()\u001b[0m\n\u001b[0;32m----> <a href='vscode-notebook-cell:/Users/marco/code/MarcusLZ/HarvAi/harvai/notebooks/retriever_test.ipynb#ch0000009?line=0'>1</a>\u001b[0m articles \u001b[39m=\u001b[39m df\u001b[39m.\u001b[39;49mto_dict()[\u001b[39m'\u001b[39m\u001b[39marticle_lemmatized\u001b[39m\u001b[39m'\u001b[39m]\n",
      "\u001b[0;31mAttributeError\u001b[0m: 'dict' object has no attribute 'to_dict'"
     ]
    }
   ],
   "source": [
    "articles = df.to_dict()['article_lemmatized']"
   ]
  },
  {
   "cell_type": "code",
   "execution_count": 40,
   "metadata": {},
   "outputs": [
    {
     "data": {
      "text/plain": [
       "{'id': 1148}"
      ]
     },
     "execution_count": 40,
     "metadata": {},
     "output_type": "execute_result"
    }
   ],
   "source": [
    "{'id':id for id,text in articles.items()}"
   ]
  },
  {
   "cell_type": "code",
   "execution_count": 33,
   "metadata": {},
   "outputs": [],
   "source": [
    "\n",
    "document_store.write_documents(test)"
   ]
  },
  {
   "cell_type": "code",
   "execution_count": 31,
   "metadata": {},
   "outputs": [
    {
     "name": "stderr",
     "output_type": "stream",
     "text": [
      "INFO - haystack.nodes.retriever.sparse -  Found 1149 candidate paragraphs from 1149 docs in DB\n"
     ]
    }
   ],
   "source": [
    "from haystack.nodes import TfidfRetriever\n",
    "\n",
    "retriever = TfidfRetriever(document_store)"
   ]
  },
  {
   "cell_type": "code",
   "execution_count": 32,
   "metadata": {},
   "outputs": [],
   "source": [
    "candidate_documents = retriever.retrieve(\n",
    "    query=\"quelle est la vitesse maximum autorisée sur l'autoroute ? \",\n",
    "    top_k=10\n",
    ")"
   ]
  },
  {
   "cell_type": "code",
   "execution_count": 33,
   "metadata": {},
   "outputs": [
    {
     "data": {
      "text/plain": [
       "[<Document: {'content': '  le fait pour tout conducteur d un véhicule autre qu un véhicule à moteur de contrevenir aux dispositions du présent code relatives à la vitesse maximale autorisée est puni de l amende prévue pour les contraventions de la deuxième classe.     section 2 : maîtrise de la vitesse. ', 'content_type': 'text', 'score': None, 'meta': {}, 'embedding': None, 'id': '982'}>,\n",
       " <Document: {'content': ' i. - le fait, pour tout conducteur d un véhicule à moteur, de dépasser de moins de 50 km/h la vitesse maximale autorisée fixée par le présent code ou édictée par l autorité investie du pouvoir de police est puni de l amende prévue pour les contraventions de la quatrième classe.     toutefois, lorsque le dépassement est inférieur à 20 km/h et que la vitesse maximale autorisée est supérieure à 50 km/h, l amende encourue est celle prévue pour les contraventions de la troisième classe.      ii. - toute personne coupable de l infraction de dépassement de la vitesse maximale autorisée de 30 km/h ou plus encourt également les peines complémentaires suivantes :     1° la suspension, pour une durée de trois ans au plus, du permis de conduire, cette suspension pouvant être limitée à la conduite en dehors de l activité professionnelle ;     2° l interdiction de conduire certains véhicules terrestres à moteur, y compris ceux pour la conduite desquels le permis de conduire n est pas exigé, pour une durée de trois ans au plus ;     3° l obligation d accomplir, à ses frais, un stage de sensibilisation à la sécurité routière.     iii. - toute contravention prévue au présent article donne lieu, de plein droit à une réduction du nombre de points du permis de conduire dans les conditions suivantes :     1° en cas de dépassement de la vitesse maximale autorisée compris entre 40 km/h et moins de 50 km/h, réduction de quatre points ;     2° en cas de dépassement de la vitesse maximale autorisée compris entre 30 km/h et moins de 40 km/h, réduction de trois points ;     3° en cas de dépassement de la vitesse maximale autorisée compris entre 20 km/h et moins de 30 km/h, réduction de deux points ;     4° en cas de dépassement de la vitesse maximale autorisée de moins de 20 km/h, réduction d un point.   ', 'content_type': 'text', 'score': None, 'meta': {}, 'embedding': None, 'id': '979'}>,\n",
       " <Document: {'content': ' aucun conducteur ne doit gêner la marche normale des autres véhicules en circulant sans raison valable à une vitesse anormalement réduite. en particulier sur autoroute, lorsque la circulation est fluide et que les conditions atmosphériques permettent une visibilité et une adhérence suffisantes, les conducteurs utilisant la voie la plus à gauche ne peuvent circuler à une vitesse inférieure à 80 km/h.     le fait, pour tout conducteur, de contrevenir aux dispositions du présent article est puni de l amende prévue pour les contraventions de la deuxième classe.   chapitre iv : croisement et dépassement section 1 : croisement. ', 'content_type': 'text', 'score': None, 'meta': {}, 'embedding': None, 'id': '985'}>,\n",
       " <Document: {'content': ' la vitesse des véhicules et matériels de travaux publics est limitée sur route à 25 km/h. il en est de même de la vitesse des véhicules remorquant un matériel de travaux publics.     toutefois, pour les matériels de travaux publics affectés à des opérations de déneigement des chaussées, la vitesse limite est portée à 50 km/h.   ', 'content_type': 'text', 'score': None, 'meta': {}, 'embedding': None, 'id': '976'}>,\n",
       " <Document: {'content': '   la vitesse des ensembles agricoles constitués d un véhicule à moteur et d un véhicule remorqué est limité sur route à 25 km/h.     toutefois, pour ces ensembles agricoles, la vitesse limite est portée à 40 km/h si chaque véhicule constituant l ensemble a été réceptionné pour cette vitesse et si leur largeur hors tout est inférieure ou égale à 2,55 mètres.   ', 'content_type': 'text', 'score': None, 'meta': {}, 'embedding': None, 'id': '977'}>,\n",
       " <Document: {'content': 'sur autoroute, la circulation des véhicules militaires se déplaçant en colonnes ou dont les caractéristiques ne sont pas conformes à celles des véhicules civils autorisés à circuler sur ces voies est admise dans les conditions fixées par arrêté du ministre chargé des transports et du ministre de la défense.     ', 'content_type': 'text', 'score': None, 'meta': {}, 'embedding': None, 'id': '1096'}>,\n",
       " <Document: {'content': '   lorsque la vitesse maximale autorisée est inférieure ou égale à 30 km/ h, les chaussées sont à double sens pour les conducteurs d engins de déplacement personnel motorisés, de cyclomobiles légers et les cyclistes sauf décision contraire de l autorité investie du pouvoir de police.   section 5 : feux de signalisation lumineux. ', 'content_type': 'text', 'score': None, 'meta': {}, 'embedding': None, 'id': '935'}>,\n",
       " <Document: {'content': 'i.-hors agglomération, la vitesse des véhicules est limitée à :   1° 130 km/ h sur les autoroutes. toutefois, lorsqu une voirie appartenant au réseau routier national a fait l objet d un classement dans la catégorie des autoroutes en application du sixième alinéa de l article r. 122-1 du code de la voirie routière, la vitesse maximale autorisée demeure celle fixée antérieurement à ce classement ;   2° 110 km/ h sur les routes à deux chaussées séparées par un terre-plein central ;   3° 80 km/ h sur les autres routes. toutefois, sur les sections de ces routes comportant au moins deux voies affectées à un même sens de circulation, la vitesse maximale est relevée à 90 km/ h sur ces seules voies. ces sections font l objet d une signalisation routière dans les conditions prévues par l article r. 411-25.   ii.-en cas de pluie ou d autres précipitations, ces vitesses maximales sont abaissées à :   1° 110 km/ h sur les sections d autoroutes où la limite normale est de 130 km/ h ;   2° 100 km/ h sur les sections d autoroutes où cette limite est plus basse ainsi que sur les routes à deux chaussées séparées par un terre-plein central ;   3° 80 km/ h sur les sections des autres routes mentionnées au 3° du i.   iii.-les autorités détentrices du pouvoir de police de la circulation compétentes communiquent au ministre chargé de la sécurité routière la liste des sections de routes relevant de leur compétence qui comportent au moins deux voies affectées à un même sens de circulation et sur lesquelles la vitesse maximale est relevée à 90 km/ h en application du 3° du i. ', 'content_type': 'text', 'score': None, 'meta': {}, 'embedding': None, 'id': '965'}>,\n",
       " <Document: {'content': 'sur autoroute et route express, les dispositions relatives :     1° a la circulation, à l arrêt et au stationnement sur la bande centrale séparative des chaussées et les accotements notamment sur les bandes d arrêt d urgence ;     2° au demi-tour ;     3° a la marche arrière ;     4° au franchissement des lignes longitudinales délimitant les bandes d arrêt d urgence ;     5° a l arrêt et au stationnement sur les chaussées,     6° a la vitesse minimale de 80 km/h sur la voie la plus à gauche,   ne sont pas applicables aux conducteurs des véhicules d exploitation des routes lorsqu ils font usage de leurs avertisseurs spéciaux dans les cas nécessités par l exercice de leur mission et sous réserve de ne pas mettre en danger les autres usagers.    ', 'content_type': 'text', 'score': None, 'meta': {}, 'embedding': None, 'id': '1095'}>,\n",
       " <Document: {'content': ' i. - hors agglomération et à l exception des voies sur lesquelles la vitesse des véhicules est limitée à 80 km/ h en application du 3° du i de l article r. 413-2, la vitesse des véhicules de transport en commun est limitée à 90 km/h.   ii.- toutefois, cette vitesse maximale est relevée à 100 km/h :   1° sur les autoroutes pour les véhicules dont le poids total est supérieur à 10 tonnes et possédant des caractéristiques techniques particulières définies par arrêté du ministre chargé des transports ;   2° sur les autoroutes et les routes à chaussées séparées par un terre-plein central pour les véhicules dont le poids est inférieur ou égal à 10 tonnes.   iii.- en exploitation, ces vitesses maximales sont abaissées à 70 km / h pour les autobus et les autocars avec passagers debout. ', 'content_type': 'text', 'score': None, 'meta': {}, 'embedding': None, 'id': '974'}>]"
      ]
     },
     "execution_count": 33,
     "metadata": {},
     "output_type": "execute_result"
    }
   ],
   "source": [
    "candidate_documents"
   ]
  },
  {
   "cell_type": "markdown",
   "metadata": {},
   "source": [
    "## with embedding retriever"
   ]
  },
  {
   "cell_type": "code",
   "execution_count": 11,
   "metadata": {},
   "outputs": [
    {
     "name": "stderr",
     "output_type": "stream",
     "text": [
      "INFO - haystack.modeling.utils -  Using devices: CPU\n",
      "INFO - haystack.modeling.utils -  Number of GPUs: 0\n"
     ]
    }
   ],
   "source": [
    "document_store_2 = InMemoryDocumentStore(similarity=\"dot_product\",embedding_dim=768)"
   ]
  },
  {
   "cell_type": "code",
   "execution_count": 28,
   "metadata": {},
   "outputs": [],
   "source": [
    "document_store_2.write_documents(test)"
   ]
  },
  {
   "cell_type": "code",
   "execution_count": 19,
   "metadata": {},
   "outputs": [],
   "source": [
    "from haystack.nodes import EmbeddingRetriever"
   ]
  },
  {
   "cell_type": "code",
   "execution_count": 25,
   "metadata": {},
   "outputs": [
    {
     "name": "stderr",
     "output_type": "stream",
     "text": [
      "INFO - haystack.modeling.utils -  Using devices: CPU\n",
      "INFO - haystack.modeling.utils -  Number of GPUs: 0\n",
      "INFO - haystack.nodes.retriever.dense -  Init retriever using embeddings of model sentence-transformers/multi-qa-mpnet-base-dot-v1\n",
      "WARNING - haystack.nodes.retriever._embedding_encoder -  You are using a Sentence Transformer with the dot_product function. We recommend using cosine instead. This can be set when initializing the DocumentStore\n"
     ]
    }
   ],
   "source": [
    "retriever = EmbeddingRetriever(\n",
    "    document_store=document_store_2,\n",
    "   embedding_model=\"sentence-transformers/multi-qa-mpnet-base-dot-v1\",\n",
    "   model_format=\"sentence_transformers\"\n",
    ")"
   ]
  },
  {
   "cell_type": "code",
   "execution_count": 29,
   "metadata": {},
   "outputs": [
    {
     "name": "stderr",
     "output_type": "stream",
     "text": [
      "INFO - haystack.document_stores.memory -  Updating embeddings for 1149 docs ...\n",
      "Updating Embedding:   0%|          | 0/1149 [00:00<?, ? docs/s]"
     ]
    },
    {
     "data": {
      "application/vnd.jupyter.widget-view+json": {
       "model_id": "99cb02101d1e4fadad9d42a99dfed6a0",
       "version_major": 2,
       "version_minor": 0
      },
      "text/plain": [
       "Batches:   0%|          | 0/36 [00:00<?, ?it/s]"
      ]
     },
     "metadata": {},
     "output_type": "display_data"
    },
    {
     "name": "stderr",
     "output_type": "stream",
     "text": [
      "Documents Processed: 10000 docs [08:48, 18.93 docs/s]           \n"
     ]
    }
   ],
   "source": [
    "document_store_2.update_embeddings(retriever)"
   ]
  },
  {
   "cell_type": "code",
   "execution_count": 30,
   "metadata": {},
   "outputs": [
    {
     "data": {
      "application/vnd.jupyter.widget-view+json": {
       "model_id": "5979dc28171d47c0b0fbbaa66c8f1446",
       "version_major": 2,
       "version_minor": 0
      },
      "text/plain": [
       "Batches:   0%|          | 0/1 [00:00<?, ?it/s]"
      ]
     },
     "metadata": {},
     "output_type": "display_data"
    },
    {
     "name": "stdout",
     "output_type": "stream",
     "text": [
      "\n",
      "Query: vitesse maximale autorisée sur autoroute ?\n",
      "\n",
      "{   'content': 'cas visibilité inférieur mètre vitesse maximal abaissé '\n",
      "               'kilomètre ensemble réseau routier autoroutier',\n",
      "    'name': None}\n",
      "\n",
      "{   'content': 'hors agglomération exception voie lequel vitesse véhiculer '\n",
      "               'limité kilomètre application article vitesse véhiculer '\n",
      "               'transport commun limité kilomètre ii toutefois ce vitesse '\n",
      "               'maximale relevée kilomètre autoroute véhiculer dont poids '\n",
      "               'total supérieur tonner possédant caractéristique technique '\n",
      "               'particulier défini arrêté ministre chargé transport autoroute '\n",
      "               'route chaussée séparer terre plein central véhiculer dont '\n",
      "               'poids inférieur égal tonner iii exploitation vitesse maximal '\n",
      "               'abaissé kilomètre autobus autocar passager...',\n",
      "    'name': None}\n",
      "\n",
      "{   'content': 'hors agglomération vitesse véhiculer limité kilomètre '\n",
      "               'autoroute toutefois lorsqu voirie appartenant réseau routier '\n",
      "               'national faire objet classement catégorie autoroute '\n",
      "               'application sixième alinéa article code voirie routière '\n",
      "               'vitesse maximale autorisé demeure celui fixé antérieurement '\n",
      "               'classement kilomètre route deux chaussée séparer terre plein '\n",
      "               'central kilomètre autre route toutefois section route '\n",
      "               'comporter moins deux voie affecté sens circulation vitesse '\n",
      "               'maximale relevée kilomètre seul voie section faire obje...',\n",
      "    'name': None}\n",
      "\n",
      "{   'content': 'vitesse véhiculer dont poids total autorisé charge supérieur '\n",
      "               'tonner ensemble véhiculer dont poids total roulant autorisé '\n",
      "               'supérieur tonner exception véhiculer transport commun limité '\n",
      "               'kilomètre autoroute kilomètre route caractère prioritaire '\n",
      "               'signaler comme tel toutefois ce vitesse maximale relevée '\n",
      "               'kilomètre véhiculer dont poids total inférieur égal tonner '\n",
      "               'route deux chaussée séparer terre plein central kilomètre '\n",
      "               'autre route toutefois ce vitesse maximale abaisser kilomètre '\n",
      "               'véhiculer articulé remorque dont poid...',\n",
      "    'name': None}\n",
      "\n",
      "{   'content': 'vitesse véhiculer transporter matière dangereux dont poids '\n",
      "               'total autorisé charge poids total roulant autorisé supérieur '\n",
      "               'tonner ainsi celui transport exceptionnel mentionner article '\n",
      "               'limité kilomètre autoroute kilomètre autre route toutefois ce '\n",
      "               'vitesse maximale relevée kilomètre route caractère prioritaire '\n",
      "               'signaler comme tel véhiculer possédant caractéristique '\n",
      "               'particulier défini arrêté ministre chargé transport kilomètre '\n",
      "               'agglomération toutefois ce vitesse maximale relevée kilomètre '\n",
      "               'boulevard périphérique pari',\n",
      "    'name': None}\n",
      "\n",
      "{   'content': 'lorsque vitesse maximale autorisé inférieur égal kilomètre '\n",
      "               'chaussée double sens conducteur engin déplacement personnel '\n",
      "               'motorisé cyclomobiles léger cycliste sauf décision contraire '\n",
      "               'autorité investi pouvoir police section feu signalisation '\n",
      "               'lumineux',\n",
      "    'name': None}\n",
      "\n",
      "{   'content': 'autoroute route express disposition relatif circulation arrêt '\n",
      "               'stationnement bande centrale séparative chaussée accotement '\n",
      "               'notamment bande arrêt urgence demi tour marche arrière '\n",
      "               'franchissement ligne longitudinal délimiter bande arrêt '\n",
      "               'urgence arrêt stationnement chaussée vitesse minimal kilomètre '\n",
      "               'voie plus gauche applicable conducteur véhiculer exploitation '\n",
      "               'route lorsqu faire usage son avertisseur spécial cas nécessité '\n",
      "               'exercice mission sous réserve mettre danger autre usager',\n",
      "    'name': None}\n",
      "\n",
      "{   'content': 'toutefois vitesse véhiculer visé article destiné transport '\n",
      "               'personne dont poids total autorisé charge supérieur tonner '\n",
      "               'inférieur égal tonner limité kilomètre autoroute kilomètre '\n",
      "               'route deux chaussée séparer terre plein central lorsqu il '\n",
      "               'caractère prioritaire signaler comme tel kilomètre autre route',\n",
      "    'name': None}\n",
      "\n",
      "{   'content': 'vitesse maximal autorisé disposition présent code ainsi celui '\n",
      "               'plus réduire éventuellement prescrire autorité investi pouvoir '\n",
      "               'police circulation entendre condition optimal circulation '\n",
      "               'bonne condition atmosphérique trafic fluide véhicule bon état '\n",
      "               'ii il dispenser aucun cas conducteur rester constamment maître '\n",
      "               'vitesse régler ce dernier fonction état chaussé difficulté '\n",
      "               'circulation obstacle prévisible iii vitesse doit être réduire '\n",
      "               'lors croisement dépassement piéton compris celui quitter '\n",
      "               'véhicule cycliste isolé gr...',\n",
      "    'name': None}\n",
      "\n",
      "{   'content': 'autoroute route express disposition relatif circulation arrêt '\n",
      "               'stationnement bande centrale séparative chaussée accotement '\n",
      "               'notamment bande arrêt urgence demi tour marche arrière '\n",
      "               'franchissement ligne longitudinal délimiter bande arrêt '\n",
      "               'urgence arrêt stationnement chaussée applicable conducteur '\n",
      "               'véhiculer bénéficier facilité passage lorsqu faire usage son '\n",
      "               'avertisseur spécial cas nécessité exercice mission sous '\n",
      "               'réserve mettre danger autre usager',\n",
      "    'name': None}\n",
      "\n"
     ]
    }
   ],
   "source": [
    "from haystack.utils import print_documents\n",
    "from haystack.pipelines import DocumentSearchPipeline\n",
    "\n",
    "p_retrieval = DocumentSearchPipeline(retriever)\n",
    "res = p_retrieval.run(query=\"vitesse maximale autorisée sur autoroute ?\", params={\"Retriever\": {\"top_k\": 10}})\n",
    "print_documents(res, max_text_len=512)"
   ]
  },
  {
   "cell_type": "markdown",
   "metadata": {},
   "source": [
    "## with elasticsearch"
   ]
  },
  {
   "cell_type": "code",
   "execution_count": 29,
   "metadata": {},
   "outputs": [],
   "source": [
    "from haystack.document_stores import ElasticsearchDocumentStore\n",
    "\n",
    "document_store = ElasticsearchDocumentStore(host=\"localhost\", port=\"9200\", username=\"\", password=\"\", index=\"document\")"
   ]
  },
  {
   "cell_type": "code",
   "execution_count": 30,
   "metadata": {},
   "outputs": [],
   "source": [
    "document_store.write_documents(test)"
   ]
  },
  {
   "cell_type": "code",
   "execution_count": 26,
   "metadata": {},
   "outputs": [],
   "source": [
    "from haystack.nodes import BM25Retriever\n",
    "\n",
    "retriever = BM25Retriever(document_store)"
   ]
  },
  {
   "cell_type": "code",
   "execution_count": 39,
   "metadata": {},
   "outputs": [],
   "source": [
    "candidate_documents = retriever.retrieve(\n",
    "    query=\"quelle est la vitesse maximum autorisée en agglomération ?\",\n",
    "    top_k=10\n",
    ")"
   ]
  },
  {
   "cell_type": "code",
   "execution_count": 58,
   "metadata": {},
   "outputs": [],
   "source": [
    "list_articles = [int(candidate_documents[id].id) for id in range(0,3)]"
   ]
  },
  {
   "cell_type": "code",
   "execution_count": 59,
   "metadata": {},
   "outputs": [
    {
     "data": {
      "text/plain": [
       "[982, 979, 1019]"
      ]
     },
     "execution_count": 59,
     "metadata": {},
     "output_type": "execute_result"
    }
   ],
   "source": [
    "list_articles"
   ]
  },
  {
   "cell_type": "code",
   "execution_count": 55,
   "metadata": {},
   "outputs": [
    {
     "data": {
      "text/plain": [
       "Index(['article_base', 'article_number', 'article_content', 'article_lowered',\n",
       "       'article_wo_numbers', 'article_wo_punctuation', 'article_wo_stopwords',\n",
       "       'article_tfidf_format', 'article_lemmatized'],\n",
       "      dtype='object')"
      ]
     },
     "execution_count": 55,
     "metadata": {},
     "output_type": "execute_result"
    }
   ],
   "source": [
    "df.columns"
   ]
  },
  {
   "cell_type": "code",
   "execution_count": 60,
   "metadata": {},
   "outputs": [
    {
     "data": {
      "text/plain": [
       "'  le fait pour tout conducteur d un véhicule autre qu un véhicule à moteur de contrevenir aux dispositions du présent code relatives à la vitesse maximale autorisée est puni de l amende prévue pour les contraventions de la deuxième classe.     section 2 : maîtrise de la vitesse.   i. - le fait, pour tout conducteur d un véhicule à moteur, de dépasser de moins de 50 km/h la vitesse maximale autorisée fixée par le présent code ou édictée par l autorité investie du pouvoir de police est puni de l amende prévue pour les contraventions de la quatrième classe.     toutefois, lorsque le dépassement est inférieur à 20 km/h et que la vitesse maximale autorisée est supérieure à 50 km/h, l amende encourue est celle prévue pour les contraventions de la troisième classe.      ii. - toute personne coupable de l infraction de dépassement de la vitesse maximale autorisée de 30 km/h ou plus encourt également les peines complémentaires suivantes :     1° la suspension, pour une durée de trois ans au plus, du permis de conduire, cette suspension pouvant être limitée à la conduite en dehors de l activité professionnelle ;     2° l interdiction de conduire certains véhicules terrestres à moteur, y compris ceux pour la conduite desquels le permis de conduire n est pas exigé, pour une durée de trois ans au plus ;     3° l obligation d accomplir, à ses frais, un stage de sensibilisation à la sécurité routière.     iii. - toute contravention prévue au présent article donne lieu, de plein droit à une réduction du nombre de points du permis de conduire dans les conditions suivantes :     1° en cas de dépassement de la vitesse maximale autorisée compris entre 40 km/h et moins de 50 km/h, réduction de quatre points ;     2° en cas de dépassement de la vitesse maximale autorisée compris entre 30 km/h et moins de 40 km/h, réduction de trois points ;     3° en cas de dépassement de la vitesse maximale autorisée compris entre 20 km/h et moins de 30 km/h, réduction de deux points ;     4° en cas de dépassement de la vitesse maximale autorisée de moins de 20 km/h, réduction d un point.     hors agglomération, l usage des avertisseurs sonores n est autorisé que pour donner les avertissements nécessaires aux autres usagers de la route.     en agglomération, l usage de l avertisseur sonore n est autorisé qu en cas de danger immédiat.     les signaux émis ne doivent pas se prolonger plus qu il n est nécessaire.     le fait, pour tout conducteur, de contrevenir aux dispositions du présent article est puni de l amende prévue pour les contraventions de la deuxième classe.   '"
      ]
     },
     "execution_count": 60,
     "metadata": {},
     "output_type": "execute_result"
    }
   ],
   "source": [
    "' '.join(df.article_lowered[list_articles])\n",
    "    "
   ]
  },
  {
   "cell_type": "markdown",
   "metadata": {},
   "source": [
    "## Testing loading embedding with FAISS Document and DPR"
   ]
  },
  {
   "cell_type": "code",
   "execution_count": 1,
   "metadata": {},
   "outputs": [
    {
     "name": "stderr",
     "output_type": "stream",
     "text": [
      "INFO - haystack.document_stores.base -  Numba not found, replacing njit() with no-op implementation. Enable it with 'pip install numba'.\n",
      "INFO - haystack.modeling.model.optimization -  apex not found, won't use it. See https://nvidia.github.io/apex/\n",
      "ERROR - root -  Failed to import 'magic' (from 'python-magic' and 'python-magic-bin' on Windows). FileTypeClassifier will not perform mimetype detection on extensionless files. Please make sure the necessary OS libraries are installed if you need this functionality.\n"
     ]
    }
   ],
   "source": [
    "from haystack.document_stores import FAISSDocumentStore\n",
    "from haystack.nodes import DensePassageRetriever"
   ]
  },
  {
   "cell_type": "code",
   "execution_count": 2,
   "metadata": {},
   "outputs": [
    {
     "ename": "AttributeError",
     "evalue": "type object 'MissingDependency' has no attribute 'load'",
     "output_type": "error",
     "traceback": [
      "\u001b[0;31m---------------------------------------------------------------------------\u001b[0m",
      "\u001b[0;31mAttributeError\u001b[0m                            Traceback (most recent call last)",
      "\u001b[1;32m/Users/marco/code/MarcusLZ/HarvAi/harvai/notebooks/retriever_test.ipynb Cell 32'\u001b[0m in \u001b[0;36m<cell line: 1>\u001b[0;34m()\u001b[0m\n\u001b[0;32m----> <a href='vscode-notebook-cell:/Users/marco/code/MarcusLZ/HarvAi/harvai/notebooks/retriever_test.ipynb#ch0000044?line=0'>1</a>\u001b[0m FAISSDocumentStore\u001b[39m.\u001b[39;49mload()\n",
      "\u001b[0;31mAttributeError\u001b[0m: type object 'MissingDependency' has no attribute 'load'"
     ]
    }
   ],
   "source": [
    "FAISSDocumentStore.load()"
   ]
  },
  {
   "cell_type": "markdown",
   "metadata": {},
   "source": []
  },
  {
   "cell_type": "code",
   "execution_count": null,
   "metadata": {},
   "outputs": [],
   "source": [
    "\n",
    "retriever_2 = DensePassageRetriever.load(\"retriever.pt\", document_store=document_store_5)"
   ]
  }
 ],
 "metadata": {
  "interpreter": {
   "hash": "b383e3f01f6ad2bdb77077b10ec8560c0ae74c59c82da93d52ca881aae79abbd"
  },
  "kernelspec": {
   "display_name": "Python 3.8.12 64-bit ('harvai')",
   "language": "python",
   "name": "python3"
  },
  "language_info": {
   "codemirror_mode": {
    "name": "ipython",
    "version": 3
   },
   "file_extension": ".py",
   "mimetype": "text/x-python",
   "name": "python",
   "nbconvert_exporter": "python",
   "pygments_lexer": "ipython3",
   "version": "3.8.12"
  },
  "orig_nbformat": 4
 },
 "nbformat": 4,
 "nbformat_minor": 2
}
