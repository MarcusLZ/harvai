{
 "cells": [
  {
   "cell_type": "code",
   "execution_count": 6,
   "metadata": {},
   "outputs": [],
   "source": [
    "from harvai.data import get_clean_preproc_data\n",
    "from harvai.bm25 import Bm25\n",
    "from harvai.nn_model import Nn_model\n",
    "from harvai.utils import score"
   ]
  },
  {
   "cell_type": "code",
   "execution_count": 2,
   "metadata": {},
   "outputs": [],
   "source": [
    "data = get_clean_preproc_data()"
   ]
  },
  {
   "cell_type": "code",
   "execution_count": 3,
   "metadata": {},
   "outputs": [
    {
     "name": "stderr",
     "output_type": "stream",
     "text": [
      "100%|██████████| 51/51 [00:00<00:00, 160.91it/s]\n",
      "100%|██████████| 51/51 [00:00<00:00, 172.91it/s]\n",
      "100%|██████████| 51/51 [00:00<00:00, 214.67it/s]\n",
      "100%|██████████| 51/51 [00:00<00:00, 212.52it/s]\n",
      "100%|██████████| 51/51 [00:00<00:00, 197.85it/s]\n",
      "100%|██████████| 51/51 [00:00<00:00, 222.42it/s]\n",
      "100%|██████████| 51/51 [00:00<00:00, 214.04it/s]\n"
     ]
    }
   ],
   "source": [
    "preproc_scoring = []\n",
    "for preproc in data.columns[2:]:\n",
    "    model = Bm25(5)\n",
    "    model.clean_data(preprocessing=preproc)\n",
    "    model.fit()\n",
    "    preproc_scoring.append(score(model))"
   ]
  },
  {
   "cell_type": "code",
   "execution_count": 4,
   "metadata": {},
   "outputs": [
    {
     "data": {
      "text/plain": [
       "[{'recall': 0.5882352941176471, 'average rank': 2.033333333333333},\n",
       " {'recall': 0.5686274509803921, 'average rank': 1.9310344827586208},\n",
       " {'recall': 0.5686274509803921, 'average rank': 1.896551724137931},\n",
       " {'recall': 0.5686274509803921, 'average rank': 1.896551724137931},\n",
       " {'recall': 0.5686274509803921, 'average rank': 2.103448275862069},\n",
       " {'recall': 0.5686274509803921, 'average rank': 2.0689655172413794},\n",
       " {'recall': 0.7450980392156863, 'average rank': 1.4736842105263157}]"
      ]
     },
     "execution_count": 4,
     "metadata": {},
     "output_type": "execute_result"
    }
   ],
   "source": [
    "preproc_scoring"
   ]
  },
  {
   "cell_type": "code",
   "execution_count": 5,
   "metadata": {},
   "outputs": [
    {
     "data": {
      "text/plain": [
       "Index(['article_content', 'article_lowered', 'article_wo_numbers',\n",
       "       'article_wo_punctuation', 'article_wo_stopwords',\n",
       "       'article_tfidf_format', 'article_lemmatized'],\n",
       "      dtype='object')"
      ]
     },
     "execution_count": 5,
     "metadata": {},
     "output_type": "execute_result"
    }
   ],
   "source": [
    "data.columns[2:]"
   ]
  },
  {
   "cell_type": "code",
   "execution_count": 9,
   "metadata": {},
   "outputs": [
    {
     "name": "stderr",
     "output_type": "stream",
     "text": [
      "100%|██████████| 51/51 [00:00<00:00, 435.50it/s]\n",
      "100%|██████████| 51/51 [00:00<00:00, 395.94it/s]\n",
      "100%|██████████| 51/51 [00:00<00:00, 464.90it/s]\n",
      "100%|██████████| 51/51 [00:00<00:00, 505.23it/s]\n",
      "100%|██████████| 51/51 [00:00<00:00, 451.73it/s]\n",
      "100%|██████████| 51/51 [00:00<00:00, 488.71it/s]\n"
     ]
    }
   ],
   "source": [
    "preproc_scoring = []\n",
    "for preproc in ['article_content', 'article_lowered', 'article_wo_numbers',\n",
    "       'article_wo_punctuation',\n",
    "       'article_tfidf_format', 'article_lemmatized']:\n",
    "    model = Nn_model(5)\n",
    "    model.clean_data()\n",
    "    model.fit(preprocessing=preproc)\n",
    "    preproc_scoring.append(score(model))"
   ]
  },
  {
   "cell_type": "code",
   "execution_count": 10,
   "metadata": {},
   "outputs": [
    {
     "data": {
      "text/plain": [
       "[{'recall': 0.5686274509803921, 'average rank': 2.310344827586207},\n",
       " {'recall': 0.5686274509803921, 'average rank': 2.310344827586207},\n",
       " {'recall': 0.5686274509803921, 'average rank': 2.2413793103448274},\n",
       " {'recall': 0.5686274509803921, 'average rank': 2.2413793103448274},\n",
       " {'recall': 0.5490196078431373, 'average rank': 2.107142857142857},\n",
       " {'recall': 0.6666666666666666, 'average rank': 1.7058823529411764}]"
      ]
     },
     "execution_count": 10,
     "metadata": {},
     "output_type": "execute_result"
    }
   ],
   "source": [
    "preproc_scoring"
   ]
  },
  {
   "cell_type": "code",
   "execution_count": null,
   "metadata": {},
   "outputs": [],
   "source": []
  }
 ],
 "metadata": {
  "kernelspec": {
   "display_name": "Python 3.8.12 64-bit ('shims')",
   "language": "python",
   "name": "python3"
  },
  "language_info": {
   "codemirror_mode": {
    "name": "ipython",
    "version": 3
   },
   "file_extension": ".py",
   "mimetype": "text/x-python",
   "name": "python",
   "nbconvert_exporter": "python",
   "pygments_lexer": "ipython3",
   "version": "3.8.12"
  },
  "orig_nbformat": 4,
  "vscode": {
   "interpreter": {
    "hash": "c0f25c9bd0470a19455c7c824ec10a56b8965329568d5279379e9f6655b5cebf"
   }
  }
 },
 "nbformat": 4,
 "nbformat_minor": 2
}
