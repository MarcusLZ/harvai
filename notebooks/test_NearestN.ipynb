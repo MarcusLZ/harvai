{
 "cells": [
  {
   "cell_type": "code",
   "execution_count": 1,
   "metadata": {},
   "outputs": [],
   "source": [
    "import numpy as np\n",
    "import pandas as pd\n",
    "import PyPDF2 \n",
    "import re\n",
    "import matplotlib.pyplot as plt\n"
   ]
  },
  {
   "cell_type": "code",
   "execution_count": 2,
   "metadata": {},
   "outputs": [],
   "source": [
    "\n",
    "text_code = ''\n",
    "with open('data/LEGITEXT000006070719.pdf', 'rb') as file:\n",
    "    pdfReader = PyPDF2.PdfFileReader(file) \n",
    "    n = pdfReader.numPages\n",
    "    for i in range(n):\n",
    "        pageObj = pdfReader.getPage(i) \n",
    "        text_code += pageObj.extractText()\n",
    "        \n",
    "text_code = text_code.replace('\\n',' ')\n",
    "articles = re.findall(r\"(Article \\d*-?\\d.*?(?=Article))\",text_code)"
   ]
  },
  {
   "cell_type": "code",
   "execution_count": 3,
   "metadata": {},
   "outputs": [],
   "source": [
    "livre_un = articles[0:133]"
   ]
  },
  {
   "cell_type": "code",
   "execution_count": 4,
   "metadata": {},
   "outputs": [
    {
     "data": {
      "text/plain": [
       "133"
      ]
     },
     "execution_count": 4,
     "metadata": {},
     "output_type": "execute_result"
    }
   ],
   "source": [
    "len(livre_un)"
   ]
  },
  {
   "cell_type": "code",
   "execution_count": 5,
   "metadata": {},
   "outputs": [],
   "source": [
    "from sklearn.feature_extraction.text import TfidfVectorizer"
   ]
  },
  {
   "cell_type": "code",
   "execution_count": 6,
   "metadata": {},
   "outputs": [],
   "source": [
    "vec = TfidfVectorizer(max_features=10_000)"
   ]
  },
  {
   "cell_type": "code",
   "execution_count": 7,
   "metadata": {},
   "outputs": [],
   "source": [
    "features = vec.fit_transform(livre_un)"
   ]
  },
  {
   "cell_type": "code",
   "execution_count": 8,
   "metadata": {},
   "outputs": [
    {
     "data": {
      "text/plain": [
       "(133, 1705)"
      ]
     },
     "execution_count": 8,
     "metadata": {},
     "output_type": "execute_result"
    }
   ],
   "source": [
    "features.shape"
   ]
  },
  {
   "cell_type": "code",
   "execution_count": 9,
   "metadata": {},
   "outputs": [],
   "source": [
    "from sklearn.neighbors import NearestNeighbors"
   ]
  },
  {
   "cell_type": "code",
   "execution_count": 23,
   "metadata": {},
   "outputs": [
    {
     "data": {
      "text/plain": [
       "NearestNeighbors(algorithm='auto', leaf_size=30, metric='minkowski',\n",
       "                 metric_params=None, n_jobs=None, n_neighbors=10, p=2,\n",
       "                 radius=1.0)"
      ]
     },
     "execution_count": 23,
     "metadata": {},
     "output_type": "execute_result"
    }
   ],
   "source": [
    "knn = NearestNeighbors(n_neighbors=10)\n",
    "knn.fit(features)"
   ]
  },
  {
   "cell_type": "code",
   "execution_count": 24,
   "metadata": {},
   "outputs": [],
   "source": [
    "X_pred = vec.transform(['Peut on être condamné à une peine de prison si on est atteint de trouble psychologique?'])"
   ]
  },
  {
   "cell_type": "code",
   "execution_count": 25,
   "metadata": {},
   "outputs": [
    {
     "data": {
      "text/plain": [
       "(array([[1.1791844 , 1.2393003 , 1.2578378 , 1.25789277, 1.27260026,\n",
       "         1.27811264, 1.28485271, 1.28511158, 1.28979812, 1.29040825]]),\n",
       " array([[33, 55, 86, 54, 49, 82, 52, 61,  2, 56]]))"
      ]
     },
     "execution_count": 25,
     "metadata": {},
     "output_type": "execute_result"
    }
   ],
   "source": [
    "knn.kneighbors(X_pred)"
   ]
  },
  {
   "cell_type": "code",
   "execution_count": 26,
   "metadata": {},
   "outputs": [
    {
     "name": "stdout",
     "output_type": "stream",
     "text": [
      "Article 122-1   N'est pas pénalement responsable la personne qui était atteinte, au moment des faits, d'un trouble psychique ou neuropsychique ayant aboli son discernement ou le contrôle de ses actes.     La personne qui était atteinte, au moment des faits, d'un trouble psychique ou neuropsychique ayant altéré son discernement ou entravé le contrôle de ses actes demeure punissable. Toutefois, la juridiction tient compte de cette circonstance lorsqu'elle détermine la peine et en fixe le régime. Si est encourue une peine privative de liberté, celle-ci est réduite du tiers ou, en cas de crime puni de la réclusion criminelle ou de la détention criminelle à perpétuité, est ramenée à trente ans. La juridiction peut toutefois, par une décision spécialement motivée en matière correctionnelle, décider de ne pas appliquer cette diminution de peine. Lorsque, après avis médical, la juridiction considère que la nature du trouble le justifie, elle s'assure que la peine prononcée permette que le condamné fasse l'objet de soins adaptés à son état. \n"
     ]
    }
   ],
   "source": [
    " print(livre_un[knn.kneighbors(X_pred, return_distance=False)[0][0]])"
   ]
  },
  {
   "cell_type": "code",
   "execution_count": 27,
   "metadata": {},
   "outputs": [
    {
     "name": "stdout",
     "output_type": "stream",
     "text": [
      "Article 122-1   N'est pas pénalement responsable la personne qui était atteinte, au moment des faits, d'un trouble psychique ou neuropsychique ayant aboli son discernement ou le contrôle de ses actes.     La personne qui était atteinte, au moment des faits, d'un trouble psychique ou neuropsychique ayant altéré son discernement ou entravé le contrôle de ses actes demeure punissable. Toutefois, la juridiction tient compte de cette circonstance lorsqu'elle détermine la peine et en fixe le régime. Si est encourue une peine privative de liberté, celle-ci est réduite du tiers ou, en cas de crime puni de la réclusion criminelle ou de la détention criminelle à perpétuité, est ramenée à trente ans. La juridiction peut toutefois, par une décision spécialement motivée en matière correctionnelle, décider de ne pas appliquer cette diminution de peine. Lorsque, après avis médical, la juridiction considère que la nature du trouble le justifie, elle s'assure que la peine prononcée permette que le condamné fasse l'objet de soins adaptés à son état. \n",
      "Article 131-8-1   Lorsqu'un délit est puni d'une peine d'emprisonnement, la juridiction peut prononcer, à la place ou en même temps que la peine d'emprisonnement, la peine de sanction-réparation. Il en est de même lorsqu'un délit est puni à titre de peine principale d'une seule peine d'amende.   La sanction-réparation consiste dans l'obligation pour le condamné de procéder, dans le délai et selon les modalités fixés par la juridiction, à l'indemnisation du préjudice de la victime.   Avec l'accord de la victime et du prévenu, la réparation peut être exécutée en nature. Elle peut alors consister dans la remise en état d'un bien endommagé à l'occasion de la commission de l'infraction ; cette remise en état est réalisée par le condamné lui-même ou par un professionnel qu'il choisit et dont il rémunère l'intervention.   L'exécution de la réparation est constatée par le procureur de la République ou son délégué.   Lorsqu'elle prononce la peine de sanction-réparation, la juridiction fixe la durée maximum de l'emprisonnement, qui ne peut excéder six mois, ou le montant maximum de l'amende, qui ne peut excéder 15 000 euros, dont le juge de l'application des peines pourra ordonner la mise à exécution en tout ou partie dans les conditions prévues par l'article 712-6 du code de procédure pénale si le condamné ne respecte pas l'obligation de réparation. Si le délit n'est puni que d'une peine d'amende, la juridiction ne fixe que le montant de l'amende, qui ne peut excéder 15 000 euros, qui pourra être mis à exécution. Le président de la juridiction en avertit le condamné après le prononcé de la décision. \n",
      "Article 131-32   Lorsque l'interdiction de séjour accompagne une peine privative de liberté sans sursis, elle s'applique dès le commencement de cette peine et son exécution se poursuit, pour la durée fixée par la décision de condamnation, à compter du jour où la privation de liberté a pris fin.     Toute détention intervenue au cours de l'interdiction de séjour s'impute sur la durée de celle-ci.   Code pénal - Dernière modification le 01 mai 2022 - Document généré le 11 mai 2022   Sous réserve de l'application de l'article 763 du code de procédure pénale, l'interdiction de séjour cesse de plein droit lorsque le condamné atteint l'âge de soixante-cinq ans.   \n",
      "Article 131-8 Code pénal - Dernière modification le 01 mai 2022 - Document généré le 11 mai 2022   Lorsqu'un délit est puni d'une peine d'emprisonnement, la juridiction peut prescrire, à la place de l'emprisonnement, que le condamné accomplira, pour une durée de vingt à quatre cents heures, un travail d'intérêt général non rémunéré au profit soit d'une personne morale de droit public, soit d'une personne morale de droit privé chargée d'une mission de service public ou d'une association habilitées à mettre en oeuvre des travaux d'intérêt général.   Lorsque le prévenu est présent à l'audience, la peine de travail d'intérêt général ne peut être prononcée si celui-ci la refuse. Le président du tribunal, avant le prononcé du jugement, informe le prévenu de son droit de refuser l'accomplissement d'un travail d'intérêt général et reçoit sa réponse.     Lorsque le prévenu n'est pas présent à l'audience mais y est représenté par son avocat, cette peine peut être prononcée s'il a fait connaître par écrit son accord.     Lorsque le prévenu n'est pas présent à l'audience et n'a pas fait connaître son accord, cette peine ne peut être prononcée que si le tribunal fait application des dispositions du deuxième alinéa de l'article 131-9. Dans ce cas, avant la mise à exécution de la peine de travail d'intérêt général, le juge de l'application des peines informe le condamné de son droit de refuser l'accomplissement d'un travail et reçoit sa réponse. En cas de refus, tout ou partie de l'emprisonnement ou de l'amende fixée par la juridiction peut être mis à exécution, dans les conditions prévues à l'article 712-6 du code de procédure pénale, sous réserve, s'il y a lieu, des possibilités d'aménagement ou de conversion. \n",
      "Article 131-4-1   Lorsqu'un délit est puni d'une peine d'emprisonnement, la juridiction peut, à la place de l'emprisonnement, prononcer la peine de détention à domicile sous surveillance électronique pendant une durée comprise entre quinze jours et six mois, sans pouvoir excéder la durée de l'emprisonnement encouru.     Cette peine emporte pour le condamné l'obligation de demeurer dans son domicile ou tout autre lieu désigné par la juridiction ou le juge de l'application des peines et du port d'un dispositif intégrant un émetteur permettant de vérifier le respect de cette première obligation.     Le condamné n'est autorisé à s'absenter de son domicile pendant des périodes déterminées par la juridiction ou le juge de l'application des peines que pour le temps nécessaire à l'exercice d'une activité professionnelle, au suivi d'un enseignement, d'un stage, d'une formation ou d'un traitement médical, à la recherche d'un emploi, à la participation à la vie de famille ou à tout projet d'insertion ou de réinsertion.     La juridiction peut décider que le condamné bénéficiera de mesures d'aide ayant pour objet de seconder ses efforts en vue de son reclassement social.     En cas de non-respect par le condamné de ses obligations, le juge de l'application des peines peut, selon des modalités précisées par le code de procédure pénale, soit limiter ses autorisations d'absence, soit ordonner son emprisonnement pour la durée de la peine restant à exécuter.   La juridiction peut également soumettre le condamné à une ou plusieurs des obligations ou interdictions prévues aux articles 132-44 et 132-45. \n",
      "Article 131-30 Code pénal - Dernière modification le 01 mai 2022 - Document généré le 11 mai 2022   Lorsqu'elle est prévue par la loi, la peine d'interdiction du territoire français peut être prononcée, à titre définitif ou pour une durée de dix ans au plus, à l'encontre de tout étranger coupable d'un crime ou d'un délit.     L'interdiction du territoire entraîne de plein droit la reconduite du condamné à la frontière, le cas échéant, à l'expiration de sa peine d'emprisonnement ou de réclusion.     Lorsque l'interdiction du territoire accompagne une peine privative de liberté sans sursis, son application est suspendue pendant le délai d'exécution de la peine. Elle reprend, pour la durée fixée par la décision de condamnation, à compter du jour où la privation de liberté a pris fin.     L'interdiction du territoire français prononcée en même temps qu'une peine d'emprisonnement ne fait pas obstacle à ce que cette peine fasse l'objet, aux fins de préparation d'une demande en relèvement, de mesures de semi-liberté, de placement à l'extérieur, de détention à domicile sous surveillance électronique ou de permissions de sortir.   \n",
      "Article 131-6   Lorsqu'un délit est puni d'une peine d'emprisonnement, la juridiction peut prononcer, à la place de l'emprisonnement, une ou plusieurs des peines privatives ou restrictives de liberté suivantes :   1° La suspension, pour une durée de cinq ans au plus, du permis de conduire, cette suspension pouvant être limitée, selon des modalités déterminées par décret en Conseil d'Etat, à la conduite en dehors de l'activité professionnelle ; cette limitation n'est toutefois pas possible en cas de délit pour lequel la suspension du permis de conduire, encourue à titre de peine complémentaire, ne peut pas être limitée à la conduite en dehors de l'activité professionnelle ;   2° L'interdiction de conduire certains véhicules pendant une durée de cinq ans au plus ;   3° L'annulation du permis de conduire avec interdiction de solliciter la délivrance d'un nouveau permis pendant cinq ans au plus ;   4° La confiscation d'un ou de plusieurs véhicules appartenant au condamné ;   5° L'immobilisation, pour une durée d'un an au plus, d'un ou de plusieurs véhicules appartenant au condamné, selon des modalités déterminées par décret en Conseil d'Etat ;   Code pénal - Dernière modification le 01 mai 2022 - Document généré le 11 mai 2022 5° bis L'interdiction, pendant une durée de cinq ans au plus, de conduire un véhicule qui ne soit pas équipé, par un professionnel agréé ou par construction, d'un dispositif homologué d'anti-démarrage par éthylotest électronique. Lorsque cette interdiction est prononcée en même temps que la peine d'annulation ou de suspension du permis de conduire, elle s'applique, pour la durée fixée par la juridiction, à l'issue de l'exécution de cette peine ;   6° L'interdiction de détenir ou de porter, pour une durée de cinq ans au plus, une arme soumise à autorisation ;   7° La confiscation d'une ou de plusieurs armes dont le condamné est propriétaire ou dont il a la libre disposition ;   8° Le retrait du permis de chasser avec interdiction de solliciter la délivrance d'un nouveau permis pendant cinq ans au plus ;   9° L'interdiction pour une durée de cinq ans au plus d'émettre des chèques autres que ceux qui permettent le retrait de fonds par le tireur auprès du tiré ou ceux qui sont certifiés et d'utiliser des cartes de paiement ;   10° La confiscation de la chose qui a servi ou était destinée à commettre l'infraction ou de la chose qui en est le produit. Toutefois, cette confiscation ne peut pas être prononcée en matière de délit de presse ;   11° L'interdiction pour une durée de cinq ans au plus d'exercer une activité professionnelle ou sociale dès lors que les facilités que procure cette activité ont été sciemment utilisées pour préparer ou commettre l'infraction. Cette interdiction n'est toutefois pas applicable à l'exercice d'un mandat électif ou de responsabilités syndicales. Elle n'est pas non plus applicable en matière de délit de presse ;   12° L'interdiction, pour une durée de trois ans au plus, de paraître dans certains lieux ou catégories de lieux déterminés par la juridiction et dans lesquels l'infraction a été commise ;   13° L'interdiction, pour une durée de trois ans au plus, de fréquenter certains condamnés spécialement désignés par la juridiction, notamment les auteurs ou complices de l'infraction ;   14° L'interdiction, pour une durée de trois ans au plus, d'entrer en relation avec certaines personnes spécialement désignées par la juridiction, notamment la victime de l'infraction ;   15° L'interdiction, pour une durée de cinq ans au plus, d'exercer une profession commerciale ou industrielle, de diriger, d'administrer, de gérer ou de contrôler à un titre quelconque, directement ou indirectement, pour son propre compte ou pour le compte d'autrui, une entreprise commerciale ou industrielle ou une société commerciale.   Lorsqu'un délit est puni d'une peine d'emprisonnement, la juridiction peut prononcer, à la place de ou en même temps que la peine d'emprisonnement, une ou plusieurs des peines privatives ou restrictives de liberté prévues aux 6°, 7°, 10°, 12°, 13° et 14°. \n",
      "Article 131-14   Pour toutes les contraventions de la 5e classe, une ou plusieurs des peines privatives ou restrictives de droits suivantes peuvent être prononcées :     1° La suspension, pour une durée d'un an au plus, du permis de conduire, cette suspension pouvant être limitée à la conduite en dehors de l'activité professionnelle ; cette limitation n'est toutefois pas possible en cas de contravention pour laquelle la suspension du permis de conduire, encourue à titre de peine complémentaire, ne peut pas être limitée à la conduite en dehors de l'activité professionnelle ;     2° L'immobilisation, pour une durée de six mois au plus, d'un ou de plusieurs véhicules appartenant au condamné ;   Code pénal - Dernière modification le 01 mai 2022 - Document généré le 11 mai 2022   3° La confiscation d'une ou de plusieurs armes dont le condamné est propriétaire ou dont il a la libre disposition ;     4° Le retrait du permis de chasser, avec interdiction de solliciter la délivrance d'un nouveau permis pendant un an au plus ;     5° L'interdiction, pour une durée d'un an au plus, d'émettre des chèques autres que ceux qui permettent le retrait de fonds par le tireur auprès du tiré ou ceux qui sont certifiés et d'utiliser des cartes de paiement ;     6° La confiscation de la chose qui a servi ou était destinée à commettre l'infraction ou de la chose qui en est le produit. Toutefois, cette confiscation ne peut pas être prononcée en matière de délit de presse.   \n",
      "Article 111-3   Nul ne peut être puni pour un crime ou pour un délit dont les éléments ne sont pas définis par la loi, ou pour une contravention dont les éléments ne sont pas définis par le règlement.     Nul ne peut être puni d'une peine qui n'est pas prévue par la loi, si l'infraction est un crime ou un délit, ou par le règlement, si l'infraction est une contravention.   \n",
      "Article 131-9   L'emprisonnement ne peut être prononcé cumulativement avec une des peines privatives ou restrictives de droits prévues aux 1°, 2°, 3°, 4°, 5°, 5° bis, 8°, 9°, 11° et 15° de l'article 131-6 ni avec la peine de travail d'intérêt général.   Code pénal - Dernière modification le 01 mai 2022 - Document généré le 11 mai 2022 Lorsqu'elle prononce une ou plusieurs des peines prévues par les articles 131-5-1, 131-6 ou 131-8, la juridiction peut fixer la durée maximum de l'emprisonnement ou le montant maximum de l'amende dont le juge de l'application des peines pourra ordonner la mise à exécution en tout ou partie, dans des conditions prévues par l'article 712-6 du code de procédure pénale, si le condamné ne respecte pas les obligations ou interdictions résultant de la ou des peines prononcées. Le président de la juridiction en avertit le condamné après le prononcé de la décision. L'emprisonnement ou l'amende que fixe la juridiction ne peuvent excéder les peines encourues pour le délit pour lequel la condamnation est prononcée ni celles prévues par l'article 434-41 du présent code. Lorsqu'il est fait application des dispositions du présent alinéa, les dispositions de l'article 434-41 ne sont alors pas applicables.   La peine de jours-amende ne peut être prononcée cumulativement avec la peine d'amende.   Sous-section 3 : Des peines complémentaires encourues pour certains crimes ou délits \n"
     ]
    }
   ],
   "source": [
    "for article in knn.kneighbors(X_pred, return_distance=False)[0]: \n",
    "    print(livre_un[article])"
   ]
  },
  {
   "cell_type": "code",
   "execution_count": 41,
   "metadata": {},
   "outputs": [
    {
     "data": {
      "text/plain": [
       "\"Article 122-4   N'est pas pénalement responsable la personne qui accomplit un acte prescrit ou autorisé par des dispositions législatives ou réglementaires.     N'est pas pénalement responsable la personne qui accomplit un acte commandé par l'autorité légitime, sauf si cet acte est manifestement illégal.   \""
      ]
     },
     "execution_count": 41,
     "metadata": {},
     "output_type": "execute_result"
    }
   ],
   "source": [
    "livre_un[38]"
   ]
  },
  {
   "cell_type": "code",
   "execution_count": null,
   "metadata": {},
   "outputs": [],
   "source": []
  }
 ],
 "metadata": {
  "interpreter": {
   "hash": "03d034eda2fef8ba9032089c52fbb0888b5759408661b4c683624246c89eb401"
  },
  "kernelspec": {
   "display_name": "Python 3.8.12 64-bit ('lewagon')",
   "language": "python",
   "name": "python3"
  },
  "language_info": {
   "codemirror_mode": {
    "name": "ipython",
    "version": 3
   },
   "file_extension": ".py",
   "mimetype": "text/x-python",
   "name": "python",
   "nbconvert_exporter": "python",
   "pygments_lexer": "ipython3",
   "version": "3.8.12"
  },
  "orig_nbformat": 4
 },
 "nbformat": 4,
 "nbformat_minor": 2
}
