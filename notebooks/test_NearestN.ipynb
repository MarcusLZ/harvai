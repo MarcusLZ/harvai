{
 "cells": [
  {
   "cell_type": "code",
   "execution_count": 33,
   "metadata": {},
   "outputs": [],
   "source": [
    "import numpy as np\n",
    "import pandas as pd\n",
    "import PyPDF2 \n",
    "import re\n",
    "import matplotlib.pyplot as plt\n",
    "from nltk.corpus import stopwords\n",
    "import string\n"
   ]
  },
  {
   "cell_type": "code",
   "execution_count": 74,
   "metadata": {},
   "outputs": [],
   "source": [
    "\n",
    "text_code = ''\n",
    "with open('data/LEGITEXT000006070719.pdf', 'rb') as file:\n",
    "    pdfReader = PyPDF2.PdfFileReader(file) \n",
    "    n = pdfReader.numPages\n",
    "    for i in range(n):\n",
    "        pageObj = pdfReader.getPage(i) \n",
    "        text_code += pageObj.extractText()\n",
    "        \n",
    "text_code = text_code.replace('\\n',' ')\n",
    "articles = re.findall(r\"(Article \\d*-?\\d.*?(?=Article))\",text_code)"
   ]
  },
  {
   "cell_type": "code",
   "execution_count": 75,
   "metadata": {},
   "outputs": [],
   "source": [
    "livre_un = articles"
   ]
  },
  {
   "cell_type": "markdown",
   "metadata": {},
   "source": [
    "## Lower all the letters"
   ]
  },
  {
   "cell_type": "code",
   "execution_count": 76,
   "metadata": {},
   "outputs": [],
   "source": [
    "livre_un_low = [article.lower() for article in livre_un]"
   ]
  },
  {
   "cell_type": "markdown",
   "metadata": {},
   "source": [
    "## Removing punctuation"
   ]
  },
  {
   "cell_type": "code",
   "execution_count": 77,
   "metadata": {},
   "outputs": [
    {
     "data": {
      "text/plain": [
       "'!\"#$%&\\'()*+,-./:;<=>?@[\\\\]^_`{|}~'"
      ]
     },
     "execution_count": 77,
     "metadata": {},
     "output_type": "execute_result"
    }
   ],
   "source": [
    "string.punctuation"
   ]
  },
  {
   "cell_type": "code",
   "execution_count": 78,
   "metadata": {},
   "outputs": [],
   "source": [
    "livre_un_low_clean = []\n",
    "\n",
    "for article in livre_un_low: \n",
    "    \n",
    "    for punctuation in string.punctuation: \n",
    "        article = article.replace(punctuation, '')\n",
    "        \n",
    "    livre_un_low_clean.append(article)\n",
    "        "
   ]
  },
  {
   "cell_type": "markdown",
   "metadata": {},
   "source": [
    "## removing stopwords"
   ]
  },
  {
   "cell_type": "code",
   "execution_count": 79,
   "metadata": {},
   "outputs": [],
   "source": [
    "stop_words = set(stopwords.words('french'))"
   ]
  },
  {
   "cell_type": "code",
   "execution_count": 80,
   "metadata": {},
   "outputs": [
    {
     "data": {
      "text/plain": [
       "['article 1111   les infractions pénales sont classées suivant leur gravité en crimes délits et contraventions     ']"
      ]
     },
     "execution_count": 80,
     "metadata": {},
     "output_type": "execute_result"
    }
   ],
   "source": [
    "livre_un_low_clean[0:1]"
   ]
  },
  {
   "cell_type": "code",
   "execution_count": 81,
   "metadata": {},
   "outputs": [],
   "source": [
    "livre_un_low_clean_sw = []\n",
    "\n",
    "for article in livre_un_low_clean: \n",
    "    article_clean = ''\n",
    "    for w in article.split():\n",
    "        if w not in stop_words:\n",
    "            article_clean += ' ' + w\n",
    "            \n",
    "        \n",
    "    livre_un_low_clean_sw.append(article_clean)"
   ]
  },
  {
   "cell_type": "code",
   "execution_count": 82,
   "metadata": {},
   "outputs": [],
   "source": [
    "from sklearn.feature_extraction.text import TfidfVectorizer"
   ]
  },
  {
   "cell_type": "code",
   "execution_count": 165,
   "metadata": {},
   "outputs": [],
   "source": [
    "vec = TfidfVectorizer(max_df=0.8)"
   ]
  },
  {
   "cell_type": "code",
   "execution_count": 166,
   "metadata": {},
   "outputs": [],
   "source": [
    "features = vec.fit_transform(livre_un_low_clean_sw)"
   ]
  },
  {
   "cell_type": "code",
   "execution_count": 167,
   "metadata": {},
   "outputs": [
    {
     "name": "stderr",
     "output_type": "stream",
     "text": [
      "/Users/marco/.pyenv/versions/3.8.12/envs/harvai/lib/python3.8/site-packages/sklearn/utils/deprecation.py:87: FutureWarning: Function get_feature_names is deprecated; get_feature_names is deprecated in 1.0 and will be removed in 1.2. Please use get_feature_names_out instead.\n",
      "  warnings.warn(msg, category=FutureWarning)\n"
     ]
    },
    {
     "data": {
      "text/html": [
       "<div>\n",
       "<style scoped>\n",
       "    .dataframe tbody tr th:only-of-type {\n",
       "        vertical-align: middle;\n",
       "    }\n",
       "\n",
       "    .dataframe tbody tr th {\n",
       "        vertical-align: top;\n",
       "    }\n",
       "\n",
       "    .dataframe thead th {\n",
       "        text-align: right;\n",
       "    }\n",
       "</style>\n",
       "<table border=\"1\" class=\"dataframe\">\n",
       "  <thead>\n",
       "    <tr style=\"text-align: right;\">\n",
       "      <th></th>\n",
       "      <th>000</th>\n",
       "      <th>01</th>\n",
       "      <th>10</th>\n",
       "      <th>100</th>\n",
       "      <th>101</th>\n",
       "      <th>102</th>\n",
       "      <th>104</th>\n",
       "      <th>106</th>\n",
       "      <th>109</th>\n",
       "      <th>11</th>\n",
       "      <th>...</th>\n",
       "      <th>étudiant</th>\n",
       "      <th>évaluation</th>\n",
       "      <th>évasion</th>\n",
       "      <th>éventuelle</th>\n",
       "      <th>éviter</th>\n",
       "      <th>évolutif</th>\n",
       "      <th>être</th>\n",
       "      <th>êtres</th>\n",
       "      <th>îles</th>\n",
       "      <th>œuvre</th>\n",
       "    </tr>\n",
       "  </thead>\n",
       "  <tbody>\n",
       "    <tr>\n",
       "      <th>0</th>\n",
       "      <td>0.000000</td>\n",
       "      <td>0.000000</td>\n",
       "      <td>0.0</td>\n",
       "      <td>0.0</td>\n",
       "      <td>0.0</td>\n",
       "      <td>0.0</td>\n",
       "      <td>0.0</td>\n",
       "      <td>0.0</td>\n",
       "      <td>0.0</td>\n",
       "      <td>0.000000</td>\n",
       "      <td>...</td>\n",
       "      <td>0.0</td>\n",
       "      <td>0.0</td>\n",
       "      <td>0.0</td>\n",
       "      <td>0.0</td>\n",
       "      <td>0.0</td>\n",
       "      <td>0.0</td>\n",
       "      <td>0.000000</td>\n",
       "      <td>0.0</td>\n",
       "      <td>0.0</td>\n",
       "      <td>0.0</td>\n",
       "    </tr>\n",
       "    <tr>\n",
       "      <th>1</th>\n",
       "      <td>0.000000</td>\n",
       "      <td>0.000000</td>\n",
       "      <td>0.0</td>\n",
       "      <td>0.0</td>\n",
       "      <td>0.0</td>\n",
       "      <td>0.0</td>\n",
       "      <td>0.0</td>\n",
       "      <td>0.0</td>\n",
       "      <td>0.0</td>\n",
       "      <td>0.000000</td>\n",
       "      <td>...</td>\n",
       "      <td>0.0</td>\n",
       "      <td>0.0</td>\n",
       "      <td>0.0</td>\n",
       "      <td>0.0</td>\n",
       "      <td>0.0</td>\n",
       "      <td>0.0</td>\n",
       "      <td>0.000000</td>\n",
       "      <td>0.0</td>\n",
       "      <td>0.0</td>\n",
       "      <td>0.0</td>\n",
       "    </tr>\n",
       "    <tr>\n",
       "      <th>2</th>\n",
       "      <td>0.000000</td>\n",
       "      <td>0.000000</td>\n",
       "      <td>0.0</td>\n",
       "      <td>0.0</td>\n",
       "      <td>0.0</td>\n",
       "      <td>0.0</td>\n",
       "      <td>0.0</td>\n",
       "      <td>0.0</td>\n",
       "      <td>0.0</td>\n",
       "      <td>0.000000</td>\n",
       "      <td>...</td>\n",
       "      <td>0.0</td>\n",
       "      <td>0.0</td>\n",
       "      <td>0.0</td>\n",
       "      <td>0.0</td>\n",
       "      <td>0.0</td>\n",
       "      <td>0.0</td>\n",
       "      <td>0.167891</td>\n",
       "      <td>0.0</td>\n",
       "      <td>0.0</td>\n",
       "      <td>0.0</td>\n",
       "    </tr>\n",
       "    <tr>\n",
       "      <th>3</th>\n",
       "      <td>0.000000</td>\n",
       "      <td>0.000000</td>\n",
       "      <td>0.0</td>\n",
       "      <td>0.0</td>\n",
       "      <td>0.0</td>\n",
       "      <td>0.0</td>\n",
       "      <td>0.0</td>\n",
       "      <td>0.0</td>\n",
       "      <td>0.0</td>\n",
       "      <td>0.000000</td>\n",
       "      <td>...</td>\n",
       "      <td>0.0</td>\n",
       "      <td>0.0</td>\n",
       "      <td>0.0</td>\n",
       "      <td>0.0</td>\n",
       "      <td>0.0</td>\n",
       "      <td>0.0</td>\n",
       "      <td>0.000000</td>\n",
       "      <td>0.0</td>\n",
       "      <td>0.0</td>\n",
       "      <td>0.0</td>\n",
       "    </tr>\n",
       "    <tr>\n",
       "      <th>4</th>\n",
       "      <td>0.000000</td>\n",
       "      <td>0.075535</td>\n",
       "      <td>0.0</td>\n",
       "      <td>0.0</td>\n",
       "      <td>0.0</td>\n",
       "      <td>0.0</td>\n",
       "      <td>0.0</td>\n",
       "      <td>0.0</td>\n",
       "      <td>0.0</td>\n",
       "      <td>0.075433</td>\n",
       "      <td>...</td>\n",
       "      <td>0.0</td>\n",
       "      <td>0.0</td>\n",
       "      <td>0.0</td>\n",
       "      <td>0.0</td>\n",
       "      <td>0.0</td>\n",
       "      <td>0.0</td>\n",
       "      <td>0.000000</td>\n",
       "      <td>0.0</td>\n",
       "      <td>0.0</td>\n",
       "      <td>0.0</td>\n",
       "    </tr>\n",
       "    <tr>\n",
       "      <th>...</th>\n",
       "      <td>...</td>\n",
       "      <td>...</td>\n",
       "      <td>...</td>\n",
       "      <td>...</td>\n",
       "      <td>...</td>\n",
       "      <td>...</td>\n",
       "      <td>...</td>\n",
       "      <td>...</td>\n",
       "      <td>...</td>\n",
       "      <td>...</td>\n",
       "      <td>...</td>\n",
       "      <td>...</td>\n",
       "      <td>...</td>\n",
       "      <td>...</td>\n",
       "      <td>...</td>\n",
       "      <td>...</td>\n",
       "      <td>...</td>\n",
       "      <td>...</td>\n",
       "      <td>...</td>\n",
       "      <td>...</td>\n",
       "      <td>...</td>\n",
       "    </tr>\n",
       "    <tr>\n",
       "      <th>1136</th>\n",
       "      <td>0.083860</td>\n",
       "      <td>0.000000</td>\n",
       "      <td>0.0</td>\n",
       "      <td>0.0</td>\n",
       "      <td>0.0</td>\n",
       "      <td>0.0</td>\n",
       "      <td>0.0</td>\n",
       "      <td>0.0</td>\n",
       "      <td>0.0</td>\n",
       "      <td>0.000000</td>\n",
       "      <td>...</td>\n",
       "      <td>0.0</td>\n",
       "      <td>0.0</td>\n",
       "      <td>0.0</td>\n",
       "      <td>0.0</td>\n",
       "      <td>0.0</td>\n",
       "      <td>0.0</td>\n",
       "      <td>0.000000</td>\n",
       "      <td>0.0</td>\n",
       "      <td>0.0</td>\n",
       "      <td>0.0</td>\n",
       "    </tr>\n",
       "    <tr>\n",
       "      <th>1137</th>\n",
       "      <td>0.036893</td>\n",
       "      <td>0.043301</td>\n",
       "      <td>0.0</td>\n",
       "      <td>0.0</td>\n",
       "      <td>0.0</td>\n",
       "      <td>0.0</td>\n",
       "      <td>0.0</td>\n",
       "      <td>0.0</td>\n",
       "      <td>0.0</td>\n",
       "      <td>0.043243</td>\n",
       "      <td>...</td>\n",
       "      <td>0.0</td>\n",
       "      <td>0.0</td>\n",
       "      <td>0.0</td>\n",
       "      <td>0.0</td>\n",
       "      <td>0.0</td>\n",
       "      <td>0.0</td>\n",
       "      <td>0.000000</td>\n",
       "      <td>0.0</td>\n",
       "      <td>0.0</td>\n",
       "      <td>0.0</td>\n",
       "    </tr>\n",
       "    <tr>\n",
       "      <th>1138</th>\n",
       "      <td>0.063343</td>\n",
       "      <td>0.000000</td>\n",
       "      <td>0.0</td>\n",
       "      <td>0.0</td>\n",
       "      <td>0.0</td>\n",
       "      <td>0.0</td>\n",
       "      <td>0.0</td>\n",
       "      <td>0.0</td>\n",
       "      <td>0.0</td>\n",
       "      <td>0.000000</td>\n",
       "      <td>...</td>\n",
       "      <td>0.0</td>\n",
       "      <td>0.0</td>\n",
       "      <td>0.0</td>\n",
       "      <td>0.0</td>\n",
       "      <td>0.0</td>\n",
       "      <td>0.0</td>\n",
       "      <td>0.000000</td>\n",
       "      <td>0.0</td>\n",
       "      <td>0.0</td>\n",
       "      <td>0.0</td>\n",
       "    </tr>\n",
       "    <tr>\n",
       "      <th>1139</th>\n",
       "      <td>0.074194</td>\n",
       "      <td>0.000000</td>\n",
       "      <td>0.0</td>\n",
       "      <td>0.0</td>\n",
       "      <td>0.0</td>\n",
       "      <td>0.0</td>\n",
       "      <td>0.0</td>\n",
       "      <td>0.0</td>\n",
       "      <td>0.0</td>\n",
       "      <td>0.000000</td>\n",
       "      <td>...</td>\n",
       "      <td>0.0</td>\n",
       "      <td>0.0</td>\n",
       "      <td>0.0</td>\n",
       "      <td>0.0</td>\n",
       "      <td>0.0</td>\n",
       "      <td>0.0</td>\n",
       "      <td>0.000000</td>\n",
       "      <td>0.0</td>\n",
       "      <td>0.0</td>\n",
       "      <td>0.0</td>\n",
       "    </tr>\n",
       "    <tr>\n",
       "      <th>1140</th>\n",
       "      <td>0.000000</td>\n",
       "      <td>0.091901</td>\n",
       "      <td>0.0</td>\n",
       "      <td>0.0</td>\n",
       "      <td>0.0</td>\n",
       "      <td>0.0</td>\n",
       "      <td>0.0</td>\n",
       "      <td>0.0</td>\n",
       "      <td>0.0</td>\n",
       "      <td>0.091777</td>\n",
       "      <td>...</td>\n",
       "      <td>0.0</td>\n",
       "      <td>0.0</td>\n",
       "      <td>0.0</td>\n",
       "      <td>0.0</td>\n",
       "      <td>0.0</td>\n",
       "      <td>0.0</td>\n",
       "      <td>0.000000</td>\n",
       "      <td>0.0</td>\n",
       "      <td>0.0</td>\n",
       "      <td>0.0</td>\n",
       "    </tr>\n",
       "  </tbody>\n",
       "</table>\n",
       "<p>1141 rows × 5967 columns</p>\n",
       "</div>"
      ],
      "text/plain": [
       "           000        01   10  100  101  102  104  106  109        11  ...  \\\n",
       "0     0.000000  0.000000  0.0  0.0  0.0  0.0  0.0  0.0  0.0  0.000000  ...   \n",
       "1     0.000000  0.000000  0.0  0.0  0.0  0.0  0.0  0.0  0.0  0.000000  ...   \n",
       "2     0.000000  0.000000  0.0  0.0  0.0  0.0  0.0  0.0  0.0  0.000000  ...   \n",
       "3     0.000000  0.000000  0.0  0.0  0.0  0.0  0.0  0.0  0.0  0.000000  ...   \n",
       "4     0.000000  0.075535  0.0  0.0  0.0  0.0  0.0  0.0  0.0  0.075433  ...   \n",
       "...        ...       ...  ...  ...  ...  ...  ...  ...  ...       ...  ...   \n",
       "1136  0.083860  0.000000  0.0  0.0  0.0  0.0  0.0  0.0  0.0  0.000000  ...   \n",
       "1137  0.036893  0.043301  0.0  0.0  0.0  0.0  0.0  0.0  0.0  0.043243  ...   \n",
       "1138  0.063343  0.000000  0.0  0.0  0.0  0.0  0.0  0.0  0.0  0.000000  ...   \n",
       "1139  0.074194  0.000000  0.0  0.0  0.0  0.0  0.0  0.0  0.0  0.000000  ...   \n",
       "1140  0.000000  0.091901  0.0  0.0  0.0  0.0  0.0  0.0  0.0  0.091777  ...   \n",
       "\n",
       "      étudiant  évaluation  évasion  éventuelle  éviter  évolutif      être  \\\n",
       "0          0.0         0.0      0.0         0.0     0.0       0.0  0.000000   \n",
       "1          0.0         0.0      0.0         0.0     0.0       0.0  0.000000   \n",
       "2          0.0         0.0      0.0         0.0     0.0       0.0  0.167891   \n",
       "3          0.0         0.0      0.0         0.0     0.0       0.0  0.000000   \n",
       "4          0.0         0.0      0.0         0.0     0.0       0.0  0.000000   \n",
       "...        ...         ...      ...         ...     ...       ...       ...   \n",
       "1136       0.0         0.0      0.0         0.0     0.0       0.0  0.000000   \n",
       "1137       0.0         0.0      0.0         0.0     0.0       0.0  0.000000   \n",
       "1138       0.0         0.0      0.0         0.0     0.0       0.0  0.000000   \n",
       "1139       0.0         0.0      0.0         0.0     0.0       0.0  0.000000   \n",
       "1140       0.0         0.0      0.0         0.0     0.0       0.0  0.000000   \n",
       "\n",
       "      êtres  îles  œuvre  \n",
       "0       0.0   0.0    0.0  \n",
       "1       0.0   0.0    0.0  \n",
       "2       0.0   0.0    0.0  \n",
       "3       0.0   0.0    0.0  \n",
       "4       0.0   0.0    0.0  \n",
       "...     ...   ...    ...  \n",
       "1136    0.0   0.0    0.0  \n",
       "1137    0.0   0.0    0.0  \n",
       "1138    0.0   0.0    0.0  \n",
       "1139    0.0   0.0    0.0  \n",
       "1140    0.0   0.0    0.0  \n",
       "\n",
       "[1141 rows x 5967 columns]"
      ]
     },
     "execution_count": 167,
     "metadata": {},
     "output_type": "execute_result"
    }
   ],
   "source": [
    "pd.DataFrame(features.toarray(), columns=vec.get_feature_names())"
   ]
  },
  {
   "cell_type": "code",
   "execution_count": 168,
   "metadata": {},
   "outputs": [
    {
     "data": {
      "text/plain": [
       "(1141, 5967)"
      ]
     },
     "execution_count": 168,
     "metadata": {},
     "output_type": "execute_result"
    }
   ],
   "source": [
    "features.shape"
   ]
  },
  {
   "cell_type": "code",
   "execution_count": 169,
   "metadata": {},
   "outputs": [],
   "source": [
    "from sklearn.neighbors import NearestNeighbors"
   ]
  },
  {
   "cell_type": "code",
   "execution_count": 170,
   "metadata": {},
   "outputs": [
    {
     "data": {
      "text/html": [
       "<style>#sk-container-id-6 {color: black;background-color: white;}#sk-container-id-6 pre{padding: 0;}#sk-container-id-6 div.sk-toggleable {background-color: white;}#sk-container-id-6 label.sk-toggleable__label {cursor: pointer;display: block;width: 100%;margin-bottom: 0;padding: 0.3em;box-sizing: border-box;text-align: center;}#sk-container-id-6 label.sk-toggleable__label-arrow:before {content: \"▸\";float: left;margin-right: 0.25em;color: #696969;}#sk-container-id-6 label.sk-toggleable__label-arrow:hover:before {color: black;}#sk-container-id-6 div.sk-estimator:hover label.sk-toggleable__label-arrow:before {color: black;}#sk-container-id-6 div.sk-toggleable__content {max-height: 0;max-width: 0;overflow: hidden;text-align: left;background-color: #f0f8ff;}#sk-container-id-6 div.sk-toggleable__content pre {margin: 0.2em;color: black;border-radius: 0.25em;background-color: #f0f8ff;}#sk-container-id-6 input.sk-toggleable__control:checked~div.sk-toggleable__content {max-height: 200px;max-width: 100%;overflow: auto;}#sk-container-id-6 input.sk-toggleable__control:checked~label.sk-toggleable__label-arrow:before {content: \"▾\";}#sk-container-id-6 div.sk-estimator input.sk-toggleable__control:checked~label.sk-toggleable__label {background-color: #d4ebff;}#sk-container-id-6 div.sk-label input.sk-toggleable__control:checked~label.sk-toggleable__label {background-color: #d4ebff;}#sk-container-id-6 input.sk-hidden--visually {border: 0;clip: rect(1px 1px 1px 1px);clip: rect(1px, 1px, 1px, 1px);height: 1px;margin: -1px;overflow: hidden;padding: 0;position: absolute;width: 1px;}#sk-container-id-6 div.sk-estimator {font-family: monospace;background-color: #f0f8ff;border: 1px dotted black;border-radius: 0.25em;box-sizing: border-box;margin-bottom: 0.5em;}#sk-container-id-6 div.sk-estimator:hover {background-color: #d4ebff;}#sk-container-id-6 div.sk-parallel-item::after {content: \"\";width: 100%;border-bottom: 1px solid gray;flex-grow: 1;}#sk-container-id-6 div.sk-label:hover label.sk-toggleable__label {background-color: #d4ebff;}#sk-container-id-6 div.sk-serial::before {content: \"\";position: absolute;border-left: 1px solid gray;box-sizing: border-box;top: 0;bottom: 0;left: 50%;z-index: 0;}#sk-container-id-6 div.sk-serial {display: flex;flex-direction: column;align-items: center;background-color: white;padding-right: 0.2em;padding-left: 0.2em;position: relative;}#sk-container-id-6 div.sk-item {position: relative;z-index: 1;}#sk-container-id-6 div.sk-parallel {display: flex;align-items: stretch;justify-content: center;background-color: white;position: relative;}#sk-container-id-6 div.sk-item::before, #sk-container-id-6 div.sk-parallel-item::before {content: \"\";position: absolute;border-left: 1px solid gray;box-sizing: border-box;top: 0;bottom: 0;left: 50%;z-index: -1;}#sk-container-id-6 div.sk-parallel-item {display: flex;flex-direction: column;z-index: 1;position: relative;background-color: white;}#sk-container-id-6 div.sk-parallel-item:first-child::after {align-self: flex-end;width: 50%;}#sk-container-id-6 div.sk-parallel-item:last-child::after {align-self: flex-start;width: 50%;}#sk-container-id-6 div.sk-parallel-item:only-child::after {width: 0;}#sk-container-id-6 div.sk-dashed-wrapped {border: 1px dashed gray;margin: 0 0.4em 0.5em 0.4em;box-sizing: border-box;padding-bottom: 0.4em;background-color: white;}#sk-container-id-6 div.sk-label label {font-family: monospace;font-weight: bold;display: inline-block;line-height: 1.2em;}#sk-container-id-6 div.sk-label-container {text-align: center;}#sk-container-id-6 div.sk-container {/* jupyter's `normalize.less` sets `[hidden] { display: none; }` but bootstrap.min.css set `[hidden] { display: none !important; }` so we also need the `!important` here to be able to override the default hidden behavior on the sphinx rendered scikit-learn.org. See: https://github.com/scikit-learn/scikit-learn/issues/21755 */display: inline-block !important;position: relative;}#sk-container-id-6 div.sk-text-repr-fallback {display: none;}</style><div id=\"sk-container-id-6\" class=\"sk-top-container\"><div class=\"sk-text-repr-fallback\"><pre>NearestNeighbors(n_neighbors=10)</pre><b>In a Jupyter environment, please rerun this cell to show the HTML representation or trust the notebook. <br />On GitHub, the HTML representation is unable to render, please try loading this page with nbviewer.org.</b></div><div class=\"sk-container\" hidden><div class=\"sk-item\"><div class=\"sk-estimator sk-toggleable\"><input class=\"sk-toggleable__control sk-hidden--visually\" id=\"sk-estimator-id-6\" type=\"checkbox\" checked><label for=\"sk-estimator-id-6\" class=\"sk-toggleable__label sk-toggleable__label-arrow\">NearestNeighbors</label><div class=\"sk-toggleable__content\"><pre>NearestNeighbors(n_neighbors=10)</pre></div></div></div></div></div>"
      ],
      "text/plain": [
       "NearestNeighbors(n_neighbors=10)"
      ]
     },
     "execution_count": 170,
     "metadata": {},
     "output_type": "execute_result"
    }
   ],
   "source": [
    "knn = NearestNeighbors(n_neighbors=10)\n",
    "knn.fit(features)"
   ]
  },
  {
   "cell_type": "code",
   "execution_count": 171,
   "metadata": {},
   "outputs": [],
   "source": [
    "X_pred = vec.transform(['Peut on être condamné à une peine de prison si on est atteint de trouble psychologique?'])"
   ]
  },
  {
   "cell_type": "code",
   "execution_count": 178,
   "metadata": {},
   "outputs": [],
   "source": [
    "X_pred = vec.transform(['Quelle est la peine encourue  pour un meurtre ?'])"
   ]
  },
  {
   "cell_type": "code",
   "execution_count": 103,
   "metadata": {},
   "outputs": [],
   "source": [
    "X_pred = vec.transform(['Quelle est la peine encourue  pour un assassinat ?'])"
   ]
  },
  {
   "cell_type": "code",
   "execution_count": 174,
   "metadata": {},
   "outputs": [],
   "source": [
    "X_pred = vec.transform(['Risque t on de la prison pour un vol avec violence ?'])"
   ]
  },
  {
   "cell_type": "code",
   "execution_count": 179,
   "metadata": {},
   "outputs": [
    {
     "data": {
      "text/plain": [
       "(array([[1.1911785 , 1.19238918, 1.26249887, 1.28829811, 1.29025457,\n",
       "         1.3003106 , 1.30776577, 1.31140139, 1.31569008, 1.31707085]]),\n",
       " array([[251, 250, 279,  71, 769, 253, 746, 167, 463, 425]]))"
      ]
     },
     "execution_count": 179,
     "metadata": {},
     "output_type": "execute_result"
    }
   ],
   "source": [
    "knn.kneighbors(X_pred)"
   ]
  },
  {
   "cell_type": "code",
   "execution_count": 180,
   "metadata": {},
   "outputs": [
    {
     "name": "stdout",
     "output_type": "stream",
     "text": [
      "Article 221-2   Le meurtre qui précède, accompagne ou suit un autre crime est puni de la réclusion criminelle à perpétuité. Code pénal - Dernière modification le 01 mai 2022 - Document généré le 11 mai 2022     Le meurtre qui a pour objet soit de préparer ou de faciliter un délit, soit de favoriser la fuite ou d'assurer l'impunité de l'auteur ou du complice d'un délit est puni de la réclusion criminelle à perpétuité.     Les deux premiers alinéas de l'article 132-23 relatif à la période de sûreté sont applicables aux infractions prévues par le présent article.   \n"
     ]
    }
   ],
   "source": [
    " print(livre_un[knn.kneighbors(X_pred, return_distance=False)[0][0]])"
   ]
  },
  {
   "cell_type": "code",
   "execution_count": 181,
   "metadata": {},
   "outputs": [
    {
     "name": "stdout",
     "output_type": "stream",
     "text": [
      "Article 221-2   Le meurtre qui précède, accompagne ou suit un autre crime est puni de la réclusion criminelle à perpétuité. Code pénal - Dernière modification le 01 mai 2022 - Document généré le 11 mai 2022     Le meurtre qui a pour objet soit de préparer ou de faciliter un délit, soit de favoriser la fuite ou d'assurer l'impunité de l'auteur ou du complice d'un délit est puni de la réclusion criminelle à perpétuité.     Les deux premiers alinéas de l'article 132-23 relatif à la période de sûreté sont applicables aux infractions prévues par le présent article.   \n",
      "Article 221-1   Le fait de donner volontairement la mort à autrui constitue un meurtre. Il est puni de trente ans de réclusion criminelle.     \n",
      "Article 222-2   L'infraction définie à l'article 222-1 est punie de la réclusion criminelle à perpétuité lorsqu'elle précède, accompagne ou suit un crime autre que le meurtre ou le viol.     Les deux premiers alinéas de l'article 132-23 relatif à la période de sûreté sont applicables à l'infraction prévue par le présent article.   \n",
      "Article 131-21-2   Lorsqu'elle est encourue à titre de peine complémentaire, l'interdiction de détenir un animal peut être limitée à certains animaux ou certaines catégories d'animaux.     Lorsqu'elle est encourue pour un crime ou un délit, cette interdiction est soit définitive, soit temporaire ; dans ce dernier cas, elle ne peut excéder une durée de cinq ans.   \n",
      "Article 422-2   La peine privative de liberté encourue par l'auteur ou le complice d'un acte de terrorisme est réduite de moitié si, ayant averti les autorités administratives ou judiciaires, il a permis de faire cesser les agissements incriminés ou d'éviter que l'infraction n'entraîne mort d'homme ou infirmité permanente et d'identifier, le cas échéant, les autres coupables. Lorsque la peine encourue est la réclusion criminelle à perpétuité, celle-ci est ramenée à vingt ans de réclusion criminelle.     \n",
      "Article 221-4   Le meurtre est puni de la réclusion criminelle à perpétuité lorsqu'il est commis :   1° Sur un mineur de quinze ans ;   2° Sur un ascendant légitime ou naturel ou sur les père ou mère adoptifs ;   3° Sur une personne dont la particulière vulnérabilité, due à son âge, à une maladie, à une infirmité, à une déficience physique ou psychique ou à un état de grossesse, est apparente ou connue de son auteur ;   4° Sur un magistrat, un juré, un avocat, un officier public ou ministériel, un militaire de la gendarmerie nationale, un fonctionnaire de la police nationale, des douanes, de l'administration pénitentiaire ou toute autre personne dépositaire de l'autorité publique, un sapeur-pompier ou un marin-pompier, un gardien assermenté d'immeubles ou de groupes d'immeubles ou un agent exerçant pour le compte d'un bailleur des fonctions de gardiennage ou de surveillance des immeubles à usage d'habitation en application de l'article L. 271-1 du code de la sécurité intérieure, dans l'exercice ou du fait de ses fonctions, lorsque la qualité de la victime est apparente ou connue de l'auteur ;   4° bis Sur un enseignant ou tout membre des personnels travaillant dans les établissements d'enseignement scolaire, sur un agent d'un exploitant de réseau de transport public de voyageurs ou toute personne chargée d'une mission de service public, ainsi que sur un professionnel de santé, dans l'exercice ou du fait de ses fonctions, lorsque la qualité de la victime est apparente ou connue de l'auteur ;   Code pénal - Dernière modification le 01 mai 2022 - Document généré le 11 mai 2022 4° ter Sur le conjoint, les ascendants ou les descendants en ligne directe ou sur toute autre personne vivant habituellement au domicile des personnes mentionnées aux 4° et 4° bis, en raison des fonctions exercées par ces dernières ;   5° Sur un témoin, une victime ou une partie civile, soit pour l'empêcher de dénoncer les faits, de porter plainte ou de déposer en justice, soit en raison de sa dénonciation, de sa plainte ou de sa déposition ;   6° et 7° (abrogés)   8° Par plusieurs personnes agissant en bande organisée ;   9° Par le conjoint ou le concubin de la victime ou le partenaire lié à la victime par un pacte civil de solidarité ;   10° Contre une personne en raison de son refus de contracter un mariage ou de conclure une union ;   11° Par une personne agissant en état d'ivresse manifeste ou sous l'emprise manifeste de produits stupéfiants.   Les deux premiers alinéas de l'article 132-23 relatif à la période de sûreté sont applicables aux infractions prévues par le présent article. Toutefois, lorsque la victime est un mineur de quinze ans et que le meurtre est précédé ou accompagné d'un viol, de tortures ou d'actes de barbarie ou lorsque le meurtre a été commis sur un magistrat, un fonctionnaire de la police nationale, un militaire de la gendarmerie, un membre du personnel de l'administration pénitentiaire ou toute autre personne dépositaire de l'autorité publique, à l'occasion de l'exercice ou en raison de ses fonctions, la cour d'assises peut, par décision spéciale, soit porter la période de sûreté jusqu'à trente ans, soit, si elle prononce la réclusion criminelle à perpétuité, décider qu'aucune des mesures énumérées à l'article 132-23 ne pourra être accordée au condamné ; en cas de commutation de la peine, et sauf si le décret de grâce en dispose autrement, la période de sûreté est alors égale à la durée de la peine résultant de la mesure de grâce. \n",
      "Article 414-4 Code pénal - Dernière modification le 01 mai 2022 - Document généré le 11 mai 2022   La peine privative de liberté encourue par l'auteur ou le complice des infractions prévues par les articles 411-4, 411-5, 411-7, 411-8 et 412-6 est réduite de moitié si, ayant averti les autorités administratives ou judiciaires, il a permis de faire cesser les agissements incriminés ou d'éviter que l'infraction n'entraîne mort d'homme ou infirmité permanente et d'identifier, le cas échéant, les autres coupables.   Lorsque la peine encourue est la détention criminelle à perpétuité, celle-ci est ramenée à vingt ans de détention criminelle. \n",
      "Article 132-36   La juridiction peut, par décision spéciale, révoquer totalement ou partiellement, pour une durée ou un montant qu'elle détermine, le sursis antérieurement accordé, quelle que soit la peine qu'il accompagne, lorsqu'elle prononce une nouvelle condamnation à une peine de réclusion ou à une peine d'emprisonnement sans sursis.   La juridiction peut, par décision spéciale, révoquer totalement ou partiellement, pour une durée ou un montant qu'elle détermine, le sursis antérieurement accordé qui accompagne une peine quelconque autre que la réclusion ou l'emprisonnement lorsqu'elle prononce une nouvelle condamnation d'une personne physique ou morale à une peine autre que la réclusion ou l'emprisonnement sans sursis.   Code pénal - Dernière modification le 01 mai 2022 - Document généré le 11 mai 2022 Lorsque la juridiction ordonne la révocation du sursis en totalité ou en partie, elle peut, par décision spéciale et motivée, exécutoire par provision, faire incarcérer le condamné.   \n",
      "Article 225-11-1   Toute personne qui a tenté de commettre les infractions prévues par la présente section est exempte de peine si, ayant averti l'autorité administrative ou judiciaire, elle a permis d'éviter la réalisation de l'infraction et d'identifier, le cas échéant, les autres auteurs ou complices.     La peine privative de liberté encourue par l'auteur ou le complice d'une des infractions prévues à la présente section est réduite de moitié si, ayant averti l'autorité administrative ou judiciaire, il a permis de faire cesser l'infraction ou d'éviter que l'infraction n'entraîne mort d'homme ou infirmité permanente et d'identifier, le cas échéant, les autres auteurs ou complices. Lorsque la peine encourue est la réclusion criminelle à perpétuité, celle-ci est ramenée à vingt ans de réclusion criminelle.   \n",
      "Article 224-5-1   Toute personne qui a tenté de commettre les crimes prévus par la présente section est exempte de peine si, ayant averti l'autorité administrative ou judiciaire, elle a permis d'éviter la réalisation de l'infraction et d'identifier, le cas échéant, les autres auteurs ou complices.     La peine privative de liberté encourue par l'auteur ou le complice d'un des crimes prévus à la présente section est réduite de moitié si, ayant averti l'autorité administrative ou judiciaire, il a permis de faire cesser l'infraction ou d'éviter que l'infraction n'entraîne mort d'homme ou infirmité permanente et d'identifier, le cas échéant, les autres auteurs ou complices. Lorsque la peine encourue est la réclusion criminelle à perpétuité, celle-ci est ramenée à vingt ans de réclusion criminelle.   \n"
     ]
    }
   ],
   "source": [
    "for article in knn.kneighbors(X_pred, return_distance=False)[0]: \n",
    "    print(livre_un[article])"
   ]
  },
  {
   "cell_type": "code",
   "execution_count": 41,
   "metadata": {},
   "outputs": [
    {
     "data": {
      "text/plain": [
       "\"Article 122-4   N'est pas pénalement responsable la personne qui accomplit un acte prescrit ou autorisé par des dispositions législatives ou réglementaires.     N'est pas pénalement responsable la personne qui accomplit un acte commandé par l'autorité légitime, sauf si cet acte est manifestement illégal.   \""
      ]
     },
     "execution_count": 41,
     "metadata": {},
     "output_type": "execute_result"
    }
   ],
   "source": [
    "livre_un[38]"
   ]
  },
  {
   "cell_type": "code",
   "execution_count": null,
   "metadata": {},
   "outputs": [],
   "source": []
  }
 ],
 "metadata": {
  "interpreter": {
   "hash": "b383e3f01f6ad2bdb77077b10ec8560c0ae74c59c82da93d52ca881aae79abbd"
  },
  "kernelspec": {
   "display_name": "Python 3.8.12 64-bit ('harvai')",
   "language": "python",
   "name": "python3"
  },
  "language_info": {
   "codemirror_mode": {
    "name": "ipython",
    "version": 3
   },
   "file_extension": ".py",
   "mimetype": "text/x-python",
   "name": "python",
   "nbconvert_exporter": "python",
   "pygments_lexer": "ipython3",
   "version": "3.8.12"
  },
  "orig_nbformat": 4
 },
 "nbformat": 4,
 "nbformat_minor": 2
}
